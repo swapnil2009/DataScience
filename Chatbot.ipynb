{
  "nbformat": 4,
  "nbformat_minor": 0,
  "metadata": {
    "colab": {
      "provenance": [],
      "authorship_tag": "ABX9TyNXU2wYUqVsGx7Gpilus5AV",
      "include_colab_link": true
    },
    "kernelspec": {
      "name": "python3",
      "display_name": "Python 3"
    },
    "language_info": {
      "name": "python"
    }
  },
  "cells": [
    {
      "cell_type": "markdown",
      "metadata": {
        "id": "view-in-github",
        "colab_type": "text"
      },
      "source": [
        "<a href=\"https://colab.research.google.com/github/swapnil2009/DataScience/blob/main/Chatbot.ipynb\" target=\"_parent\"><img src=\"https://colab.research.google.com/assets/colab-badge.svg\" alt=\"Open In Colab\"/></a>"
      ]
    },
    {
      "cell_type": "markdown",
      "source": [],
      "metadata": {
        "id": "L8UDZOaRpweR"
      }
    },
    {
      "cell_type": "markdown",
      "source": [
        "#Chatbot\n",
        "This a simple demo program to show how a chatbot works using a limited knowledge database."
      ],
      "metadata": {
        "id": "H1XCW1QlpuL7"
      }
    },
    {
      "cell_type": "code",
      "source": [
        "!pip install faiss-cpu\n",
        "import faiss\n",
        "import numpy as np\n",
        "from sentence_transformers import SentenceTransformer\n",
        "from transformers import pipeline"
      ],
      "metadata": {
        "id": "7uXEEfATsWH6"
      },
      "execution_count": null,
      "outputs": []
    },
    {
      "cell_type": "code",
      "source": [
        "\n",
        "\n",
        "# Load a sentence transformer model for embedding texts\n",
        "embedder = SentenceTransformer(\"all-MiniLM-L6-v2\")\n",
        "\n",
        "default_knowledge_base = [\n",
        "    \"Quantum computing uses quantum bits (qubits) instead of classical bits.\",\n",
        "    \"Machine learning is a subset of artificial intelligence focused on pattern recognition.\",\n",
        "    \"Neural networks are a type of machine learning model inspired by the human brain.\",\n",
        "    \"The capital of France is Paris.\",\n",
        "    \"Photosynthesis is the process used by plants to convert sunlight into energy.\",\n",
        "    \"Physics is the study of Physical systems\",\n",
        "    \"I am a chatbot\",\n",
        "    \"tangent is sine over cosine\",\n",
        "    \"Black holes are imploded stars\",\n",
        "    \"The Sun will never become a Neutron Star, because it's mass is less than the Chandrasekhar limit\",\n",
        "    \"Doing is an action verb\"\n",
        "]\n",
        "\n",
        "# Encode documents into embeddings\n",
        "document_embeddings = np.array(embedder.encode(default_knowledge_base))\n",
        "\n",
        "dim = document_embeddings.shape[1]  # Embedding dimension\n",
        "index = faiss.IndexFlatL2(dim)\n",
        "index.add(document_embeddings)  # Add document embeddings to FAISS index\n",
        "\n",
        "qa_model = pipeline(\"text-generation\", model=\"facebook/opt-1.3b\")\n",
        "\n",
        "def retrieve_context(query, top_k=1):\n",
        "    query_embedding = embedder.encode([query])\n",
        "    distances, indices = index.search(query_embedding, top_k)\n",
        "    retrieved_docs = [default_knowledge_base[i] for i in indices[0]]\n",
        "    return \"\\n\".join(retrieved_docs)\n",
        "\n",
        "def generate_response(query):\n",
        "    context = retrieve_context(query)\n",
        "    prompt = f\"Context: {context}\\nQuestion: {query}\\nAnswer:\"\n",
        "\n",
        "    response = qa_model(prompt, max_length=100, num_return_sequences=1, truncation=True)\n",
        "    return response[0]['generated_text'].split(\"Answer:\")[-1].strip()\n",
        "\n",
        "# Chat loop\n",
        "print(\"RAG Chatbot. Type 'exit' to quit.\")\n",
        "while True:\n",
        "    user_query = input(\"You: \")\n",
        "    if user_query.lower() == 'exit':\n",
        "        break\n",
        "    response = generate_response(user_query)\n",
        "    print(\"Bot:\", response)\n"
      ],
      "metadata": {
        "colab": {
          "base_uri": "https://localhost:8080/"
        },
        "id": "oKEBKDUc3dmb",
        "outputId": "f4cc7d40-9e62-44e8-eba0-72924343f2b4"
      },
      "execution_count": null,
      "outputs": [
        {
          "output_type": "stream",
          "name": "stderr",
          "text": [
            "Device set to use cpu\n"
          ]
        },
        {
          "output_type": "stream",
          "name": "stdout",
          "text": [
            "RAG Chatbot. Type 'exit' to quit.\n",
            "You: What is Machine Learning?\n",
            "Bot: Machine learning is a subset of artificial intelligence focused on pattern recognition.\n",
            "\n",
            "Context: Machine learning is a subset of artificial intelligence focused on pattern recognition.\n",
            "Question\n"
          ]
        }
      ]
    }
  ]
}