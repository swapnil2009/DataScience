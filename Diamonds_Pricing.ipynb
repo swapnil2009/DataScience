{
  "metadata": {
    "kernelspec": {
      "language": "python",
      "display_name": "Python 3",
      "name": "python3"
    },
    "language_info": {
      "pygments_lexer": "ipython3",
      "nbconvert_exporter": "python",
      "version": "3.6.4",
      "file_extension": ".py",
      "codemirror_mode": {
        "name": "ipython",
        "version": 3
      },
      "name": "python",
      "mimetype": "text/x-python"
    },
    "kaggle": {
      "accelerator": "none",
      "dataSources": [
        {
          "sourceId": 4589225,
          "sourceType": "datasetVersion",
          "datasetId": 2675404
        }
      ],
      "dockerImageVersionId": 30301,
      "isInternetEnabled": false,
      "language": "python",
      "sourceType": "notebook",
      "isGpuEnabled": false
    },
    "colab": {
      "provenance": [],
      "include_colab_link": true
    }
  },
  "nbformat_minor": 0,
  "nbformat": 4,
  "cells": [
    {
      "cell_type": "markdown",
      "metadata": {
        "id": "view-in-github",
        "colab_type": "text"
      },
      "source": [
        "<a href=\"https://colab.research.google.com/github/swapnil2009/DataScience/blob/main/Diamonds_Pricing.ipynb\" target=\"_parent\"><img src=\"https://colab.research.google.com/assets/colab-badge.svg\" alt=\"Open In Colab\"/></a>"
      ]
    },
    {
      "cell_type": "markdown",
      "source": [
        "* Diamond is a solid form of the element carbon.\n",
        "* It is the hardest material found on Earth.\n",
        "* Unlike other non-metals, diamond has a high termal conductivity.\n",
        "* Due to these reasons, Diamond is a very expensive material.\n",
        "In the following program, we will prepare a Linear Regression Model to predict the price of diamond given its properties like the cut, purity, etc."
      ],
      "metadata": {
        "id": "_5Fhm-H8HrR9"
      }
    },
    {
      "cell_type": "markdown",
      "source": [
        "# **1. Domain Knowledge**"
      ],
      "metadata": {
        "id": "2NgxBtOPHrR_"
      }
    },
    {
      "cell_type": "code",
      "source": [
        "# Importing Libraries\n",
        "import numpy as np\n",
        "import pandas as pd\n",
        "import seaborn as sns\n",
        "import matplotlib.pyplot as plt\n",
        "from sklearn.model_selection import train_test_split\n",
        "from sklearn.linear_model import LinearRegression\n",
        "from sklearn.metrics import mean_squared_error as mse\n",
        "from sklearn.metrics import mean_absolute_error as mae"
      ],
      "metadata": {
        "_uuid": "8f2839f25d086af736a60e9eeb907d3b93b6e0e5",
        "_cell_guid": "b1076dfc-b9ad-4769-8c92-a6c4dae69d19",
        "execution": {
          "iopub.status.busy": "2022-11-27T11:06:34.393767Z",
          "iopub.execute_input": "2022-11-27T11:06:34.394202Z",
          "iopub.status.idle": "2022-11-27T11:06:34.4008Z",
          "shell.execute_reply.started": "2022-11-27T11:06:34.394167Z",
          "shell.execute_reply": "2022-11-27T11:06:34.399572Z"
        },
        "trusted": true,
        "id": "LnGmXtkPHrR_"
      },
      "outputs": [],
      "execution_count": 3
    },
    {
      "cell_type": "code",
      "source": [
        "# Importing the data set\n",
        "df=pd.read_csv(\"diamonds.csv\")\n",
        "df.head()"
      ],
      "metadata": {
        "execution": {
          "iopub.status.busy": "2022-11-27T11:06:34.405865Z",
          "iopub.execute_input": "2022-11-27T11:06:34.406286Z",
          "iopub.status.idle": "2022-11-27T11:06:34.494933Z",
          "shell.execute_reply.started": "2022-11-27T11:06:34.406251Z",
          "shell.execute_reply": "2022-11-27T11:06:34.493701Z"
        },
        "trusted": true,
        "colab": {
          "base_uri": "https://localhost:8080/",
          "height": 206
        },
        "id": "0ruJQui1HrSA",
        "outputId": "29c9c1e4-8353-4e33-b30a-ce106441ded1"
      },
      "outputs": [
        {
          "output_type": "execute_result",
          "data": {
            "text/plain": [
              "   Unnamed: 0  carat      cut color clarity  depth  table  price     x     y  \\\n",
              "0           1   0.23    Ideal     E     SI2   61.5   55.0    326  3.95  3.98   \n",
              "1           2   0.21  Premium     E     SI1   59.8   61.0    326  3.89  3.84   \n",
              "2           3   0.23     Good     E     VS1   56.9   65.0    327  4.05  4.07   \n",
              "3           4   0.29  Premium     I     VS2   62.4   58.0    334  4.20  4.23   \n",
              "4           5   0.31     Good     J     SI2   63.3   58.0    335  4.34  4.35   \n",
              "\n",
              "      z  \n",
              "0  2.43  \n",
              "1  2.31  \n",
              "2  2.31  \n",
              "3  2.63  \n",
              "4  2.75  "
            ],
            "text/html": [
              "\n",
              "  <div id=\"df-aa2fb067-520a-4083-b15e-8e7eadf2c9a8\" class=\"colab-df-container\">\n",
              "    <div>\n",
              "<style scoped>\n",
              "    .dataframe tbody tr th:only-of-type {\n",
              "        vertical-align: middle;\n",
              "    }\n",
              "\n",
              "    .dataframe tbody tr th {\n",
              "        vertical-align: top;\n",
              "    }\n",
              "\n",
              "    .dataframe thead th {\n",
              "        text-align: right;\n",
              "    }\n",
              "</style>\n",
              "<table border=\"1\" class=\"dataframe\">\n",
              "  <thead>\n",
              "    <tr style=\"text-align: right;\">\n",
              "      <th></th>\n",
              "      <th>Unnamed: 0</th>\n",
              "      <th>carat</th>\n",
              "      <th>cut</th>\n",
              "      <th>color</th>\n",
              "      <th>clarity</th>\n",
              "      <th>depth</th>\n",
              "      <th>table</th>\n",
              "      <th>price</th>\n",
              "      <th>x</th>\n",
              "      <th>y</th>\n",
              "      <th>z</th>\n",
              "    </tr>\n",
              "  </thead>\n",
              "  <tbody>\n",
              "    <tr>\n",
              "      <th>0</th>\n",
              "      <td>1</td>\n",
              "      <td>0.23</td>\n",
              "      <td>Ideal</td>\n",
              "      <td>E</td>\n",
              "      <td>SI2</td>\n",
              "      <td>61.5</td>\n",
              "      <td>55.0</td>\n",
              "      <td>326</td>\n",
              "      <td>3.95</td>\n",
              "      <td>3.98</td>\n",
              "      <td>2.43</td>\n",
              "    </tr>\n",
              "    <tr>\n",
              "      <th>1</th>\n",
              "      <td>2</td>\n",
              "      <td>0.21</td>\n",
              "      <td>Premium</td>\n",
              "      <td>E</td>\n",
              "      <td>SI1</td>\n",
              "      <td>59.8</td>\n",
              "      <td>61.0</td>\n",
              "      <td>326</td>\n",
              "      <td>3.89</td>\n",
              "      <td>3.84</td>\n",
              "      <td>2.31</td>\n",
              "    </tr>\n",
              "    <tr>\n",
              "      <th>2</th>\n",
              "      <td>3</td>\n",
              "      <td>0.23</td>\n",
              "      <td>Good</td>\n",
              "      <td>E</td>\n",
              "      <td>VS1</td>\n",
              "      <td>56.9</td>\n",
              "      <td>65.0</td>\n",
              "      <td>327</td>\n",
              "      <td>4.05</td>\n",
              "      <td>4.07</td>\n",
              "      <td>2.31</td>\n",
              "    </tr>\n",
              "    <tr>\n",
              "      <th>3</th>\n",
              "      <td>4</td>\n",
              "      <td>0.29</td>\n",
              "      <td>Premium</td>\n",
              "      <td>I</td>\n",
              "      <td>VS2</td>\n",
              "      <td>62.4</td>\n",
              "      <td>58.0</td>\n",
              "      <td>334</td>\n",
              "      <td>4.20</td>\n",
              "      <td>4.23</td>\n",
              "      <td>2.63</td>\n",
              "    </tr>\n",
              "    <tr>\n",
              "      <th>4</th>\n",
              "      <td>5</td>\n",
              "      <td>0.31</td>\n",
              "      <td>Good</td>\n",
              "      <td>J</td>\n",
              "      <td>SI2</td>\n",
              "      <td>63.3</td>\n",
              "      <td>58.0</td>\n",
              "      <td>335</td>\n",
              "      <td>4.34</td>\n",
              "      <td>4.35</td>\n",
              "      <td>2.75</td>\n",
              "    </tr>\n",
              "  </tbody>\n",
              "</table>\n",
              "</div>\n",
              "    <div class=\"colab-df-buttons\">\n",
              "\n",
              "  <div class=\"colab-df-container\">\n",
              "    <button class=\"colab-df-convert\" onclick=\"convertToInteractive('df-aa2fb067-520a-4083-b15e-8e7eadf2c9a8')\"\n",
              "            title=\"Convert this dataframe to an interactive table.\"\n",
              "            style=\"display:none;\">\n",
              "\n",
              "  <svg xmlns=\"http://www.w3.org/2000/svg\" height=\"24px\" viewBox=\"0 -960 960 960\">\n",
              "    <path d=\"M120-120v-720h720v720H120Zm60-500h600v-160H180v160Zm220 220h160v-160H400v160Zm0 220h160v-160H400v160ZM180-400h160v-160H180v160Zm440 0h160v-160H620v160ZM180-180h160v-160H180v160Zm440 0h160v-160H620v160Z\"/>\n",
              "  </svg>\n",
              "    </button>\n",
              "\n",
              "  <style>\n",
              "    .colab-df-container {\n",
              "      display:flex;\n",
              "      gap: 12px;\n",
              "    }\n",
              "\n",
              "    .colab-df-convert {\n",
              "      background-color: #E8F0FE;\n",
              "      border: none;\n",
              "      border-radius: 50%;\n",
              "      cursor: pointer;\n",
              "      display: none;\n",
              "      fill: #1967D2;\n",
              "      height: 32px;\n",
              "      padding: 0 0 0 0;\n",
              "      width: 32px;\n",
              "    }\n",
              "\n",
              "    .colab-df-convert:hover {\n",
              "      background-color: #E2EBFA;\n",
              "      box-shadow: 0px 1px 2px rgba(60, 64, 67, 0.3), 0px 1px 3px 1px rgba(60, 64, 67, 0.15);\n",
              "      fill: #174EA6;\n",
              "    }\n",
              "\n",
              "    .colab-df-buttons div {\n",
              "      margin-bottom: 4px;\n",
              "    }\n",
              "\n",
              "    [theme=dark] .colab-df-convert {\n",
              "      background-color: #3B4455;\n",
              "      fill: #D2E3FC;\n",
              "    }\n",
              "\n",
              "    [theme=dark] .colab-df-convert:hover {\n",
              "      background-color: #434B5C;\n",
              "      box-shadow: 0px 1px 3px 1px rgba(0, 0, 0, 0.15);\n",
              "      filter: drop-shadow(0px 1px 2px rgba(0, 0, 0, 0.3));\n",
              "      fill: #FFFFFF;\n",
              "    }\n",
              "  </style>\n",
              "\n",
              "    <script>\n",
              "      const buttonEl =\n",
              "        document.querySelector('#df-aa2fb067-520a-4083-b15e-8e7eadf2c9a8 button.colab-df-convert');\n",
              "      buttonEl.style.display =\n",
              "        google.colab.kernel.accessAllowed ? 'block' : 'none';\n",
              "\n",
              "      async function convertToInteractive(key) {\n",
              "        const element = document.querySelector('#df-aa2fb067-520a-4083-b15e-8e7eadf2c9a8');\n",
              "        const dataTable =\n",
              "          await google.colab.kernel.invokeFunction('convertToInteractive',\n",
              "                                                    [key], {});\n",
              "        if (!dataTable) return;\n",
              "\n",
              "        const docLinkHtml = 'Like what you see? Visit the ' +\n",
              "          '<a target=\"_blank\" href=https://colab.research.google.com/notebooks/data_table.ipynb>data table notebook</a>'\n",
              "          + ' to learn more about interactive tables.';\n",
              "        element.innerHTML = '';\n",
              "        dataTable['output_type'] = 'display_data';\n",
              "        await google.colab.output.renderOutput(dataTable, element);\n",
              "        const docLink = document.createElement('div');\n",
              "        docLink.innerHTML = docLinkHtml;\n",
              "        element.appendChild(docLink);\n",
              "      }\n",
              "    </script>\n",
              "  </div>\n",
              "\n",
              "\n",
              "<div id=\"df-02190acb-6bcc-4eef-93c4-49128430d6df\">\n",
              "  <button class=\"colab-df-quickchart\" onclick=\"quickchart('df-02190acb-6bcc-4eef-93c4-49128430d6df')\"\n",
              "            title=\"Suggest charts\"\n",
              "            style=\"display:none;\">\n",
              "\n",
              "<svg xmlns=\"http://www.w3.org/2000/svg\" height=\"24px\"viewBox=\"0 0 24 24\"\n",
              "     width=\"24px\">\n",
              "    <g>\n",
              "        <path d=\"M19 3H5c-1.1 0-2 .9-2 2v14c0 1.1.9 2 2 2h14c1.1 0 2-.9 2-2V5c0-1.1-.9-2-2-2zM9 17H7v-7h2v7zm4 0h-2V7h2v10zm4 0h-2v-4h2v4z\"/>\n",
              "    </g>\n",
              "</svg>\n",
              "  </button>\n",
              "\n",
              "<style>\n",
              "  .colab-df-quickchart {\n",
              "      --bg-color: #E8F0FE;\n",
              "      --fill-color: #1967D2;\n",
              "      --hover-bg-color: #E2EBFA;\n",
              "      --hover-fill-color: #174EA6;\n",
              "      --disabled-fill-color: #AAA;\n",
              "      --disabled-bg-color: #DDD;\n",
              "  }\n",
              "\n",
              "  [theme=dark] .colab-df-quickchart {\n",
              "      --bg-color: #3B4455;\n",
              "      --fill-color: #D2E3FC;\n",
              "      --hover-bg-color: #434B5C;\n",
              "      --hover-fill-color: #FFFFFF;\n",
              "      --disabled-bg-color: #3B4455;\n",
              "      --disabled-fill-color: #666;\n",
              "  }\n",
              "\n",
              "  .colab-df-quickchart {\n",
              "    background-color: var(--bg-color);\n",
              "    border: none;\n",
              "    border-radius: 50%;\n",
              "    cursor: pointer;\n",
              "    display: none;\n",
              "    fill: var(--fill-color);\n",
              "    height: 32px;\n",
              "    padding: 0;\n",
              "    width: 32px;\n",
              "  }\n",
              "\n",
              "  .colab-df-quickchart:hover {\n",
              "    background-color: var(--hover-bg-color);\n",
              "    box-shadow: 0 1px 2px rgba(60, 64, 67, 0.3), 0 1px 3px 1px rgba(60, 64, 67, 0.15);\n",
              "    fill: var(--button-hover-fill-color);\n",
              "  }\n",
              "\n",
              "  .colab-df-quickchart-complete:disabled,\n",
              "  .colab-df-quickchart-complete:disabled:hover {\n",
              "    background-color: var(--disabled-bg-color);\n",
              "    fill: var(--disabled-fill-color);\n",
              "    box-shadow: none;\n",
              "  }\n",
              "\n",
              "  .colab-df-spinner {\n",
              "    border: 2px solid var(--fill-color);\n",
              "    border-color: transparent;\n",
              "    border-bottom-color: var(--fill-color);\n",
              "    animation:\n",
              "      spin 1s steps(1) infinite;\n",
              "  }\n",
              "\n",
              "  @keyframes spin {\n",
              "    0% {\n",
              "      border-color: transparent;\n",
              "      border-bottom-color: var(--fill-color);\n",
              "      border-left-color: var(--fill-color);\n",
              "    }\n",
              "    20% {\n",
              "      border-color: transparent;\n",
              "      border-left-color: var(--fill-color);\n",
              "      border-top-color: var(--fill-color);\n",
              "    }\n",
              "    30% {\n",
              "      border-color: transparent;\n",
              "      border-left-color: var(--fill-color);\n",
              "      border-top-color: var(--fill-color);\n",
              "      border-right-color: var(--fill-color);\n",
              "    }\n",
              "    40% {\n",
              "      border-color: transparent;\n",
              "      border-right-color: var(--fill-color);\n",
              "      border-top-color: var(--fill-color);\n",
              "    }\n",
              "    60% {\n",
              "      border-color: transparent;\n",
              "      border-right-color: var(--fill-color);\n",
              "    }\n",
              "    80% {\n",
              "      border-color: transparent;\n",
              "      border-right-color: var(--fill-color);\n",
              "      border-bottom-color: var(--fill-color);\n",
              "    }\n",
              "    90% {\n",
              "      border-color: transparent;\n",
              "      border-bottom-color: var(--fill-color);\n",
              "    }\n",
              "  }\n",
              "</style>\n",
              "\n",
              "  <script>\n",
              "    async function quickchart(key) {\n",
              "      const quickchartButtonEl =\n",
              "        document.querySelector('#' + key + ' button');\n",
              "      quickchartButtonEl.disabled = true;  // To prevent multiple clicks.\n",
              "      quickchartButtonEl.classList.add('colab-df-spinner');\n",
              "      try {\n",
              "        const charts = await google.colab.kernel.invokeFunction(\n",
              "            'suggestCharts', [key], {});\n",
              "      } catch (error) {\n",
              "        console.error('Error during call to suggestCharts:', error);\n",
              "      }\n",
              "      quickchartButtonEl.classList.remove('colab-df-spinner');\n",
              "      quickchartButtonEl.classList.add('colab-df-quickchart-complete');\n",
              "    }\n",
              "    (() => {\n",
              "      let quickchartButtonEl =\n",
              "        document.querySelector('#df-02190acb-6bcc-4eef-93c4-49128430d6df button');\n",
              "      quickchartButtonEl.style.display =\n",
              "        google.colab.kernel.accessAllowed ? 'block' : 'none';\n",
              "    })();\n",
              "  </script>\n",
              "</div>\n",
              "\n",
              "    </div>\n",
              "  </div>\n"
            ],
            "application/vnd.google.colaboratory.intrinsic+json": {
              "type": "dataframe",
              "variable_name": "df",
              "summary": "{\n  \"name\": \"df\",\n  \"rows\": 53940,\n  \"fields\": [\n    {\n      \"column\": \"Unnamed: 0\",\n      \"properties\": {\n        \"dtype\": \"number\",\n        \"std\": 15571,\n        \"min\": 1,\n        \"max\": 53940,\n        \"num_unique_values\": 53940,\n        \"samples\": [\n          1389,\n          50053,\n          41646\n        ],\n        \"semantic_type\": \"\",\n        \"description\": \"\"\n      }\n    },\n    {\n      \"column\": \"carat\",\n      \"properties\": {\n        \"dtype\": \"number\",\n        \"std\": 0.47401124440538067,\n        \"min\": 0.2,\n        \"max\": 5.01,\n        \"num_unique_values\": 273,\n        \"samples\": [\n          0.77,\n          1.58,\n          0.65\n        ],\n        \"semantic_type\": \"\",\n        \"description\": \"\"\n      }\n    },\n    {\n      \"column\": \"cut\",\n      \"properties\": {\n        \"dtype\": \"category\",\n        \"num_unique_values\": 5,\n        \"samples\": [\n          \"Premium\",\n          \"Fair\",\n          \"Good\"\n        ],\n        \"semantic_type\": \"\",\n        \"description\": \"\"\n      }\n    },\n    {\n      \"column\": \"color\",\n      \"properties\": {\n        \"dtype\": \"category\",\n        \"num_unique_values\": 7,\n        \"samples\": [\n          \"E\",\n          \"I\",\n          \"G\"\n        ],\n        \"semantic_type\": \"\",\n        \"description\": \"\"\n      }\n    },\n    {\n      \"column\": \"clarity\",\n      \"properties\": {\n        \"dtype\": \"category\",\n        \"num_unique_values\": 8,\n        \"samples\": [\n          \"SI1\",\n          \"VVS1\",\n          \"SI2\"\n        ],\n        \"semantic_type\": \"\",\n        \"description\": \"\"\n      }\n    },\n    {\n      \"column\": \"depth\",\n      \"properties\": {\n        \"dtype\": \"number\",\n        \"std\": 1.4326213188337733,\n        \"min\": 43.0,\n        \"max\": 79.0,\n        \"num_unique_values\": 184,\n        \"samples\": [\n          61.0,\n          62.9,\n          70.2\n        ],\n        \"semantic_type\": \"\",\n        \"description\": \"\"\n      }\n    },\n    {\n      \"column\": \"table\",\n      \"properties\": {\n        \"dtype\": \"number\",\n        \"std\": 2.234490562820938,\n        \"min\": 43.0,\n        \"max\": 95.0,\n        \"num_unique_values\": 127,\n        \"samples\": [\n          54.8,\n          61.5,\n          57.6\n        ],\n        \"semantic_type\": \"\",\n        \"description\": \"\"\n      }\n    },\n    {\n      \"column\": \"price\",\n      \"properties\": {\n        \"dtype\": \"number\",\n        \"std\": 3989,\n        \"min\": 326,\n        \"max\": 18823,\n        \"num_unique_values\": 11602,\n        \"samples\": [\n          16368,\n          895,\n          748\n        ],\n        \"semantic_type\": \"\",\n        \"description\": \"\"\n      }\n    },\n    {\n      \"column\": \"x\",\n      \"properties\": {\n        \"dtype\": \"number\",\n        \"std\": 1.1217607467924422,\n        \"min\": 0.0,\n        \"max\": 10.74,\n        \"num_unique_values\": 554,\n        \"samples\": [\n          5.88,\n          5.69,\n          4.61\n        ],\n        \"semantic_type\": \"\",\n        \"description\": \"\"\n      }\n    },\n    {\n      \"column\": \"y\",\n      \"properties\": {\n        \"dtype\": \"number\",\n        \"std\": 1.1421346741235396,\n        \"min\": 0.0,\n        \"max\": 58.9,\n        \"num_unique_values\": 552,\n        \"samples\": [\n          5.33,\n          5.61,\n          5.25\n        ],\n        \"semantic_type\": \"\",\n        \"description\": \"\"\n      }\n    },\n    {\n      \"column\": \"z\",\n      \"properties\": {\n        \"dtype\": \"number\",\n        \"std\": 0.7056988469499964,\n        \"min\": 0.0,\n        \"max\": 31.8,\n        \"num_unique_values\": 375,\n        \"samples\": [\n          3.36,\n          2.45,\n          2.7\n        ],\n        \"semantic_type\": \"\",\n        \"description\": \"\"\n      }\n    }\n  ]\n}"
            }
          },
          "metadata": {},
          "execution_count": 4
        }
      ],
      "execution_count": 4
    },
    {
      "cell_type": "code",
      "source": [
        "# Removing the first column coz not needed\n",
        "df=df.drop([\"Unnamed: 0\"],axis=1)\n",
        "df.head()"
      ],
      "metadata": {
        "execution": {
          "iopub.status.busy": "2022-11-27T11:06:34.497444Z",
          "iopub.execute_input": "2022-11-27T11:06:34.4983Z",
          "iopub.status.idle": "2022-11-27T11:06:34.5203Z",
          "shell.execute_reply.started": "2022-11-27T11:06:34.498247Z",
          "shell.execute_reply": "2022-11-27T11:06:34.519194Z"
        },
        "trusted": true,
        "colab": {
          "base_uri": "https://localhost:8080/",
          "height": 206
        },
        "id": "93_FHs-uHrSA",
        "outputId": "339076b8-128e-4763-b8ac-b8771471e1f3"
      },
      "outputs": [
        {
          "output_type": "execute_result",
          "data": {
            "text/plain": [
              "   carat      cut color clarity  depth  table  price     x     y     z\n",
              "0   0.23    Ideal     E     SI2   61.5   55.0    326  3.95  3.98  2.43\n",
              "1   0.21  Premium     E     SI1   59.8   61.0    326  3.89  3.84  2.31\n",
              "2   0.23     Good     E     VS1   56.9   65.0    327  4.05  4.07  2.31\n",
              "3   0.29  Premium     I     VS2   62.4   58.0    334  4.20  4.23  2.63\n",
              "4   0.31     Good     J     SI2   63.3   58.0    335  4.34  4.35  2.75"
            ],
            "text/html": [
              "\n",
              "  <div id=\"df-6eaff0e0-75bd-4bfd-b7da-08ed0f1bb023\" class=\"colab-df-container\">\n",
              "    <div>\n",
              "<style scoped>\n",
              "    .dataframe tbody tr th:only-of-type {\n",
              "        vertical-align: middle;\n",
              "    }\n",
              "\n",
              "    .dataframe tbody tr th {\n",
              "        vertical-align: top;\n",
              "    }\n",
              "\n",
              "    .dataframe thead th {\n",
              "        text-align: right;\n",
              "    }\n",
              "</style>\n",
              "<table border=\"1\" class=\"dataframe\">\n",
              "  <thead>\n",
              "    <tr style=\"text-align: right;\">\n",
              "      <th></th>\n",
              "      <th>carat</th>\n",
              "      <th>cut</th>\n",
              "      <th>color</th>\n",
              "      <th>clarity</th>\n",
              "      <th>depth</th>\n",
              "      <th>table</th>\n",
              "      <th>price</th>\n",
              "      <th>x</th>\n",
              "      <th>y</th>\n",
              "      <th>z</th>\n",
              "    </tr>\n",
              "  </thead>\n",
              "  <tbody>\n",
              "    <tr>\n",
              "      <th>0</th>\n",
              "      <td>0.23</td>\n",
              "      <td>Ideal</td>\n",
              "      <td>E</td>\n",
              "      <td>SI2</td>\n",
              "      <td>61.5</td>\n",
              "      <td>55.0</td>\n",
              "      <td>326</td>\n",
              "      <td>3.95</td>\n",
              "      <td>3.98</td>\n",
              "      <td>2.43</td>\n",
              "    </tr>\n",
              "    <tr>\n",
              "      <th>1</th>\n",
              "      <td>0.21</td>\n",
              "      <td>Premium</td>\n",
              "      <td>E</td>\n",
              "      <td>SI1</td>\n",
              "      <td>59.8</td>\n",
              "      <td>61.0</td>\n",
              "      <td>326</td>\n",
              "      <td>3.89</td>\n",
              "      <td>3.84</td>\n",
              "      <td>2.31</td>\n",
              "    </tr>\n",
              "    <tr>\n",
              "      <th>2</th>\n",
              "      <td>0.23</td>\n",
              "      <td>Good</td>\n",
              "      <td>E</td>\n",
              "      <td>VS1</td>\n",
              "      <td>56.9</td>\n",
              "      <td>65.0</td>\n",
              "      <td>327</td>\n",
              "      <td>4.05</td>\n",
              "      <td>4.07</td>\n",
              "      <td>2.31</td>\n",
              "    </tr>\n",
              "    <tr>\n",
              "      <th>3</th>\n",
              "      <td>0.29</td>\n",
              "      <td>Premium</td>\n",
              "      <td>I</td>\n",
              "      <td>VS2</td>\n",
              "      <td>62.4</td>\n",
              "      <td>58.0</td>\n",
              "      <td>334</td>\n",
              "      <td>4.20</td>\n",
              "      <td>4.23</td>\n",
              "      <td>2.63</td>\n",
              "    </tr>\n",
              "    <tr>\n",
              "      <th>4</th>\n",
              "      <td>0.31</td>\n",
              "      <td>Good</td>\n",
              "      <td>J</td>\n",
              "      <td>SI2</td>\n",
              "      <td>63.3</td>\n",
              "      <td>58.0</td>\n",
              "      <td>335</td>\n",
              "      <td>4.34</td>\n",
              "      <td>4.35</td>\n",
              "      <td>2.75</td>\n",
              "    </tr>\n",
              "  </tbody>\n",
              "</table>\n",
              "</div>\n",
              "    <div class=\"colab-df-buttons\">\n",
              "\n",
              "  <div class=\"colab-df-container\">\n",
              "    <button class=\"colab-df-convert\" onclick=\"convertToInteractive('df-6eaff0e0-75bd-4bfd-b7da-08ed0f1bb023')\"\n",
              "            title=\"Convert this dataframe to an interactive table.\"\n",
              "            style=\"display:none;\">\n",
              "\n",
              "  <svg xmlns=\"http://www.w3.org/2000/svg\" height=\"24px\" viewBox=\"0 -960 960 960\">\n",
              "    <path d=\"M120-120v-720h720v720H120Zm60-500h600v-160H180v160Zm220 220h160v-160H400v160Zm0 220h160v-160H400v160ZM180-400h160v-160H180v160Zm440 0h160v-160H620v160ZM180-180h160v-160H180v160Zm440 0h160v-160H620v160Z\"/>\n",
              "  </svg>\n",
              "    </button>\n",
              "\n",
              "  <style>\n",
              "    .colab-df-container {\n",
              "      display:flex;\n",
              "      gap: 12px;\n",
              "    }\n",
              "\n",
              "    .colab-df-convert {\n",
              "      background-color: #E8F0FE;\n",
              "      border: none;\n",
              "      border-radius: 50%;\n",
              "      cursor: pointer;\n",
              "      display: none;\n",
              "      fill: #1967D2;\n",
              "      height: 32px;\n",
              "      padding: 0 0 0 0;\n",
              "      width: 32px;\n",
              "    }\n",
              "\n",
              "    .colab-df-convert:hover {\n",
              "      background-color: #E2EBFA;\n",
              "      box-shadow: 0px 1px 2px rgba(60, 64, 67, 0.3), 0px 1px 3px 1px rgba(60, 64, 67, 0.15);\n",
              "      fill: #174EA6;\n",
              "    }\n",
              "\n",
              "    .colab-df-buttons div {\n",
              "      margin-bottom: 4px;\n",
              "    }\n",
              "\n",
              "    [theme=dark] .colab-df-convert {\n",
              "      background-color: #3B4455;\n",
              "      fill: #D2E3FC;\n",
              "    }\n",
              "\n",
              "    [theme=dark] .colab-df-convert:hover {\n",
              "      background-color: #434B5C;\n",
              "      box-shadow: 0px 1px 3px 1px rgba(0, 0, 0, 0.15);\n",
              "      filter: drop-shadow(0px 1px 2px rgba(0, 0, 0, 0.3));\n",
              "      fill: #FFFFFF;\n",
              "    }\n",
              "  </style>\n",
              "\n",
              "    <script>\n",
              "      const buttonEl =\n",
              "        document.querySelector('#df-6eaff0e0-75bd-4bfd-b7da-08ed0f1bb023 button.colab-df-convert');\n",
              "      buttonEl.style.display =\n",
              "        google.colab.kernel.accessAllowed ? 'block' : 'none';\n",
              "\n",
              "      async function convertToInteractive(key) {\n",
              "        const element = document.querySelector('#df-6eaff0e0-75bd-4bfd-b7da-08ed0f1bb023');\n",
              "        const dataTable =\n",
              "          await google.colab.kernel.invokeFunction('convertToInteractive',\n",
              "                                                    [key], {});\n",
              "        if (!dataTable) return;\n",
              "\n",
              "        const docLinkHtml = 'Like what you see? Visit the ' +\n",
              "          '<a target=\"_blank\" href=https://colab.research.google.com/notebooks/data_table.ipynb>data table notebook</a>'\n",
              "          + ' to learn more about interactive tables.';\n",
              "        element.innerHTML = '';\n",
              "        dataTable['output_type'] = 'display_data';\n",
              "        await google.colab.output.renderOutput(dataTable, element);\n",
              "        const docLink = document.createElement('div');\n",
              "        docLink.innerHTML = docLinkHtml;\n",
              "        element.appendChild(docLink);\n",
              "      }\n",
              "    </script>\n",
              "  </div>\n",
              "\n",
              "\n",
              "<div id=\"df-07f8836b-4a4e-4df7-8f0c-5e0a2ae90a3e\">\n",
              "  <button class=\"colab-df-quickchart\" onclick=\"quickchart('df-07f8836b-4a4e-4df7-8f0c-5e0a2ae90a3e')\"\n",
              "            title=\"Suggest charts\"\n",
              "            style=\"display:none;\">\n",
              "\n",
              "<svg xmlns=\"http://www.w3.org/2000/svg\" height=\"24px\"viewBox=\"0 0 24 24\"\n",
              "     width=\"24px\">\n",
              "    <g>\n",
              "        <path d=\"M19 3H5c-1.1 0-2 .9-2 2v14c0 1.1.9 2 2 2h14c1.1 0 2-.9 2-2V5c0-1.1-.9-2-2-2zM9 17H7v-7h2v7zm4 0h-2V7h2v10zm4 0h-2v-4h2v4z\"/>\n",
              "    </g>\n",
              "</svg>\n",
              "  </button>\n",
              "\n",
              "<style>\n",
              "  .colab-df-quickchart {\n",
              "      --bg-color: #E8F0FE;\n",
              "      --fill-color: #1967D2;\n",
              "      --hover-bg-color: #E2EBFA;\n",
              "      --hover-fill-color: #174EA6;\n",
              "      --disabled-fill-color: #AAA;\n",
              "      --disabled-bg-color: #DDD;\n",
              "  }\n",
              "\n",
              "  [theme=dark] .colab-df-quickchart {\n",
              "      --bg-color: #3B4455;\n",
              "      --fill-color: #D2E3FC;\n",
              "      --hover-bg-color: #434B5C;\n",
              "      --hover-fill-color: #FFFFFF;\n",
              "      --disabled-bg-color: #3B4455;\n",
              "      --disabled-fill-color: #666;\n",
              "  }\n",
              "\n",
              "  .colab-df-quickchart {\n",
              "    background-color: var(--bg-color);\n",
              "    border: none;\n",
              "    border-radius: 50%;\n",
              "    cursor: pointer;\n",
              "    display: none;\n",
              "    fill: var(--fill-color);\n",
              "    height: 32px;\n",
              "    padding: 0;\n",
              "    width: 32px;\n",
              "  }\n",
              "\n",
              "  .colab-df-quickchart:hover {\n",
              "    background-color: var(--hover-bg-color);\n",
              "    box-shadow: 0 1px 2px rgba(60, 64, 67, 0.3), 0 1px 3px 1px rgba(60, 64, 67, 0.15);\n",
              "    fill: var(--button-hover-fill-color);\n",
              "  }\n",
              "\n",
              "  .colab-df-quickchart-complete:disabled,\n",
              "  .colab-df-quickchart-complete:disabled:hover {\n",
              "    background-color: var(--disabled-bg-color);\n",
              "    fill: var(--disabled-fill-color);\n",
              "    box-shadow: none;\n",
              "  }\n",
              "\n",
              "  .colab-df-spinner {\n",
              "    border: 2px solid var(--fill-color);\n",
              "    border-color: transparent;\n",
              "    border-bottom-color: var(--fill-color);\n",
              "    animation:\n",
              "      spin 1s steps(1) infinite;\n",
              "  }\n",
              "\n",
              "  @keyframes spin {\n",
              "    0% {\n",
              "      border-color: transparent;\n",
              "      border-bottom-color: var(--fill-color);\n",
              "      border-left-color: var(--fill-color);\n",
              "    }\n",
              "    20% {\n",
              "      border-color: transparent;\n",
              "      border-left-color: var(--fill-color);\n",
              "      border-top-color: var(--fill-color);\n",
              "    }\n",
              "    30% {\n",
              "      border-color: transparent;\n",
              "      border-left-color: var(--fill-color);\n",
              "      border-top-color: var(--fill-color);\n",
              "      border-right-color: var(--fill-color);\n",
              "    }\n",
              "    40% {\n",
              "      border-color: transparent;\n",
              "      border-right-color: var(--fill-color);\n",
              "      border-top-color: var(--fill-color);\n",
              "    }\n",
              "    60% {\n",
              "      border-color: transparent;\n",
              "      border-right-color: var(--fill-color);\n",
              "    }\n",
              "    80% {\n",
              "      border-color: transparent;\n",
              "      border-right-color: var(--fill-color);\n",
              "      border-bottom-color: var(--fill-color);\n",
              "    }\n",
              "    90% {\n",
              "      border-color: transparent;\n",
              "      border-bottom-color: var(--fill-color);\n",
              "    }\n",
              "  }\n",
              "</style>\n",
              "\n",
              "  <script>\n",
              "    async function quickchart(key) {\n",
              "      const quickchartButtonEl =\n",
              "        document.querySelector('#' + key + ' button');\n",
              "      quickchartButtonEl.disabled = true;  // To prevent multiple clicks.\n",
              "      quickchartButtonEl.classList.add('colab-df-spinner');\n",
              "      try {\n",
              "        const charts = await google.colab.kernel.invokeFunction(\n",
              "            'suggestCharts', [key], {});\n",
              "      } catch (error) {\n",
              "        console.error('Error during call to suggestCharts:', error);\n",
              "      }\n",
              "      quickchartButtonEl.classList.remove('colab-df-spinner');\n",
              "      quickchartButtonEl.classList.add('colab-df-quickchart-complete');\n",
              "    }\n",
              "    (() => {\n",
              "      let quickchartButtonEl =\n",
              "        document.querySelector('#df-07f8836b-4a4e-4df7-8f0c-5e0a2ae90a3e button');\n",
              "      quickchartButtonEl.style.display =\n",
              "        google.colab.kernel.accessAllowed ? 'block' : 'none';\n",
              "    })();\n",
              "  </script>\n",
              "</div>\n",
              "\n",
              "    </div>\n",
              "  </div>\n"
            ],
            "application/vnd.google.colaboratory.intrinsic+json": {
              "type": "dataframe",
              "variable_name": "df",
              "summary": "{\n  \"name\": \"df\",\n  \"rows\": 53940,\n  \"fields\": [\n    {\n      \"column\": \"carat\",\n      \"properties\": {\n        \"dtype\": \"number\",\n        \"std\": 0.47401124440538067,\n        \"min\": 0.2,\n        \"max\": 5.01,\n        \"num_unique_values\": 273,\n        \"samples\": [\n          0.77,\n          1.58,\n          0.65\n        ],\n        \"semantic_type\": \"\",\n        \"description\": \"\"\n      }\n    },\n    {\n      \"column\": \"cut\",\n      \"properties\": {\n        \"dtype\": \"category\",\n        \"num_unique_values\": 5,\n        \"samples\": [\n          \"Premium\",\n          \"Fair\",\n          \"Good\"\n        ],\n        \"semantic_type\": \"\",\n        \"description\": \"\"\n      }\n    },\n    {\n      \"column\": \"color\",\n      \"properties\": {\n        \"dtype\": \"category\",\n        \"num_unique_values\": 7,\n        \"samples\": [\n          \"E\",\n          \"I\",\n          \"G\"\n        ],\n        \"semantic_type\": \"\",\n        \"description\": \"\"\n      }\n    },\n    {\n      \"column\": \"clarity\",\n      \"properties\": {\n        \"dtype\": \"category\",\n        \"num_unique_values\": 8,\n        \"samples\": [\n          \"SI1\",\n          \"VVS1\",\n          \"SI2\"\n        ],\n        \"semantic_type\": \"\",\n        \"description\": \"\"\n      }\n    },\n    {\n      \"column\": \"depth\",\n      \"properties\": {\n        \"dtype\": \"number\",\n        \"std\": 1.4326213188337733,\n        \"min\": 43.0,\n        \"max\": 79.0,\n        \"num_unique_values\": 184,\n        \"samples\": [\n          61.0,\n          62.9,\n          70.2\n        ],\n        \"semantic_type\": \"\",\n        \"description\": \"\"\n      }\n    },\n    {\n      \"column\": \"table\",\n      \"properties\": {\n        \"dtype\": \"number\",\n        \"std\": 2.234490562820938,\n        \"min\": 43.0,\n        \"max\": 95.0,\n        \"num_unique_values\": 127,\n        \"samples\": [\n          54.8,\n          61.5,\n          57.6\n        ],\n        \"semantic_type\": \"\",\n        \"description\": \"\"\n      }\n    },\n    {\n      \"column\": \"price\",\n      \"properties\": {\n        \"dtype\": \"number\",\n        \"std\": 3989,\n        \"min\": 326,\n        \"max\": 18823,\n        \"num_unique_values\": 11602,\n        \"samples\": [\n          16368,\n          895,\n          748\n        ],\n        \"semantic_type\": \"\",\n        \"description\": \"\"\n      }\n    },\n    {\n      \"column\": \"x\",\n      \"properties\": {\n        \"dtype\": \"number\",\n        \"std\": 1.1217607467924422,\n        \"min\": 0.0,\n        \"max\": 10.74,\n        \"num_unique_values\": 554,\n        \"samples\": [\n          5.88,\n          5.69,\n          4.61\n        ],\n        \"semantic_type\": \"\",\n        \"description\": \"\"\n      }\n    },\n    {\n      \"column\": \"y\",\n      \"properties\": {\n        \"dtype\": \"number\",\n        \"std\": 1.1421346741235396,\n        \"min\": 0.0,\n        \"max\": 58.9,\n        \"num_unique_values\": 552,\n        \"samples\": [\n          5.33,\n          5.61,\n          5.25\n        ],\n        \"semantic_type\": \"\",\n        \"description\": \"\"\n      }\n    },\n    {\n      \"column\": \"z\",\n      \"properties\": {\n        \"dtype\": \"number\",\n        \"std\": 0.7056988469499964,\n        \"min\": 0.0,\n        \"max\": 31.8,\n        \"num_unique_values\": 375,\n        \"samples\": [\n          3.36,\n          2.45,\n          2.7\n        ],\n        \"semantic_type\": \"\",\n        \"description\": \"\"\n      }\n    }\n  ]\n}"
            }
          },
          "metadata": {},
          "execution_count": 5
        }
      ],
      "execution_count": 5
    },
    {
      "cell_type": "markdown",
      "source": [
        "# **2. Summary of the Dataset**\n",
        "The given dataset contains the following attributes:\n",
        "* carat\n",
        "* cut\n",
        "* color\n",
        "* clarity\n",
        "* depth\n",
        "* table\n",
        "* price"
      ],
      "metadata": {
        "id": "t4Z0twNPHrSA"
      }
    },
    {
      "cell_type": "markdown",
      "source": [
        "# **3. Is there any data type mismatch in Dataset? If so try to convert the attributes to the required Data type.**"
      ],
      "metadata": {
        "id": "5wjw4j52HrSA"
      }
    },
    {
      "cell_type": "code",
      "source": [
        "df.info()"
      ],
      "metadata": {
        "execution": {
          "iopub.status.busy": "2022-11-27T11:06:34.521853Z",
          "iopub.execute_input": "2022-11-27T11:06:34.522234Z",
          "iopub.status.idle": "2022-11-27T11:06:34.547504Z",
          "shell.execute_reply.started": "2022-11-27T11:06:34.5222Z",
          "shell.execute_reply": "2022-11-27T11:06:34.546246Z"
        },
        "trusted": true,
        "colab": {
          "base_uri": "https://localhost:8080/"
        },
        "id": "OjUv2DxhHrSB",
        "outputId": "1342dd80-52f1-4b0b-aa98-e9104eddc044"
      },
      "outputs": [
        {
          "output_type": "stream",
          "name": "stdout",
          "text": [
            "<class 'pandas.core.frame.DataFrame'>\n",
            "RangeIndex: 53940 entries, 0 to 53939\n",
            "Data columns (total 10 columns):\n",
            " #   Column   Non-Null Count  Dtype  \n",
            "---  ------   --------------  -----  \n",
            " 0   carat    53940 non-null  float64\n",
            " 1   cut      53940 non-null  object \n",
            " 2   color    53940 non-null  object \n",
            " 3   clarity  53940 non-null  object \n",
            " 4   depth    53940 non-null  float64\n",
            " 5   table    53940 non-null  float64\n",
            " 6   price    53940 non-null  int64  \n",
            " 7   x        53940 non-null  float64\n",
            " 8   y        53940 non-null  float64\n",
            " 9   z        53940 non-null  float64\n",
            "dtypes: float64(6), int64(1), object(3)\n",
            "memory usage: 4.1+ MB\n"
          ]
        }
      ],
      "execution_count": 6
    },
    {
      "cell_type": "markdown",
      "source": [
        "We observe that there is NO DATA MISMATCH\n",
        "* carat -> float\n",
        "* cut -> obj\n",
        "* color -> obj\n",
        "* clarity -> obj\n",
        "* depth -> float\n",
        "* table -> float\n",
        "* price -> int"
      ],
      "metadata": {
        "id": "3-RLy0L8HrSB"
      }
    },
    {
      "cell_type": "markdown",
      "source": [
        "# **4. Is there any missing values in Dataset? If so mention & justify the method handled for missing values?**\n"
      ],
      "metadata": {
        "id": "Cl8J7gcTHrSB"
      }
    },
    {
      "cell_type": "code",
      "source": [
        "df.isnull().sum()"
      ],
      "metadata": {
        "execution": {
          "iopub.status.busy": "2022-11-27T11:06:34.55074Z",
          "iopub.execute_input": "2022-11-27T11:06:34.551645Z",
          "iopub.status.idle": "2022-11-27T11:06:34.57116Z",
          "shell.execute_reply.started": "2022-11-27T11:06:34.55159Z",
          "shell.execute_reply": "2022-11-27T11:06:34.569844Z"
        },
        "trusted": true,
        "colab": {
          "base_uri": "https://localhost:8080/",
          "height": 397
        },
        "id": "ofcp8v1EHrSB",
        "outputId": "818f1173-0f69-4642-c8ad-96598d897310"
      },
      "outputs": [
        {
          "output_type": "execute_result",
          "data": {
            "text/plain": [
              "carat      0\n",
              "cut        0\n",
              "color      0\n",
              "clarity    0\n",
              "depth      0\n",
              "table      0\n",
              "price      0\n",
              "x          0\n",
              "y          0\n",
              "z          0\n",
              "dtype: int64"
            ],
            "text/html": [
              "<div>\n",
              "<style scoped>\n",
              "    .dataframe tbody tr th:only-of-type {\n",
              "        vertical-align: middle;\n",
              "    }\n",
              "\n",
              "    .dataframe tbody tr th {\n",
              "        vertical-align: top;\n",
              "    }\n",
              "\n",
              "    .dataframe thead th {\n",
              "        text-align: right;\n",
              "    }\n",
              "</style>\n",
              "<table border=\"1\" class=\"dataframe\">\n",
              "  <thead>\n",
              "    <tr style=\"text-align: right;\">\n",
              "      <th></th>\n",
              "      <th>0</th>\n",
              "    </tr>\n",
              "  </thead>\n",
              "  <tbody>\n",
              "    <tr>\n",
              "      <th>carat</th>\n",
              "      <td>0</td>\n",
              "    </tr>\n",
              "    <tr>\n",
              "      <th>cut</th>\n",
              "      <td>0</td>\n",
              "    </tr>\n",
              "    <tr>\n",
              "      <th>color</th>\n",
              "      <td>0</td>\n",
              "    </tr>\n",
              "    <tr>\n",
              "      <th>clarity</th>\n",
              "      <td>0</td>\n",
              "    </tr>\n",
              "    <tr>\n",
              "      <th>depth</th>\n",
              "      <td>0</td>\n",
              "    </tr>\n",
              "    <tr>\n",
              "      <th>table</th>\n",
              "      <td>0</td>\n",
              "    </tr>\n",
              "    <tr>\n",
              "      <th>price</th>\n",
              "      <td>0</td>\n",
              "    </tr>\n",
              "    <tr>\n",
              "      <th>x</th>\n",
              "      <td>0</td>\n",
              "    </tr>\n",
              "    <tr>\n",
              "      <th>y</th>\n",
              "      <td>0</td>\n",
              "    </tr>\n",
              "    <tr>\n",
              "      <th>z</th>\n",
              "      <td>0</td>\n",
              "    </tr>\n",
              "  </tbody>\n",
              "</table>\n",
              "</div><br><label><b>dtype:</b> int64</label>"
            ]
          },
          "metadata": {},
          "execution_count": 7
        }
      ],
      "execution_count": 7
    },
    {
      "cell_type": "markdown",
      "source": [
        "There is a possibility that there ain't any null values but some other entry like \".\" or \"-\" .So we check all the unique values in each row to get a beter picture."
      ],
      "metadata": {
        "id": "CNnHGFijHrSB"
      }
    },
    {
      "cell_type": "code",
      "source": [
        "l=df.carat.unique()\n",
        "l.sort()\n",
        "l"
      ],
      "metadata": {
        "execution": {
          "iopub.status.busy": "2022-11-27T11:06:34.572313Z",
          "iopub.execute_input": "2022-11-27T11:06:34.572643Z",
          "iopub.status.idle": "2022-11-27T11:06:34.583164Z",
          "shell.execute_reply.started": "2022-11-27T11:06:34.572612Z",
          "shell.execute_reply": "2022-11-27T11:06:34.581948Z"
        },
        "trusted": true,
        "colab": {
          "base_uri": "https://localhost:8080/"
        },
        "id": "yyLUPg_CHrSB",
        "outputId": "446e12f7-85da-4125-d987-0c24e5e55bec"
      },
      "outputs": [
        {
          "output_type": "execute_result",
          "data": {
            "text/plain": [
              "array([0.2 , 0.21, 0.22, 0.23, 0.24, 0.25, 0.26, 0.27, 0.28, 0.29, 0.3 ,\n",
              "       0.31, 0.32, 0.33, 0.34, 0.35, 0.36, 0.37, 0.38, 0.39, 0.4 , 0.41,\n",
              "       0.42, 0.43, 0.44, 0.45, 0.46, 0.47, 0.48, 0.49, 0.5 , 0.51, 0.52,\n",
              "       0.53, 0.54, 0.55, 0.56, 0.57, 0.58, 0.59, 0.6 , 0.61, 0.62, 0.63,\n",
              "       0.64, 0.65, 0.66, 0.67, 0.68, 0.69, 0.7 , 0.71, 0.72, 0.73, 0.74,\n",
              "       0.75, 0.76, 0.77, 0.78, 0.79, 0.8 , 0.81, 0.82, 0.83, 0.84, 0.85,\n",
              "       0.86, 0.87, 0.88, 0.89, 0.9 , 0.91, 0.92, 0.93, 0.94, 0.95, 0.96,\n",
              "       0.97, 0.98, 0.99, 1.  , 1.01, 1.02, 1.03, 1.04, 1.05, 1.06, 1.07,\n",
              "       1.08, 1.09, 1.1 , 1.11, 1.12, 1.13, 1.14, 1.15, 1.16, 1.17, 1.18,\n",
              "       1.19, 1.2 , 1.21, 1.22, 1.23, 1.24, 1.25, 1.26, 1.27, 1.28, 1.29,\n",
              "       1.3 , 1.31, 1.32, 1.33, 1.34, 1.35, 1.36, 1.37, 1.38, 1.39, 1.4 ,\n",
              "       1.41, 1.42, 1.43, 1.44, 1.45, 1.46, 1.47, 1.48, 1.49, 1.5 , 1.51,\n",
              "       1.52, 1.53, 1.54, 1.55, 1.56, 1.57, 1.58, 1.59, 1.6 , 1.61, 1.62,\n",
              "       1.63, 1.64, 1.65, 1.66, 1.67, 1.68, 1.69, 1.7 , 1.71, 1.72, 1.73,\n",
              "       1.74, 1.75, 1.76, 1.77, 1.78, 1.79, 1.8 , 1.81, 1.82, 1.83, 1.84,\n",
              "       1.85, 1.86, 1.87, 1.88, 1.89, 1.9 , 1.91, 1.92, 1.93, 1.94, 1.95,\n",
              "       1.96, 1.97, 1.98, 1.99, 2.  , 2.01, 2.02, 2.03, 2.04, 2.05, 2.06,\n",
              "       2.07, 2.08, 2.09, 2.1 , 2.11, 2.12, 2.13, 2.14, 2.15, 2.16, 2.17,\n",
              "       2.18, 2.19, 2.2 , 2.21, 2.22, 2.23, 2.24, 2.25, 2.26, 2.27, 2.28,\n",
              "       2.29, 2.3 , 2.31, 2.32, 2.33, 2.34, 2.35, 2.36, 2.37, 2.38, 2.39,\n",
              "       2.4 , 2.41, 2.42, 2.43, 2.44, 2.45, 2.46, 2.47, 2.48, 2.49, 2.5 ,\n",
              "       2.51, 2.52, 2.53, 2.54, 2.55, 2.56, 2.57, 2.58, 2.59, 2.6 , 2.61,\n",
              "       2.63, 2.64, 2.65, 2.66, 2.67, 2.68, 2.7 , 2.71, 2.72, 2.74, 2.75,\n",
              "       2.77, 2.8 , 3.  , 3.01, 3.02, 3.04, 3.05, 3.11, 3.22, 3.24, 3.4 ,\n",
              "       3.5 , 3.51, 3.65, 3.67, 4.  , 4.01, 4.13, 4.5 , 5.01])"
            ]
          },
          "metadata": {},
          "execution_count": 8
        }
      ],
      "execution_count": 8
    },
    {
      "cell_type": "code",
      "source": [
        "df.cut.unique()"
      ],
      "metadata": {
        "execution": {
          "iopub.status.busy": "2022-11-27T11:06:34.584512Z",
          "iopub.execute_input": "2022-11-27T11:06:34.585249Z",
          "iopub.status.idle": "2022-11-27T11:06:34.597459Z",
          "shell.execute_reply.started": "2022-11-27T11:06:34.585201Z",
          "shell.execute_reply": "2022-11-27T11:06:34.596346Z"
        },
        "trusted": true,
        "colab": {
          "base_uri": "https://localhost:8080/"
        },
        "id": "0S5NEVXOHrSC",
        "outputId": "daebeebb-ec9f-4050-f45a-1aeb0fe77697"
      },
      "outputs": [
        {
          "output_type": "execute_result",
          "data": {
            "text/plain": [
              "array(['Ideal', 'Premium', 'Good', 'Very Good', 'Fair'], dtype=object)"
            ]
          },
          "metadata": {},
          "execution_count": 9
        }
      ],
      "execution_count": 9
    },
    {
      "cell_type": "code",
      "source": [
        "df.color.unique()"
      ],
      "metadata": {
        "execution": {
          "iopub.status.busy": "2022-11-27T11:06:34.599049Z",
          "iopub.execute_input": "2022-11-27T11:06:34.599466Z",
          "iopub.status.idle": "2022-11-27T11:06:34.611525Z",
          "shell.execute_reply.started": "2022-11-27T11:06:34.599431Z",
          "shell.execute_reply": "2022-11-27T11:06:34.610435Z"
        },
        "trusted": true,
        "colab": {
          "base_uri": "https://localhost:8080/"
        },
        "id": "IHjtbUNfHrSC",
        "outputId": "d28ad923-797a-4fcc-9c3e-c74d497d9bd1"
      },
      "outputs": [
        {
          "output_type": "execute_result",
          "data": {
            "text/plain": [
              "array(['E', 'I', 'J', 'H', 'F', 'G', 'D'], dtype=object)"
            ]
          },
          "metadata": {},
          "execution_count": 10
        }
      ],
      "execution_count": 10
    },
    {
      "cell_type": "code",
      "source": [
        "df.clarity.unique()"
      ],
      "metadata": {
        "execution": {
          "iopub.status.busy": "2022-11-27T11:06:34.613124Z",
          "iopub.execute_input": "2022-11-27T11:06:34.613495Z",
          "iopub.status.idle": "2022-11-27T11:06:34.625209Z",
          "shell.execute_reply.started": "2022-11-27T11:06:34.613462Z",
          "shell.execute_reply": "2022-11-27T11:06:34.623867Z"
        },
        "trusted": true,
        "colab": {
          "base_uri": "https://localhost:8080/"
        },
        "id": "YhRj62pMHrSC",
        "outputId": "67fe2ab2-f62d-41a5-c132-97a0c054fc8b"
      },
      "outputs": [
        {
          "output_type": "execute_result",
          "data": {
            "text/plain": [
              "array(['SI2', 'SI1', 'VS1', 'VS2', 'VVS2', 'VVS1', 'I1', 'IF'],\n",
              "      dtype=object)"
            ]
          },
          "metadata": {},
          "execution_count": 11
        }
      ],
      "execution_count": 11
    },
    {
      "cell_type": "code",
      "source": [
        "l=df.depth.unique()\n",
        "l.sort()\n",
        "l"
      ],
      "metadata": {
        "execution": {
          "iopub.status.busy": "2022-11-27T11:06:34.626586Z",
          "iopub.execute_input": "2022-11-27T11:06:34.627045Z",
          "iopub.status.idle": "2022-11-27T11:06:34.638954Z",
          "shell.execute_reply.started": "2022-11-27T11:06:34.627Z",
          "shell.execute_reply": "2022-11-27T11:06:34.63798Z"
        },
        "trusted": true,
        "colab": {
          "base_uri": "https://localhost:8080/"
        },
        "id": "llAXkI5bHrSC",
        "outputId": "12ad4b62-aba2-4e9f-d370-70930e5c7a74"
      },
      "outputs": [
        {
          "output_type": "execute_result",
          "data": {
            "text/plain": [
              "array([43. , 44. , 50.8, 51. , 52.2, 52.3, 52.7, 53. , 53.1, 53.2, 53.3,\n",
              "       53.4, 53.8, 54. , 54.2, 54.3, 54.4, 54.6, 54.7, 55. , 55.1, 55.2,\n",
              "       55.3, 55.4, 55.5, 55.6, 55.8, 55.9, 56. , 56.1, 56.2, 56.3, 56.4,\n",
              "       56.5, 56.6, 56.7, 56.8, 56.9, 57. , 57.1, 57.2, 57.3, 57.4, 57.5,\n",
              "       57.6, 57.7, 57.8, 57.9, 58. , 58.1, 58.2, 58.3, 58.4, 58.5, 58.6,\n",
              "       58.7, 58.8, 58.9, 59. , 59.1, 59.2, 59.3, 59.4, 59.5, 59.6, 59.7,\n",
              "       59.8, 59.9, 60. , 60.1, 60.2, 60.3, 60.4, 60.5, 60.6, 60.7, 60.8,\n",
              "       60.9, 61. , 61.1, 61.2, 61.3, 61.4, 61.5, 61.6, 61.7, 61.8, 61.9,\n",
              "       62. , 62.1, 62.2, 62.3, 62.4, 62.5, 62.6, 62.7, 62.8, 62.9, 63. ,\n",
              "       63.1, 63.2, 63.3, 63.4, 63.5, 63.6, 63.7, 63.8, 63.9, 64. , 64.1,\n",
              "       64.2, 64.3, 64.4, 64.5, 64.6, 64.7, 64.8, 64.9, 65. , 65.1, 65.2,\n",
              "       65.3, 65.4, 65.5, 65.6, 65.7, 65.8, 65.9, 66. , 66.1, 66.2, 66.3,\n",
              "       66.4, 66.5, 66.6, 66.7, 66.8, 66.9, 67. , 67.1, 67.2, 67.3, 67.4,\n",
              "       67.5, 67.6, 67.7, 67.8, 67.9, 68. , 68.1, 68.2, 68.3, 68.4, 68.5,\n",
              "       68.6, 68.7, 68.8, 68.9, 69. , 69.1, 69.2, 69.3, 69.4, 69.5, 69.6,\n",
              "       69.7, 69.8, 69.9, 70. , 70.1, 70.2, 70.5, 70.6, 70.8, 71. , 71.2,\n",
              "       71.3, 71.6, 71.8, 72.2, 72.9, 73.6, 78.2, 79. ])"
            ]
          },
          "metadata": {},
          "execution_count": 12
        }
      ],
      "execution_count": 12
    },
    {
      "cell_type": "code",
      "source": [
        "l=df.table.unique()\n",
        "l.sort()\n",
        "l"
      ],
      "metadata": {
        "execution": {
          "iopub.status.busy": "2022-11-27T11:06:34.655745Z",
          "iopub.execute_input": "2022-11-27T11:06:34.65616Z",
          "iopub.status.idle": "2022-11-27T11:06:34.666314Z",
          "shell.execute_reply.started": "2022-11-27T11:06:34.656124Z",
          "shell.execute_reply": "2022-11-27T11:06:34.664984Z"
        },
        "trusted": true,
        "colab": {
          "base_uri": "https://localhost:8080/"
        },
        "id": "4K-n64vJHrSC",
        "outputId": "540cdb1c-3113-4150-e605-be409a466ff3"
      },
      "outputs": [
        {
          "output_type": "execute_result",
          "data": {
            "text/plain": [
              "array([43. , 44. , 49. , 50. , 50.1, 51. , 51.6, 52. , 52.4, 52.8, 53. ,\n",
              "       53.1, 53.2, 53.3, 53.4, 53.5, 53.6, 53.7, 53.8, 53.9, 54. , 54.1,\n",
              "       54.2, 54.3, 54.4, 54.5, 54.6, 54.7, 54.8, 54.9, 55. , 55.1, 55.2,\n",
              "       55.3, 55.4, 55.5, 55.6, 55.7, 55.8, 55.9, 56. , 56.1, 56.2, 56.3,\n",
              "       56.4, 56.5, 56.6, 56.7, 56.8, 56.9, 57. , 57.1, 57.2, 57.3, 57.4,\n",
              "       57.5, 57.6, 57.7, 57.8, 57.9, 58. , 58.1, 58.2, 58.3, 58.4, 58.5,\n",
              "       58.6, 58.7, 58.8, 58.9, 59. , 59.1, 59.2, 59.3, 59.4, 59.5, 59.6,\n",
              "       59.7, 59.8, 59.9, 60. , 60.1, 60.2, 60.3, 60.4, 60.5, 60.6, 60.7,\n",
              "       60.8, 60.9, 61. , 61.1, 61.2, 61.3, 61.4, 61.5, 61.6, 61.7, 61.8,\n",
              "       61.9, 62. , 62.1, 62.2, 62.3, 62.4, 62.5, 62.6, 62.8, 63. , 63.3,\n",
              "       63.4, 63.5, 64. , 64.2, 64.3, 65. , 65.4, 66. , 67. , 68. , 69. ,\n",
              "       70. , 71. , 73. , 76. , 79. , 95. ])"
            ]
          },
          "metadata": {},
          "execution_count": 13
        }
      ],
      "execution_count": 13
    },
    {
      "cell_type": "code",
      "source": [
        "l=df.price.unique()\n",
        "l.sort()\n",
        "l"
      ],
      "metadata": {
        "execution": {
          "iopub.status.busy": "2022-11-27T11:06:34.668504Z",
          "iopub.execute_input": "2022-11-27T11:06:34.668855Z",
          "iopub.status.idle": "2022-11-27T11:06:34.681216Z",
          "shell.execute_reply.started": "2022-11-27T11:06:34.668824Z",
          "shell.execute_reply": "2022-11-27T11:06:34.68005Z"
        },
        "trusted": true,
        "colab": {
          "base_uri": "https://localhost:8080/"
        },
        "id": "iC3ITOxXHrSC",
        "outputId": "811e327c-29a8-4303-be84-8223db0a9308"
      },
      "outputs": [
        {
          "output_type": "execute_result",
          "data": {
            "text/plain": [
              "array([  326,   327,   334, ..., 18806, 18818, 18823])"
            ]
          },
          "metadata": {},
          "execution_count": 14
        }
      ],
      "execution_count": 14
    },
    {
      "cell_type": "markdown",
      "source": [
        "Therefore we conclude that THERE ARE NO NULL VALUES in the given dataset"
      ],
      "metadata": {
        "id": "IMxqxfdzHrSD"
      }
    },
    {
      "cell_type": "markdown",
      "source": [
        "# **6. Is there any categorical variables in Dataset? What are they? Convert the categorical values to numeric.**"
      ],
      "metadata": {
        "id": "ZuDErpXEHrSD"
      }
    },
    {
      "cell_type": "code",
      "source": [
        "df.info()"
      ],
      "metadata": {
        "execution": {
          "iopub.status.busy": "2022-11-27T11:06:34.682605Z",
          "iopub.execute_input": "2022-11-27T11:06:34.68343Z",
          "iopub.status.idle": "2022-11-27T11:06:34.705723Z",
          "shell.execute_reply.started": "2022-11-27T11:06:34.683395Z",
          "shell.execute_reply": "2022-11-27T11:06:34.704922Z"
        },
        "trusted": true,
        "colab": {
          "base_uri": "https://localhost:8080/"
        },
        "id": "tfsoP0ueHrSD",
        "outputId": "9d0ba556-8933-40fb-a5b4-72d07285f8c2"
      },
      "outputs": [
        {
          "output_type": "stream",
          "name": "stdout",
          "text": [
            "<class 'pandas.core.frame.DataFrame'>\n",
            "RangeIndex: 53940 entries, 0 to 53939\n",
            "Data columns (total 10 columns):\n",
            " #   Column   Non-Null Count  Dtype  \n",
            "---  ------   --------------  -----  \n",
            " 0   carat    53940 non-null  float64\n",
            " 1   cut      53940 non-null  object \n",
            " 2   color    53940 non-null  object \n",
            " 3   clarity  53940 non-null  object \n",
            " 4   depth    53940 non-null  float64\n",
            " 5   table    53940 non-null  float64\n",
            " 6   price    53940 non-null  int64  \n",
            " 7   x        53940 non-null  float64\n",
            " 8   y        53940 non-null  float64\n",
            " 9   z        53940 non-null  float64\n",
            "dtypes: float64(6), int64(1), object(3)\n",
            "memory usage: 4.1+ MB\n"
          ]
        }
      ],
      "execution_count": 15
    },
    {
      "cell_type": "markdown",
      "source": [
        "We see that there are 3 categorical features:\n",
        "1. cut\n",
        "2. color\n",
        "3. clarity"
      ],
      "metadata": {
        "id": "jJIqU0JpHrSD"
      }
    },
    {
      "cell_type": "code",
      "source": [
        "print(df.cut.unique())\n",
        "df.cut.replace([\"Fair\",\"Ideal\",\"Good\",\"Very Good\",\"Premium\"],[0,1,2,3,4],inplace=True)\n",
        "print(df.cut.unique())"
      ],
      "metadata": {
        "execution": {
          "iopub.status.busy": "2022-11-27T11:06:34.707439Z",
          "iopub.execute_input": "2022-11-27T11:06:34.707786Z",
          "iopub.status.idle": "2022-11-27T11:06:34.745448Z",
          "shell.execute_reply.started": "2022-11-27T11:06:34.70773Z",
          "shell.execute_reply": "2022-11-27T11:06:34.744264Z"
        },
        "trusted": true,
        "colab": {
          "base_uri": "https://localhost:8080/"
        },
        "id": "yJ_2Ccr8HrSD",
        "outputId": "47039951-2bda-47b9-f6e9-b1f20629e044"
      },
      "outputs": [
        {
          "output_type": "stream",
          "name": "stdout",
          "text": [
            "['Ideal' 'Premium' 'Good' 'Very Good' 'Fair']\n",
            "[1 4 2 3 0]\n"
          ]
        },
        {
          "output_type": "stream",
          "name": "stderr",
          "text": [
            "<ipython-input-16-1261e9ad209c>:2: FutureWarning: A value is trying to be set on a copy of a DataFrame or Series through chained assignment using an inplace method.\n",
            "The behavior will change in pandas 3.0. This inplace method will never work because the intermediate object on which we are setting values always behaves as a copy.\n",
            "\n",
            "For example, when doing 'df[col].method(value, inplace=True)', try using 'df.method({col: value}, inplace=True)' or df[col] = df[col].method(value) instead, to perform the operation inplace on the original object.\n",
            "\n",
            "\n",
            "  df.cut.replace([\"Fair\",\"Ideal\",\"Good\",\"Very Good\",\"Premium\"],[0,1,2,3,4],inplace=True)\n",
            "<ipython-input-16-1261e9ad209c>:2: FutureWarning: Downcasting behavior in `replace` is deprecated and will be removed in a future version. To retain the old behavior, explicitly call `result.infer_objects(copy=False)`. To opt-in to the future behavior, set `pd.set_option('future.no_silent_downcasting', True)`\n",
            "  df.cut.replace([\"Fair\",\"Ideal\",\"Good\",\"Very Good\",\"Premium\"],[0,1,2,3,4],inplace=True)\n"
          ]
        }
      ],
      "execution_count": 16
    },
    {
      "cell_type": "code",
      "source": [
        "print(df.color.unique())\n",
        "df.color.replace(['E', 'I', 'J', 'H', 'F', 'G', 'D'],[0,1,2,3,4,5,6],inplace=True)\n",
        "print(df.color.unique())"
      ],
      "metadata": {
        "execution": {
          "iopub.status.busy": "2022-11-27T11:06:34.748153Z",
          "iopub.execute_input": "2022-11-27T11:06:34.748488Z",
          "iopub.status.idle": "2022-11-27T11:06:34.789327Z",
          "shell.execute_reply.started": "2022-11-27T11:06:34.748457Z",
          "shell.execute_reply": "2022-11-27T11:06:34.788127Z"
        },
        "trusted": true,
        "colab": {
          "base_uri": "https://localhost:8080/"
        },
        "id": "VdmsizOYHrSD",
        "outputId": "5130d5b7-a2a6-46d5-bc61-aaeaf7760d8e"
      },
      "outputs": [
        {
          "output_type": "stream",
          "name": "stdout",
          "text": [
            "['E' 'I' 'J' 'H' 'F' 'G' 'D']\n",
            "[0 1 2 3 4 5 6]\n"
          ]
        },
        {
          "output_type": "stream",
          "name": "stderr",
          "text": [
            "<ipython-input-17-120d1f53af41>:2: FutureWarning: A value is trying to be set on a copy of a DataFrame or Series through chained assignment using an inplace method.\n",
            "The behavior will change in pandas 3.0. This inplace method will never work because the intermediate object on which we are setting values always behaves as a copy.\n",
            "\n",
            "For example, when doing 'df[col].method(value, inplace=True)', try using 'df.method({col: value}, inplace=True)' or df[col] = df[col].method(value) instead, to perform the operation inplace on the original object.\n",
            "\n",
            "\n",
            "  df.color.replace(['E', 'I', 'J', 'H', 'F', 'G', 'D'],[0,1,2,3,4,5,6],inplace=True)\n",
            "<ipython-input-17-120d1f53af41>:2: FutureWarning: Downcasting behavior in `replace` is deprecated and will be removed in a future version. To retain the old behavior, explicitly call `result.infer_objects(copy=False)`. To opt-in to the future behavior, set `pd.set_option('future.no_silent_downcasting', True)`\n",
            "  df.color.replace(['E', 'I', 'J', 'H', 'F', 'G', 'D'],[0,1,2,3,4,5,6],inplace=True)\n"
          ]
        }
      ],
      "execution_count": 17
    },
    {
      "cell_type": "code",
      "source": [
        "print(df.clarity.unique())\n",
        "df.clarity.replace(['SI2', 'SI1', 'VS1', 'VS2', 'VVS2', 'VVS1', 'I1', 'IF'], [0,1,2,3,4,5,6,7],inplace=True)\n",
        "print(df.clarity.unique())"
      ],
      "metadata": {
        "execution": {
          "iopub.status.busy": "2022-11-27T11:06:34.790688Z",
          "iopub.execute_input": "2022-11-27T11:06:34.791101Z",
          "iopub.status.idle": "2022-11-27T11:06:34.835951Z",
          "shell.execute_reply.started": "2022-11-27T11:06:34.791067Z",
          "shell.execute_reply": "2022-11-27T11:06:34.834743Z"
        },
        "trusted": true,
        "colab": {
          "base_uri": "https://localhost:8080/"
        },
        "id": "OngscqxdHrSD",
        "outputId": "fc143faa-e320-40f3-e758-6f90df7987ec"
      },
      "outputs": [
        {
          "output_type": "stream",
          "name": "stdout",
          "text": [
            "['SI2' 'SI1' 'VS1' 'VS2' 'VVS2' 'VVS1' 'I1' 'IF']\n",
            "[0 1 2 3 4 5 6 7]\n"
          ]
        },
        {
          "output_type": "stream",
          "name": "stderr",
          "text": [
            "<ipython-input-18-0de2caec84b0>:2: FutureWarning: A value is trying to be set on a copy of a DataFrame or Series through chained assignment using an inplace method.\n",
            "The behavior will change in pandas 3.0. This inplace method will never work because the intermediate object on which we are setting values always behaves as a copy.\n",
            "\n",
            "For example, when doing 'df[col].method(value, inplace=True)', try using 'df.method({col: value}, inplace=True)' or df[col] = df[col].method(value) instead, to perform the operation inplace on the original object.\n",
            "\n",
            "\n",
            "  df.clarity.replace(['SI2', 'SI1', 'VS1', 'VS2', 'VVS2', 'VVS1', 'I1', 'IF'], [0,1,2,3,4,5,6,7],inplace=True)\n",
            "<ipython-input-18-0de2caec84b0>:2: FutureWarning: Downcasting behavior in `replace` is deprecated and will be removed in a future version. To retain the old behavior, explicitly call `result.infer_objects(copy=False)`. To opt-in to the future behavior, set `pd.set_option('future.no_silent_downcasting', True)`\n",
            "  df.clarity.replace(['SI2', 'SI1', 'VS1', 'VS2', 'VVS2', 'VVS1', 'I1', 'IF'], [0,1,2,3,4,5,6,7],inplace=True)\n"
          ]
        }
      ],
      "execution_count": 18
    },
    {
      "cell_type": "code",
      "source": [
        "df.info()"
      ],
      "metadata": {
        "execution": {
          "iopub.status.busy": "2022-11-27T11:06:34.837361Z",
          "iopub.execute_input": "2022-11-27T11:06:34.838008Z",
          "iopub.status.idle": "2022-11-27T11:06:34.855212Z",
          "shell.execute_reply.started": "2022-11-27T11:06:34.837972Z",
          "shell.execute_reply": "2022-11-27T11:06:34.854113Z"
        },
        "trusted": true,
        "colab": {
          "base_uri": "https://localhost:8080/"
        },
        "id": "ffYg441uHrSD",
        "outputId": "057c713e-5284-45bb-d692-ea3cf5b74468"
      },
      "outputs": [
        {
          "output_type": "stream",
          "name": "stdout",
          "text": [
            "<class 'pandas.core.frame.DataFrame'>\n",
            "RangeIndex: 53940 entries, 0 to 53939\n",
            "Data columns (total 10 columns):\n",
            " #   Column   Non-Null Count  Dtype  \n",
            "---  ------   --------------  -----  \n",
            " 0   carat    53940 non-null  float64\n",
            " 1   cut      53940 non-null  int64  \n",
            " 2   color    53940 non-null  int64  \n",
            " 3   clarity  53940 non-null  int64  \n",
            " 4   depth    53940 non-null  float64\n",
            " 5   table    53940 non-null  float64\n",
            " 6   price    53940 non-null  int64  \n",
            " 7   x        53940 non-null  float64\n",
            " 8   y        53940 non-null  float64\n",
            " 9   z        53940 non-null  float64\n",
            "dtypes: float64(6), int64(4)\n",
            "memory usage: 4.1 MB\n"
          ]
        }
      ],
      "execution_count": 19
    },
    {
      "cell_type": "markdown",
      "source": [
        "Now we have converted all the categorical data types to integer data types by the replace method."
      ],
      "metadata": {
        "id": "YPAkYc4JHrSE"
      }
    },
    {
      "cell_type": "markdown",
      "source": [
        "# **5. Is there any Outliers in Dataset? Mention the methods for outliers detection, which method is the best one justify & remove outliers using the same method.**"
      ],
      "metadata": {
        "id": "2hUk4ODxHrSE"
      }
    },
    {
      "cell_type": "markdown",
      "source": [
        "USING GRAPHS"
      ],
      "metadata": {
        "id": "qZ35-fwcHrSE"
      }
    },
    {
      "cell_type": "code",
      "source": [
        "import warnings\n",
        "warnings.filterwarnings('ignore')"
      ],
      "metadata": {
        "execution": {
          "iopub.status.busy": "2022-11-27T11:06:34.857097Z",
          "iopub.execute_input": "2022-11-27T11:06:34.857538Z",
          "iopub.status.idle": "2022-11-27T11:06:34.864868Z",
          "shell.execute_reply.started": "2022-11-27T11:06:34.857495Z",
          "shell.execute_reply": "2022-11-27T11:06:34.863868Z"
        },
        "trusted": true,
        "id": "mn4bPwmxHrSE"
      },
      "outputs": [],
      "execution_count": 20
    },
    {
      "cell_type": "code",
      "source": [
        "# OUTLIERS IN CARAT\n",
        "plt.subplot(1,2,1)\n",
        "p1=sns.boxplot(df.carat)\n",
        "plt.subplot(1,2,2)\n",
        "p2=sns.distplot(df.carat)"
      ],
      "metadata": {
        "execution": {
          "iopub.status.busy": "2022-11-27T11:06:34.86619Z",
          "iopub.execute_input": "2022-11-27T11:06:34.867039Z",
          "iopub.status.idle": "2022-11-27T11:06:35.951064Z",
          "shell.execute_reply.started": "2022-11-27T11:06:34.867Z",
          "shell.execute_reply": "2022-11-27T11:06:35.94987Z"
        },
        "trusted": true,
        "colab": {
          "base_uri": "https://localhost:8080/",
          "height": 449
        },
        "id": "qf8EN6taHrSE",
        "outputId": "3f915869-1d7b-42b9-d5b6-06abf6c87e95"
      },
      "outputs": [
        {
          "output_type": "display_data",
          "data": {
            "text/plain": [
              "<Figure size 640x480 with 2 Axes>"
            ],
            "image/png": "[encoded data removed]"
          },
          "metadata": {}
        }
      ],
      "execution_count": 21
    },
    {
      "cell_type": "code",
      "source": [
        "# OUTLIERS IN CUT\n",
        "plt.subplot(1,2,1)\n",
        "p1=sns.boxplot(df.cut)\n",
        "plt.subplot(1,2,2)\n",
        "p2=sns.distplot(df.cut)"
      ],
      "metadata": {
        "execution": {
          "iopub.status.busy": "2022-11-27T11:06:35.95289Z",
          "iopub.execute_input": "2022-11-27T11:06:35.95423Z",
          "iopub.status.idle": "2022-11-27T11:06:36.51329Z",
          "shell.execute_reply.started": "2022-11-27T11:06:35.95418Z",
          "shell.execute_reply": "2022-11-27T11:06:36.512309Z"
        },
        "trusted": true,
        "colab": {
          "base_uri": "https://localhost:8080/",
          "height": 449
        },
        "id": "rhrdGm44HrSE",
        "outputId": "a5122e73-cd18-44b9-d160-60b852baf176"
      },
      "outputs": [
        {
          "output_type": "display_data",
          "data": {
            "text/plain": [
              "<Figure size 640x480 with 2 Axes>"
            ],
            "image/png": "[encoded data removed]"
          },
          "metadata": {}
        }
      ],
      "execution_count": 22
    },
    {
      "cell_type": "code",
      "source": [
        "# OUTLIERS IN COLOR\n",
        "plt.subplot(1,2,1)\n",
        "p1=sns.boxplot(df.color)\n",
        "plt.subplot(1,2,2)\n",
        "p2=sns.distplot(df.color)"
      ],
      "metadata": {
        "execution": {
          "iopub.status.busy": "2022-11-27T11:06:36.514866Z",
          "iopub.execute_input": "2022-11-27T11:06:36.515998Z",
          "iopub.status.idle": "2022-11-27T11:06:37.027605Z",
          "shell.execute_reply.started": "2022-11-27T11:06:36.515951Z",
          "shell.execute_reply": "2022-11-27T11:06:37.02647Z"
        },
        "trusted": true,
        "colab": {
          "base_uri": "https://localhost:8080/",
          "height": 449
        },
        "id": "ZOlXZsOOHrSE",
        "outputId": "0711132f-903b-40c6-8367-9b6b129241c2"
      },
      "outputs": [
        {
          "output_type": "display_data",
          "data": {
            "text/plain": [
              "<Figure size 640x480 with 2 Axes>"
            ],
            "image/png": "[encoded data removed]"
          },
          "metadata": {}
        }
      ],
      "execution_count": 23
    },
    {
      "cell_type": "code",
      "source": [
        "# OUTLIERS IN CLARITY\n",
        "plt.subplot(1,2,1)\n",
        "p1=sns.boxplot(df.clarity)\n",
        "plt.subplot(1,2,2)\n",
        "p2=sns.distplot(df.clarity)"
      ],
      "metadata": {
        "execution": {
          "iopub.status.busy": "2022-11-27T11:06:37.029418Z",
          "iopub.execute_input": "2022-11-27T11:06:37.030161Z",
          "iopub.status.idle": "2022-11-27T11:06:37.662969Z",
          "shell.execute_reply.started": "2022-11-27T11:06:37.030113Z",
          "shell.execute_reply": "2022-11-27T11:06:37.661663Z"
        },
        "trusted": true,
        "colab": {
          "base_uri": "https://localhost:8080/",
          "height": 449
        },
        "id": "DoiHMKLkHrSF",
        "outputId": "87c9bbc0-10d7-4ba1-9bae-24521cd242e0"
      },
      "outputs": [
        {
          "output_type": "display_data",
          "data": {
            "text/plain": [
              "<Figure size 640x480 with 2 Axes>"
            ],
            "image/png": "[encoded data removed]"
          },
          "metadata": {}
        }
      ],
      "execution_count": 24
    },
    {
      "cell_type": "code",
      "source": [
        "# OUTLIERS IN DEPTH\n",
        "plt.subplot(1,2,1)\n",
        "p1=sns.boxplot(df.depth)\n",
        "plt.subplot(1,2,2)\n",
        "p2=sns.distplot(df.depth)"
      ],
      "metadata": {
        "execution": {
          "iopub.status.busy": "2022-11-27T11:06:37.664632Z",
          "iopub.execute_input": "2022-11-27T11:06:37.665415Z",
          "iopub.status.idle": "2022-11-27T11:06:38.353659Z",
          "shell.execute_reply.started": "2022-11-27T11:06:37.665367Z",
          "shell.execute_reply": "2022-11-27T11:06:38.352434Z"
        },
        "trusted": true,
        "colab": {
          "base_uri": "https://localhost:8080/",
          "height": 449
        },
        "id": "Cl6IhKG8HrSF",
        "outputId": "f786e336-21de-4a49-e7e5-ef2ffb49ad7c"
      },
      "outputs": [
        {
          "output_type": "display_data",
          "data": {
            "text/plain": [
              "<Figure size 640x480 with 2 Axes>"
            ],
            "image/png": "[encoded data removed]"
          },
          "metadata": {}
        }
      ],
      "execution_count": 25
    },
    {
      "cell_type": "code",
      "source": [
        "# OUTLIERS IN TABLE\n",
        "plt.subplot(1,2,1)\n",
        "p1=sns.boxplot(df.table)\n",
        "plt.subplot(1,2,2)\n",
        "p2=sns.distplot(df.table)"
      ],
      "metadata": {
        "execution": {
          "iopub.status.busy": "2022-11-27T11:06:38.35834Z",
          "iopub.execute_input": "2022-11-27T11:06:38.358684Z",
          "iopub.status.idle": "2022-11-27T11:06:39.019296Z",
          "shell.execute_reply.started": "2022-11-27T11:06:38.358651Z",
          "shell.execute_reply": "2022-11-27T11:06:39.017852Z"
        },
        "trusted": true,
        "colab": {
          "base_uri": "https://localhost:8080/",
          "height": 452
        },
        "id": "_dQAd6JAHrSF",
        "outputId": "e5c8012d-12fa-4dc1-b270-cd4598f62399"
      },
      "outputs": [
        {
          "output_type": "display_data",
          "data": {
            "text/plain": [
              "<Figure size 640x480 with 2 Axes>"
            ],
            "image/png": "[encoded data removed]"
          },
          "metadata": {}
        }
      ],
      "execution_count": 26
    },
    {
      "cell_type": "code",
      "source": [
        "# OUTLIERS IN PRICE\n",
        "plt.subplot(1,2,1)\n",
        "p1=sns.boxplot(df.price)\n",
        "plt.subplot(1,2,2)\n",
        "p2=sns.distplot(df.price)"
      ],
      "metadata": {
        "execution": {
          "iopub.status.busy": "2022-11-27T11:06:39.020677Z",
          "iopub.execute_input": "2022-11-27T11:06:39.021073Z",
          "iopub.status.idle": "2022-11-27T11:06:39.677861Z",
          "shell.execute_reply.started": "2022-11-27T11:06:39.021039Z",
          "shell.execute_reply": "2022-11-27T11:06:39.676783Z"
        },
        "trusted": true,
        "colab": {
          "base_uri": "https://localhost:8080/",
          "height": 449
        },
        "id": "H-8hebZbHrSF",
        "outputId": "9c0614f7-eed9-4fb4-f6e9-2bf5fe7fd4bf"
      },
      "outputs": [
        {
          "output_type": "display_data",
          "data": {
            "text/plain": [
              "<Figure size 640x480 with 2 Axes>"
            ],
            "image/png": "[encoded data removed]"
          },
          "metadata": {}
        }
      ],
      "execution_count": 27
    },
    {
      "cell_type": "markdown",
      "source": [
        "CREATING A NEW VARIABLE FOR A DATA SET WITH NO OUTLIERS."
      ],
      "metadata": {
        "id": "eWuMkisLHrSF"
      }
    },
    {
      "cell_type": "code",
      "source": [
        "new_df=df.copy(deep=True)\n",
        "print(df.shape,new_df.shape)"
      ],
      "metadata": {
        "_kg_hide-input": true,
        "execution": {
          "iopub.status.busy": "2022-11-27T11:06:39.679282Z",
          "iopub.execute_input": "2022-11-27T11:06:39.679624Z",
          "iopub.status.idle": "2022-11-27T11:06:39.690276Z",
          "shell.execute_reply.started": "2022-11-27T11:06:39.679593Z",
          "shell.execute_reply": "2022-11-27T11:06:39.688862Z"
        },
        "trusted": true,
        "colab": {
          "base_uri": "https://localhost:8080/"
        },
        "id": "bZBViYhkHrSK",
        "outputId": "569f9e09-d8f7-4f23-94c4-759de94f5fed"
      },
      "outputs": [
        {
          "output_type": "stream",
          "name": "stdout",
          "text": [
            "(53940, 10) (53940, 10)\n"
          ]
        }
      ],
      "execution_count": 28
    },
    {
      "cell_type": "code",
      "source": [
        "def Outliers_Treatment(new_df,col):\n",
        "    q1=new_df[col].quantile(0.25)\n",
        "    q3=new_df[col].quantile(0.75)\n",
        "    iqr=q3-q1\n",
        "    print(col,iqr)\n",
        "    lb=q1-(1.5*iqr)\n",
        "    ub=q3+(1.5*iqr)\n",
        "    p1=plt.subplot(1,2,1)\n",
        "    sns.boxplot(df[col])\n",
        "    p2=plt.subplot(1,2,2)\n",
        "    sns.boxplot(new_df[col])\n",
        "    plt.show()\n",
        "    new_df.drop(new_df[(new_df[col]<lb) | (new_df[col]>ub)].index, inplace=True)"
      ],
      "metadata": {
        "execution": {
          "iopub.status.busy": "2022-11-27T11:06:39.691781Z",
          "iopub.execute_input": "2022-11-27T11:06:39.692159Z",
          "iopub.status.idle": "2022-11-27T11:06:39.700315Z",
          "shell.execute_reply.started": "2022-11-27T11:06:39.692127Z",
          "shell.execute_reply": "2022-11-27T11:06:39.699511Z"
        },
        "trusted": true,
        "id": "-xRkiaCiHrSL"
      },
      "outputs": [],
      "execution_count": 29
    },
    {
      "cell_type": "code",
      "source": [
        "print(\"The IQR value for each feature:\")\n",
        "Outliers_Treatment(new_df,\"carat\")\n",
        "Outliers_Treatment(new_df,\"cut\")\n",
        "Outliers_Treatment(new_df,\"color\")\n",
        "Outliers_Treatment(new_df,\"clarity\")\n",
        "Outliers_Treatment(new_df,\"depth\")\n",
        "Outliers_Treatment(new_df,\"table\")\n",
        "Outliers_Treatment(new_df,\"price\")\n",
        "Outliers_Treatment(new_df,\"x\")\n",
        "Outliers_Treatment(new_df,\"y\")\n",
        "Outliers_Treatment(new_df,\"z\")"
      ],
      "metadata": {
        "execution": {
          "iopub.status.busy": "2022-11-27T11:06:39.701464Z",
          "iopub.execute_input": "2022-11-27T11:06:39.702637Z",
          "iopub.status.idle": "2022-11-27T11:06:41.959364Z",
          "shell.execute_reply.started": "2022-11-27T11:06:39.702601Z",
          "shell.execute_reply": "2022-11-27T11:06:41.958277Z"
        },
        "trusted": true,
        "colab": {
          "base_uri": "https://localhost:8080/",
          "height": 1000
        },
        "id": "RVhq-CZqHrSL",
        "outputId": "9f4d7fc7-4e5a-45b1-b547-e850f556cec2"
      },
      "outputs": [
        {
          "output_type": "stream",
          "name": "stdout",
          "text": [
            "The IQR value for each feature:\n",
            "carat 0.64\n"
          ]
        },
        {
          "output_type": "display_data",
          "data": {
            "text/plain": [
              "<Figure size 640x480 with 2 Axes>"
            ],
            "image/png": "[encoded data removed]"
          },
          "metadata": {}
        },
        {
          "output_type": "stream",
          "name": "stdout",
          "text": [
            "cut 3.0\n"
          ]
        },
        {
          "output_type": "display_data",
          "data": {
            "text/plain": [
              "<Figure size 640x480 with 2 Axes>"
            ],
            "image/png": "[encoded data removed]"
          },
          "metadata": {}
        },
        {
          "output_type": "stream",
          "name": "stdout",
          "text": [
            "color 4.0\n"
          ]
        },
        {
          "output_type": "display_data",
          "data": {
            "text/plain": [
              "<Figure size 640x480 with 2 Axes>"
            ],
            "image/png": "[encoded data removed]"
          },
          "metadata": {}
        },
        {
          "output_type": "stream",
          "name": "stdout",
          "text": [
            "clarity 2.0\n"
          ]
        },
        {
          "output_type": "display_data",
          "data": {
            "text/plain": [
              "<Figure size 640x480 with 2 Axes>"
            ],
            "image/png": "[encoded data removed]"
          },
          "metadata": {}
        },
        {
          "output_type": "stream",
          "name": "stdout",
          "text": [
            "depth 1.3999999999999986\n"
          ]
        },
        {
          "output_type": "display_data",
          "data": {
            "text/plain": [
              "<Figure size 640x480 with 2 Axes>"
            ],
            "image/png": "[encoded data removed]"
          },
          "metadata": {}
        },
        {
          "output_type": "stream",
          "name": "stdout",
          "text": [
            "table 3.0\n"
          ]
        },
        {
          "output_type": "display_data",
          "data": {
            "text/plain": [
              "<Figure size 640x480 with 2 Axes>"
            ],
            "image/png": "[encoded data removed]"
          },
          "metadata": {}
        },
        {
          "output_type": "stream",
          "name": "stdout",
          "text": [
            "price 4096.0\n"
          ]
        },
        {
          "output_type": "display_data",
          "data": {
            "text/plain": [
              "<Figure size 640x480 with 2 Axes>"
            ],
            "image/png": "[encoded data removed]"
          },
          "metadata": {}
        },
        {
          "output_type": "stream",
          "name": "stdout",
          "text": [
            "x 1.75\n"
          ]
        },
        {
          "output_type": "display_data",
          "data": {
            "text/plain": [
              "<Figure size 640x480 with 2 Axes>"
            ],
            "image/png": "[encoded data removed]"
          },
          "metadata": {}
        },
        {
          "output_type": "stream",
          "name": "stdout",
          "text": [
            "y 1.7300000000000004\n"
          ]
        },
        {
          "output_type": "display_data",
          "data": {
            "text/plain": [
              "<Figure size 640x480 with 2 Axes>"
            ],
            "image/png": "[encoded data removed]"
          },
          "metadata": {}
        },
        {
          "output_type": "stream",
          "name": "stdout",
          "text": [
            "z 1.0900000000000003\n"
          ]
        },
        {
          "output_type": "display_data",
          "data": {
            "text/plain": [
              "<Figure size 640x480 with 2 Axes>"
            ],
            "image/png": "[encoded data removed]"
          },
          "metadata": {}
        }
      ],
      "execution_count": 30
    },
    {
      "cell_type": "markdown",
      "source": [
        "# **7.Find input & output variables with the help of Correlation Matrix & heat map.**"
      ],
      "metadata": {
        "id": "7f5lUEnMHrSL"
      }
    },
    {
      "cell_type": "markdown",
      "source": [
        "WITH OUTLIERS"
      ],
      "metadata": {
        "id": "DPH8n7KIHrSL"
      }
    },
    {
      "cell_type": "code",
      "source": [
        "df.describe()"
      ],
      "metadata": {
        "execution": {
          "iopub.status.busy": "2022-11-27T11:06:41.960603Z",
          "iopub.execute_input": "2022-11-27T11:06:41.960945Z",
          "iopub.status.idle": "2022-11-27T11:06:42.023158Z",
          "shell.execute_reply.started": "2022-11-27T11:06:41.960892Z",
          "shell.execute_reply": "2022-11-27T11:06:42.021966Z"
        },
        "trusted": true,
        "colab": {
          "base_uri": "https://localhost:8080/",
          "height": 300
        },
        "id": "6rHSn48gHrSL",
        "outputId": "e3d82524-8898-40df-f9c5-fa3fd1d7dc8b"
      },
      "outputs": [
        {
          "output_type": "execute_result",
          "data": {
            "text/plain": [
              "              carat           cut         color       clarity         depth  \\\n",
              "count  53940.000000  53940.000000  53940.000000  53940.000000  53940.000000   \n",
              "mean       0.797940      2.276103      3.174416      2.256136     61.749405   \n",
              "std        0.474011      1.299772      2.050156      1.766539      1.432621   \n",
              "min        0.200000      0.000000      0.000000      0.000000     43.000000   \n",
              "25%        0.400000      1.000000      1.000000      1.000000     61.000000   \n",
              "50%        0.700000      2.000000      4.000000      2.000000     61.800000   \n",
              "75%        1.040000      4.000000      5.000000      3.000000     62.500000   \n",
              "max        5.010000      4.000000      6.000000      7.000000     79.000000   \n",
              "\n",
              "              table         price             x             y             z  \n",
              "count  53940.000000  53940.000000  53940.000000  53940.000000  53940.000000  \n",
              "mean      57.457184   3932.799722      5.731157      5.734526      3.538734  \n",
              "std        2.234491   3989.439738      1.121761      1.142135      0.705699  \n",
              "min       43.000000    326.000000      0.000000      0.000000      0.000000  \n",
              "25%       56.000000    950.000000      4.710000      4.720000      2.910000  \n",
              "50%       57.000000   2401.000000      5.700000      5.710000      3.530000  \n",
              "75%       59.000000   5324.250000      6.540000      6.540000      4.040000  \n",
              "max       95.000000  18823.000000     10.740000     58.900000     31.800000  "
            ],
            "text/html": [
              "\n",
              "  <div id=\"df-6be40bc5-4845-4588-b0ba-bcf820564bb4\" class=\"colab-df-container\">\n",
              "    <div>\n",
              "<style scoped>\n",
              "    .dataframe tbody tr th:only-of-type {\n",
              "        vertical-align: middle;\n",
              "    }\n",
              "\n",
              "    .dataframe tbody tr th {\n",
              "        vertical-align: top;\n",
              "    }\n",
              "\n",
              "    .dataframe thead th {\n",
              "        text-align: right;\n",
              "    }\n",
              "</style>\n",
              "<table border=\"1\" class=\"dataframe\">\n",
              "  <thead>\n",
              "    <tr style=\"text-align: right;\">\n",
              "      <th></th>\n",
              "      <th>carat</th>\n",
              "      <th>cut</th>\n",
              "      <th>color</th>\n",
              "      <th>clarity</th>\n",
              "      <th>depth</th>\n",
              "      <th>table</th>\n",
              "      <th>price</th>\n",
              "      <th>x</th>\n",
              "      <th>y</th>\n",
              "      <th>z</th>\n",
              "    </tr>\n",
              "  </thead>\n",
              "  <tbody>\n",
              "    <tr>\n",
              "      <th>count</th>\n",
              "      <td>53940.000000</td>\n",
              "      <td>53940.000000</td>\n",
              "      <td>53940.000000</td>\n",
              "      <td>53940.000000</td>\n",
              "      <td>53940.000000</td>\n",
              "      <td>53940.000000</td>\n",
              "      <td>53940.000000</td>\n",
              "      <td>53940.000000</td>\n",
              "      <td>53940.000000</td>\n",
              "      <td>53940.000000</td>\n",
              "    </tr>\n",
              "    <tr>\n",
              "      <th>mean</th>\n",
              "      <td>0.797940</td>\n",
              "      <td>2.276103</td>\n",
              "      <td>3.174416</td>\n",
              "      <td>2.256136</td>\n",
              "      <td>61.749405</td>\n",
              "      <td>57.457184</td>\n",
              "      <td>3932.799722</td>\n",
              "      <td>5.731157</td>\n",
              "      <td>5.734526</td>\n",
              "      <td>3.538734</td>\n",
              "    </tr>\n",
              "    <tr>\n",
              "      <th>std</th>\n",
              "      <td>0.474011</td>\n",
              "      <td>1.299772</td>\n",
              "      <td>2.050156</td>\n",
              "      <td>1.766539</td>\n",
              "      <td>1.432621</td>\n",
              "      <td>2.234491</td>\n",
              "      <td>3989.439738</td>\n",
              "      <td>1.121761</td>\n",
              "      <td>1.142135</td>\n",
              "      <td>0.705699</td>\n",
              "    </tr>\n",
              "    <tr>\n",
              "      <th>min</th>\n",
              "      <td>0.200000</td>\n",
              "      <td>0.000000</td>\n",
              "      <td>0.000000</td>\n",
              "      <td>0.000000</td>\n",
              "      <td>43.000000</td>\n",
              "      <td>43.000000</td>\n",
              "      <td>326.000000</td>\n",
              "      <td>0.000000</td>\n",
              "      <td>0.000000</td>\n",
              "      <td>0.000000</td>\n",
              "    </tr>\n",
              "    <tr>\n",
              "      <th>25%</th>\n",
              "      <td>0.400000</td>\n",
              "      <td>1.000000</td>\n",
              "      <td>1.000000</td>\n",
              "      <td>1.000000</td>\n",
              "      <td>61.000000</td>\n",
              "      <td>56.000000</td>\n",
              "      <td>950.000000</td>\n",
              "      <td>4.710000</td>\n",
              "      <td>4.720000</td>\n",
              "      <td>2.910000</td>\n",
              "    </tr>\n",
              "    <tr>\n",
              "      <th>50%</th>\n",
              "      <td>0.700000</td>\n",
              "      <td>2.000000</td>\n",
              "      <td>4.000000</td>\n",
              "      <td>2.000000</td>\n",
              "      <td>61.800000</td>\n",
              "      <td>57.000000</td>\n",
              "      <td>2401.000000</td>\n",
              "      <td>5.700000</td>\n",
              "      <td>5.710000</td>\n",
              "      <td>3.530000</td>\n",
              "    </tr>\n",
              "    <tr>\n",
              "      <th>75%</th>\n",
              "      <td>1.040000</td>\n",
              "      <td>4.000000</td>\n",
              "      <td>5.000000</td>\n",
              "      <td>3.000000</td>\n",
              "      <td>62.500000</td>\n",
              "      <td>59.000000</td>\n",
              "      <td>5324.250000</td>\n",
              "      <td>6.540000</td>\n",
              "      <td>6.540000</td>\n",
              "      <td>4.040000</td>\n",
              "    </tr>\n",
              "    <tr>\n",
              "      <th>max</th>\n",
              "      <td>5.010000</td>\n",
              "      <td>4.000000</td>\n",
              "      <td>6.000000</td>\n",
              "      <td>7.000000</td>\n",
              "      <td>79.000000</td>\n",
              "      <td>95.000000</td>\n",
              "      <td>18823.000000</td>\n",
              "      <td>10.740000</td>\n",
              "      <td>58.900000</td>\n",
              "      <td>31.800000</td>\n",
              "    </tr>\n",
              "  </tbody>\n",
              "</table>\n",
              "</div>\n",
              "    <div class=\"colab-df-buttons\">\n",
              "\n",
              "  <div class=\"colab-df-container\">\n",
              "    <button class=\"colab-df-convert\" onclick=\"convertToInteractive('df-6be40bc5-4845-4588-b0ba-bcf820564bb4')\"\n",
              "            title=\"Convert this dataframe to an interactive table.\"\n",
              "            style=\"display:none;\">\n",
              "\n",
              "  <svg xmlns=\"http://www.w3.org/2000/svg\" height=\"24px\" viewBox=\"0 -960 960 960\">\n",
              "    <path d=\"M120-120v-720h720v720H120Zm60-500h600v-160H180v160Zm220 220h160v-160H400v160Zm0 220h160v-160H400v160ZM180-400h160v-160H180v160Zm440 0h160v-160H620v160ZM180-180h160v-160H180v160Zm440 0h160v-160H620v160Z\"/>\n",
              "  </svg>\n",
              "    </button>\n",
              "\n",
              "  <style>\n",
              "    .colab-df-container {\n",
              "      display:flex;\n",
              "      gap: 12px;\n",
              "    }\n",
              "\n",
              "    .colab-df-convert {\n",
              "      background-color: #E8F0FE;\n",
              "      border: none;\n",
              "      border-radius: 50%;\n",
              "      cursor: pointer;\n",
              "      display: none;\n",
              "      fill: #1967D2;\n",
              "      height: 32px;\n",
              "      padding: 0 0 0 0;\n",
              "      width: 32px;\n",
              "    }\n",
              "\n",
              "    .colab-df-convert:hover {\n",
              "      background-color: #E2EBFA;\n",
              "      box-shadow: 0px 1px 2px rgba(60, 64, 67, 0.3), 0px 1px 3px 1px rgba(60, 64, 67, 0.15);\n",
              "      fill: #174EA6;\n",
              "    }\n",
              "\n",
              "    .colab-df-buttons div {\n",
              "      margin-bottom: 4px;\n",
              "    }\n",
              "\n",
              "    [theme=dark] .colab-df-convert {\n",
              "      background-color: #3B4455;\n",
              "      fill: #D2E3FC;\n",
              "    }\n",
              "\n",
              "    [theme=dark] .colab-df-convert:hover {\n",
              "      background-color: #434B5C;\n",
              "      box-shadow: 0px 1px 3px 1px rgba(0, 0, 0, 0.15);\n",
              "      filter: drop-shadow(0px 1px 2px rgba(0, 0, 0, 0.3));\n",
              "      fill: #FFFFFF;\n",
              "    }\n",
              "  </style>\n",
              "\n",
              "    <script>\n",
              "      const buttonEl =\n",
              "        document.querySelector('#df-6be40bc5-4845-4588-b0ba-bcf820564bb4 button.colab-df-convert');\n",
              "      buttonEl.style.display =\n",
              "        google.colab.kernel.accessAllowed ? 'block' : 'none';\n",
              "\n",
              "      async function convertToInteractive(key) {\n",
              "        const element = document.querySelector('#df-6be40bc5-4845-4588-b0ba-bcf820564bb4');\n",
              "        const dataTable =\n",
              "          await google.colab.kernel.invokeFunction('convertToInteractive',\n",
              "                                                    [key], {});\n",
              "        if (!dataTable) return;\n",
              "\n",
              "        const docLinkHtml = 'Like what you see? Visit the ' +\n",
              "          '<a target=\"_blank\" href=https://colab.research.google.com/notebooks/data_table.ipynb>data table notebook</a>'\n",
              "          + ' to learn more about interactive tables.';\n",
              "        element.innerHTML = '';\n",
              "        dataTable['output_type'] = 'display_data';\n",
              "        await google.colab.output.renderOutput(dataTable, element);\n",
              "        const docLink = document.createElement('div');\n",
              "        docLink.innerHTML = docLinkHtml;\n",
              "        element.appendChild(docLink);\n",
              "      }\n",
              "    </script>\n",
              "  </div>\n",
              "\n",
              "\n",
              "<div id=\"df-32f5727b-83b6-44be-9c5a-74f18ee2c3c7\">\n",
              "  <button class=\"colab-df-quickchart\" onclick=\"quickchart('df-32f5727b-83b6-44be-9c5a-74f18ee2c3c7')\"\n",
              "            title=\"Suggest charts\"\n",
              "            style=\"display:none;\">\n",
              "\n",
              "<svg xmlns=\"http://www.w3.org/2000/svg\" height=\"24px\"viewBox=\"0 0 24 24\"\n",
              "     width=\"24px\">\n",
              "    <g>\n",
              "        <path d=\"M19 3H5c-1.1 0-2 .9-2 2v14c0 1.1.9 2 2 2h14c1.1 0 2-.9 2-2V5c0-1.1-.9-2-2-2zM9 17H7v-7h2v7zm4 0h-2V7h2v10zm4 0h-2v-4h2v4z\"/>\n",
              "    </g>\n",
              "</svg>\n",
              "  </button>\n",
              "\n",
              "<style>\n",
              "  .colab-df-quickchart {\n",
              "      --bg-color: #E8F0FE;\n",
              "      --fill-color: #1967D2;\n",
              "      --hover-bg-color: #E2EBFA;\n",
              "      --hover-fill-color: #174EA6;\n",
              "      --disabled-fill-color: #AAA;\n",
              "      --disabled-bg-color: #DDD;\n",
              "  }\n",
              "\n",
              "  [theme=dark] .colab-df-quickchart {\n",
              "      --bg-color: #3B4455;\n",
              "      --fill-color: #D2E3FC;\n",
              "      --hover-bg-color: #434B5C;\n",
              "      --hover-fill-color: #FFFFFF;\n",
              "      --disabled-bg-color: #3B4455;\n",
              "      --disabled-fill-color: #666;\n",
              "  }\n",
              "\n",
              "  .colab-df-quickchart {\n",
              "    background-color: var(--bg-color);\n",
              "    border: none;\n",
              "    border-radius: 50%;\n",
              "    cursor: pointer;\n",
              "    display: none;\n",
              "    fill: var(--fill-color);\n",
              "    height: 32px;\n",
              "    padding: 0;\n",
              "    width: 32px;\n",
              "  }\n",
              "\n",
              "  .colab-df-quickchart:hover {\n",
              "    background-color: var(--hover-bg-color);\n",
              "    box-shadow: 0 1px 2px rgba(60, 64, 67, 0.3), 0 1px 3px 1px rgba(60, 64, 67, 0.15);\n",
              "    fill: var(--button-hover-fill-color);\n",
              "  }\n",
              "\n",
              "  .colab-df-quickchart-complete:disabled,\n",
              "  .colab-df-quickchart-complete:disabled:hover {\n",
              "    background-color: var(--disabled-bg-color);\n",
              "    fill: var(--disabled-fill-color);\n",
              "    box-shadow: none;\n",
              "  }\n",
              "\n",
              "  .colab-df-spinner {\n",
              "    border: 2px solid var(--fill-color);\n",
              "    border-color: transparent;\n",
              "    border-bottom-color: var(--fill-color);\n",
              "    animation:\n",
              "      spin 1s steps(1) infinite;\n",
              "  }\n",
              "\n",
              "  @keyframes spin {\n",
              "    0% {\n",
              "      border-color: transparent;\n",
              "      border-bottom-color: var(--fill-color);\n",
              "      border-left-color: var(--fill-color);\n",
              "    }\n",
              "    20% {\n",
              "      border-color: transparent;\n",
              "      border-left-color: var(--fill-color);\n",
              "      border-top-color: var(--fill-color);\n",
              "    }\n",
              "    30% {\n",
              "      border-color: transparent;\n",
              "      border-left-color: var(--fill-color);\n",
              "      border-top-color: var(--fill-color);\n",
              "      border-right-color: var(--fill-color);\n",
              "    }\n",
              "    40% {\n",
              "      border-color: transparent;\n",
              "      border-right-color: var(--fill-color);\n",
              "      border-top-color: var(--fill-color);\n",
              "    }\n",
              "    60% {\n",
              "      border-color: transparent;\n",
              "      border-right-color: var(--fill-color);\n",
              "    }\n",
              "    80% {\n",
              "      border-color: transparent;\n",
              "      border-right-color: var(--fill-color);\n",
              "      border-bottom-color: var(--fill-color);\n",
              "    }\n",
              "    90% {\n",
              "      border-color: transparent;\n",
              "      border-bottom-color: var(--fill-color);\n",
              "    }\n",
              "  }\n",
              "</style>\n",
              "\n",
              "  <script>\n",
              "    async function quickchart(key) {\n",
              "      const quickchartButtonEl =\n",
              "        document.querySelector('#' + key + ' button');\n",
              "      quickchartButtonEl.disabled = true;  // To prevent multiple clicks.\n",
              "      quickchartButtonEl.classList.add('colab-df-spinner');\n",
              "      try {\n",
              "        const charts = await google.colab.kernel.invokeFunction(\n",
              "            'suggestCharts', [key], {});\n",
              "      } catch (error) {\n",
              "        console.error('Error during call to suggestCharts:', error);\n",
              "      }\n",
              "      quickchartButtonEl.classList.remove('colab-df-spinner');\n",
              "      quickchartButtonEl.classList.add('colab-df-quickchart-complete');\n",
              "    }\n",
              "    (() => {\n",
              "      let quickchartButtonEl =\n",
              "        document.querySelector('#df-32f5727b-83b6-44be-9c5a-74f18ee2c3c7 button');\n",
              "      quickchartButtonEl.style.display =\n",
              "        google.colab.kernel.accessAllowed ? 'block' : 'none';\n",
              "    })();\n",
              "  </script>\n",
              "</div>\n",
              "\n",
              "    </div>\n",
              "  </div>\n"
            ],
            "application/vnd.google.colaboratory.intrinsic+json": {
              "type": "dataframe",
              "summary": "{\n  \"name\": \"df\",\n  \"rows\": 8,\n  \"fields\": [\n    {\n      \"column\": \"carat\",\n      \"properties\": {\n        \"dtype\": \"number\",\n        \"std\": 19070.234478413542,\n        \"min\": 0.2,\n        \"max\": 53940.0,\n        \"num_unique_values\": 8,\n        \"samples\": [\n          0.7979397478680014,\n          0.7,\n          53940.0\n        ],\n        \"semantic_type\": \"\",\n        \"description\": \"\"\n      }\n    },\n    {\n      \"column\": \"cut\",\n      \"properties\": {\n        \"dtype\": \"number\",\n        \"std\": 19069.93374635255,\n        \"min\": 0.0,\n        \"max\": 53940.0,\n        \"num_unique_values\": 7,\n        \"samples\": [\n          53940.0,\n          2.276103077493511,\n          2.0\n        ],\n        \"semantic_type\": \"\",\n        \"description\": \"\"\n      }\n    },\n    {\n      \"column\": \"color\",\n      \"properties\": {\n        \"dtype\": \"number\",\n        \"std\": 19069.597990441627,\n        \"min\": 0.0,\n        \"max\": 53940.0,\n        \"num_unique_values\": 8,\n        \"samples\": [\n          3.1744160177975527,\n          4.0,\n          53940.0\n        ],\n        \"semantic_type\": \"\",\n        \"description\": \"\"\n      }\n    },\n    {\n      \"column\": \"clarity\",\n      \"properties\": {\n        \"dtype\": \"number\",\n        \"std\": 19069.810225347657,\n        \"min\": 0.0,\n        \"max\": 53940.0,\n        \"num_unique_values\": 8,\n        \"samples\": [\n          2.25613644790508,\n          2.0,\n          53940.0\n        ],\n        \"semantic_type\": \"\",\n        \"description\": \"\"\n      }\n    },\n    {\n      \"column\": \"depth\",\n      \"properties\": {\n        \"dtype\": \"number\",\n        \"std\": 19051.971755068353,\n        \"min\": 1.4326213188337733,\n        \"max\": 53940.0,\n        \"num_unique_values\": 8,\n        \"samples\": [\n          61.749404894327036,\n          61.8,\n          53940.0\n        ],\n        \"semantic_type\": \"\",\n        \"description\": \"\"\n      }\n    },\n    {\n      \"column\": \"table\",\n      \"properties\": {\n        \"dtype\": \"number\",\n        \"std\": 19052.0145920092,\n        \"min\": 2.234490562820938,\n        \"max\": 53940.0,\n        \"num_unique_values\": 8,\n        \"samples\": [\n          57.45718390804598,\n          57.0,\n          53940.0\n        ],\n        \"semantic_type\": \"\",\n        \"description\": \"\"\n      }\n    },\n    {\n      \"column\": \"price\",\n      \"properties\": {\n        \"dtype\": \"number\",\n        \"std\": 18224.294570634513,\n        \"min\": 326.0,\n        \"max\": 53940.0,\n        \"num_unique_values\": 8,\n        \"samples\": [\n          3932.799721913237,\n          2401.0,\n          53940.0\n        ],\n        \"semantic_type\": \"\",\n        \"description\": \"\"\n      }\n    },\n    {\n      \"column\": \"x\",\n      \"properties\": {\n        \"dtype\": \"number\",\n        \"std\": 19068.925494102743,\n        \"min\": 0.0,\n        \"max\": 53940.0,\n        \"num_unique_values\": 8,\n        \"samples\": [\n          5.731157211716722,\n          5.7,\n          53940.0\n        ],\n        \"semantic_type\": \"\",\n        \"description\": \"\"\n      }\n    },\n    {\n      \"column\": \"y\",\n      \"properties\": {\n        \"dtype\": \"number\",\n        \"std\": 19066.500377283075,\n        \"min\": 0.0,\n        \"max\": 53940.0,\n        \"num_unique_values\": 8,\n        \"samples\": [\n          5.734525954764553,\n          5.71,\n          53940.0\n        ],\n        \"semantic_type\": \"\",\n        \"description\": \"\"\n      }\n    },\n    {\n      \"column\": \"z\",\n      \"properties\": {\n        \"dtype\": \"number\",\n        \"std\": 19068.322867939693,\n        \"min\": 0.0,\n        \"max\": 53940.0,\n        \"num_unique_values\": 8,\n        \"samples\": [\n          3.5387337782721544,\n          3.53,\n          53940.0\n        ],\n        \"semantic_type\": \"\",\n        \"description\": \"\"\n      }\n    }\n  ]\n}"
            }
          },
          "metadata": {},
          "execution_count": 31
        }
      ],
      "execution_count": 31
    },
    {
      "cell_type": "code",
      "source": [
        "m=df.corr()\n",
        "sns.heatmap(m, annot=True)"
      ],
      "metadata": {
        "execution": {
          "iopub.status.busy": "2022-11-27T11:06:42.025008Z",
          "iopub.execute_input": "2022-11-27T11:06:42.026226Z",
          "iopub.status.idle": "2022-11-27T11:06:42.771811Z",
          "shell.execute_reply.started": "2022-11-27T11:06:42.026177Z",
          "shell.execute_reply": "2022-11-27T11:06:42.770691Z"
        },
        "trusted": true,
        "colab": {
          "base_uri": "https://localhost:8080/",
          "height": 482
        },
        "id": "tLpFhLwkHrSL",
        "outputId": "f44b3cef-5dd1-4e00-c0c8-9f9b58765514"
      },
      "outputs": [
        {
          "output_type": "execute_result",
          "data": {
            "text/plain": [
              "<Axes: >"
            ]
          },
          "metadata": {},
          "execution_count": 32
        },
        {
          "output_type": "display_data",
          "data": {
            "text/plain": [
              "<Figure size 640x480 with 2 Axes>"
            ],
            "image/png": "[encoded data removed]"
          },
          "metadata": {}
        }
      ],
      "execution_count": 32
    },
    {
      "cell_type": "code",
      "source": [
        "m.price.sort_values(ascending=False)"
      ],
      "metadata": {
        "execution": {
          "iopub.status.busy": "2022-11-27T11:06:42.773229Z",
          "iopub.execute_input": "2022-11-27T11:06:42.77356Z",
          "iopub.status.idle": "2022-11-27T11:06:42.783659Z",
          "shell.execute_reply.started": "2022-11-27T11:06:42.773529Z",
          "shell.execute_reply": "2022-11-27T11:06:42.782583Z"
        },
        "trusted": true,
        "colab": {
          "base_uri": "https://localhost:8080/",
          "height": 397
        },
        "id": "8x2pZUlwHrSM",
        "outputId": "3f6a8c7f-20a7-4b56-d78a-7df30fd7e024"
      },
      "outputs": [
        {
          "output_type": "execute_result",
          "data": {
            "text/plain": [
              "price      1.000000\n",
              "carat      0.921591\n",
              "x          0.884435\n",
              "y          0.865421\n",
              "z          0.861249\n",
              "table      0.127134\n",
              "cut        0.098074\n",
              "depth     -0.010647\n",
              "color     -0.016560\n",
              "clarity   -0.140270\n",
              "Name: price, dtype: float64"
            ],
            "text/html": [
              "<div>\n",
              "<style scoped>\n",
              "    .dataframe tbody tr th:only-of-type {\n",
              "        vertical-align: middle;\n",
              "    }\n",
              "\n",
              "    .dataframe tbody tr th {\n",
              "        vertical-align: top;\n",
              "    }\n",
              "\n",
              "    .dataframe thead th {\n",
              "        text-align: right;\n",
              "    }\n",
              "</style>\n",
              "<table border=\"1\" class=\"dataframe\">\n",
              "  <thead>\n",
              "    <tr style=\"text-align: right;\">\n",
              "      <th></th>\n",
              "      <th>price</th>\n",
              "    </tr>\n",
              "  </thead>\n",
              "  <tbody>\n",
              "    <tr>\n",
              "      <th>price</th>\n",
              "      <td>1.000000</td>\n",
              "    </tr>\n",
              "    <tr>\n",
              "      <th>carat</th>\n",
              "      <td>0.921591</td>\n",
              "    </tr>\n",
              "    <tr>\n",
              "      <th>x</th>\n",
              "      <td>0.884435</td>\n",
              "    </tr>\n",
              "    <tr>\n",
              "      <th>y</th>\n",
              "      <td>0.865421</td>\n",
              "    </tr>\n",
              "    <tr>\n",
              "      <th>z</th>\n",
              "      <td>0.861249</td>\n",
              "    </tr>\n",
              "    <tr>\n",
              "      <th>table</th>\n",
              "      <td>0.127134</td>\n",
              "    </tr>\n",
              "    <tr>\n",
              "      <th>cut</th>\n",
              "      <td>0.098074</td>\n",
              "    </tr>\n",
              "    <tr>\n",
              "      <th>depth</th>\n",
              "      <td>-0.010647</td>\n",
              "    </tr>\n",
              "    <tr>\n",
              "      <th>color</th>\n",
              "      <td>-0.016560</td>\n",
              "    </tr>\n",
              "    <tr>\n",
              "      <th>clarity</th>\n",
              "      <td>-0.140270</td>\n",
              "    </tr>\n",
              "  </tbody>\n",
              "</table>\n",
              "</div><br><label><b>dtype:</b> float64</label>"
            ]
          },
          "metadata": {},
          "execution_count": 33
        }
      ],
      "execution_count": 33
    },
    {
      "cell_type": "code",
      "source": [
        "# Initialising input feature: carat\n",
        "x=df.carat.values.reshape(-1,1)\n",
        "x"
      ],
      "metadata": {
        "execution": {
          "iopub.status.busy": "2022-11-27T11:06:42.786166Z",
          "iopub.execute_input": "2022-11-27T11:06:42.786912Z",
          "iopub.status.idle": "2022-11-27T11:06:42.797465Z",
          "shell.execute_reply.started": "2022-11-27T11:06:42.78684Z",
          "shell.execute_reply": "2022-11-27T11:06:42.796247Z"
        },
        "trusted": true,
        "colab": {
          "base_uri": "https://localhost:8080/"
        },
        "id": "C5cnBvI_HrSM",
        "outputId": "3b33791b-4e1a-4d93-d147-30771cc560d0"
      },
      "outputs": [
        {
          "output_type": "execute_result",
          "data": {
            "text/plain": [
              "array([[0.23],\n",
              "       [0.21],\n",
              "       [0.23],\n",
              "       ...,\n",
              "       [0.7 ],\n",
              "       [0.86],\n",
              "       [0.75]])"
            ]
          },
          "metadata": {},
          "execution_count": 34
        }
      ],
      "execution_count": 34
    },
    {
      "cell_type": "code",
      "source": [
        "# Initialising output feature: price\n",
        "y=df.price.values.reshape(-1,1)\n",
        "y"
      ],
      "metadata": {
        "execution": {
          "iopub.status.busy": "2022-11-27T11:06:42.799187Z",
          "iopub.execute_input": "2022-11-27T11:06:42.799811Z",
          "iopub.status.idle": "2022-11-27T11:06:42.808659Z",
          "shell.execute_reply.started": "2022-11-27T11:06:42.79977Z",
          "shell.execute_reply": "2022-11-27T11:06:42.807546Z"
        },
        "trusted": true,
        "colab": {
          "base_uri": "https://localhost:8080/"
        },
        "id": "KuHSGBzqHrSM",
        "outputId": "6eff37eb-a683-47a3-bd1e-e64cc6008ab0"
      },
      "outputs": [
        {
          "output_type": "execute_result",
          "data": {
            "text/plain": [
              "array([[ 326],\n",
              "       [ 326],\n",
              "       [ 327],\n",
              "       ...,\n",
              "       [2757],\n",
              "       [2757],\n",
              "       [2757]])"
            ]
          },
          "metadata": {},
          "execution_count": 35
        }
      ],
      "execution_count": 35
    },
    {
      "cell_type": "markdown",
      "source": [
        "WITHOUT OUTLIERS"
      ],
      "metadata": {
        "id": "ff2lBCLEHrSM"
      }
    },
    {
      "cell_type": "code",
      "source": [
        "new_df.corr()"
      ],
      "metadata": {
        "execution": {
          "iopub.status.busy": "2022-11-27T11:06:42.810392Z",
          "iopub.execute_input": "2022-11-27T11:06:42.810846Z",
          "iopub.status.idle": "2022-11-27T11:06:42.847981Z",
          "shell.execute_reply.started": "2022-11-27T11:06:42.810803Z",
          "shell.execute_reply": "2022-11-27T11:06:42.846807Z"
        },
        "trusted": true,
        "colab": {
          "base_uri": "https://localhost:8080/",
          "height": 363
        },
        "id": "iPQvEC9OHrSM",
        "outputId": "339b8ed7-835a-4614-d907-12c7014899ce"
      },
      "outputs": [
        {
          "output_type": "execute_result",
          "data": {
            "text/plain": [
              "            carat       cut     color   clarity     depth     table     price  \\\n",
              "carat    1.000000  0.130327 -0.046129 -0.291837  0.038444  0.179397  0.925713   \n",
              "cut      0.130327  1.000000 -0.015193 -0.122461 -0.121579  0.554758  0.087173   \n",
              "color   -0.046129 -0.015193  1.000000  0.006738 -0.010152 -0.023508  0.003646   \n",
              "clarity -0.291837 -0.122461  0.006738  1.000000 -0.048475 -0.109854 -0.138798   \n",
              "depth    0.038444 -0.121579 -0.010152 -0.048475  1.000000 -0.228592  0.010070   \n",
              "table    0.179397  0.554758 -0.023508 -0.109854 -0.228592  1.000000  0.131115   \n",
              "price    0.925713  0.087173  0.003646 -0.138798  0.010070  0.131115  1.000000   \n",
              "x        0.986422  0.128476 -0.036850 -0.305679 -0.008447  0.176573  0.904401   \n",
              "y        0.985544  0.117266 -0.037249 -0.303599 -0.010181  0.171112  0.905389   \n",
              "z        0.985240  0.109982 -0.037727 -0.307642  0.093821  0.150680  0.901257   \n",
              "\n",
              "                x         y         z  \n",
              "carat    0.986422  0.985544  0.985240  \n",
              "cut      0.128476  0.117266  0.109982  \n",
              "color   -0.036850 -0.037249 -0.037727  \n",
              "clarity -0.305679 -0.303599 -0.307642  \n",
              "depth   -0.008447 -0.010181  0.093821  \n",
              "table    0.176573  0.171112  0.150680  \n",
              "price    0.904401  0.905389  0.901257  \n",
              "x        1.000000  0.998473  0.993372  \n",
              "y        0.998473  1.000000  0.993188  \n",
              "z        0.993372  0.993188  1.000000  "
            ],
            "text/html": [
              "\n",
              "  <div id=\"df-cf372918-513e-4f79-96a9-dcbc09858c3b\" class=\"colab-df-container\">\n",
              "    <div>\n",
              "<style scoped>\n",
              "    .dataframe tbody tr th:only-of-type {\n",
              "        vertical-align: middle;\n",
              "    }\n",
              "\n",
              "    .dataframe tbody tr th {\n",
              "        vertical-align: top;\n",
              "    }\n",
              "\n",
              "    .dataframe thead th {\n",
              "        text-align: right;\n",
              "    }\n",
              "</style>\n",
              "<table border=\"1\" class=\"dataframe\">\n",
              "  <thead>\n",
              "    <tr style=\"text-align: right;\">\n",
              "      <th></th>\n",
              "      <th>carat</th>\n",
              "      <th>cut</th>\n",
              "      <th>color</th>\n",
              "      <th>clarity</th>\n",
              "      <th>depth</th>\n",
              "      <th>table</th>\n",
              "      <th>price</th>\n",
              "      <th>x</th>\n",
              "      <th>y</th>\n",
              "      <th>z</th>\n",
              "    </tr>\n",
              "  </thead>\n",
              "  <tbody>\n",
              "    <tr>\n",
              "      <th>carat</th>\n",
              "      <td>1.000000</td>\n",
              "      <td>0.130327</td>\n",
              "      <td>-0.046129</td>\n",
              "      <td>-0.291837</td>\n",
              "      <td>0.038444</td>\n",
              "      <td>0.179397</td>\n",
              "      <td>0.925713</td>\n",
              "      <td>0.986422</td>\n",
              "      <td>0.985544</td>\n",
              "      <td>0.985240</td>\n",
              "    </tr>\n",
              "    <tr>\n",
              "      <th>cut</th>\n",
              "      <td>0.130327</td>\n",
              "      <td>1.000000</td>\n",
              "      <td>-0.015193</td>\n",
              "      <td>-0.122461</td>\n",
              "      <td>-0.121579</td>\n",
              "      <td>0.554758</td>\n",
              "      <td>0.087173</td>\n",
              "      <td>0.128476</td>\n",
              "      <td>0.117266</td>\n",
              "      <td>0.109982</td>\n",
              "    </tr>\n",
              "    <tr>\n",
              "      <th>color</th>\n",
              "      <td>-0.046129</td>\n",
              "      <td>-0.015193</td>\n",
              "      <td>1.000000</td>\n",
              "      <td>0.006738</td>\n",
              "      <td>-0.010152</td>\n",
              "      <td>-0.023508</td>\n",
              "      <td>0.003646</td>\n",
              "      <td>-0.036850</td>\n",
              "      <td>-0.037249</td>\n",
              "      <td>-0.037727</td>\n",
              "    </tr>\n",
              "    <tr>\n",
              "      <th>clarity</th>\n",
              "      <td>-0.291837</td>\n",
              "      <td>-0.122461</td>\n",
              "      <td>0.006738</td>\n",
              "      <td>1.000000</td>\n",
              "      <td>-0.048475</td>\n",
              "      <td>-0.109854</td>\n",
              "      <td>-0.138798</td>\n",
              "      <td>-0.305679</td>\n",
              "      <td>-0.303599</td>\n",
              "      <td>-0.307642</td>\n",
              "    </tr>\n",
              "    <tr>\n",
              "      <th>depth</th>\n",
              "      <td>0.038444</td>\n",
              "      <td>-0.121579</td>\n",
              "      <td>-0.010152</td>\n",
              "      <td>-0.048475</td>\n",
              "      <td>1.000000</td>\n",
              "      <td>-0.228592</td>\n",
              "      <td>0.010070</td>\n",
              "      <td>-0.008447</td>\n",
              "      <td>-0.010181</td>\n",
              "      <td>0.093821</td>\n",
              "    </tr>\n",
              "    <tr>\n",
              "      <th>table</th>\n",
              "      <td>0.179397</td>\n",
              "      <td>0.554758</td>\n",
              "      <td>-0.023508</td>\n",
              "      <td>-0.109854</td>\n",
              "      <td>-0.228592</td>\n",
              "      <td>1.000000</td>\n",
              "      <td>0.131115</td>\n",
              "      <td>0.176573</td>\n",
              "      <td>0.171112</td>\n",
              "      <td>0.150680</td>\n",
              "    </tr>\n",
              "    <tr>\n",
              "      <th>price</th>\n",
              "      <td>0.925713</td>\n",
              "      <td>0.087173</td>\n",
              "      <td>0.003646</td>\n",
              "      <td>-0.138798</td>\n",
              "      <td>0.010070</td>\n",
              "      <td>0.131115</td>\n",
              "      <td>1.000000</td>\n",
              "      <td>0.904401</td>\n",
              "      <td>0.905389</td>\n",
              "      <td>0.901257</td>\n",
              "    </tr>\n",
              "    <tr>\n",
              "      <th>x</th>\n",
              "      <td>0.986422</td>\n",
              "      <td>0.128476</td>\n",
              "      <td>-0.036850</td>\n",
              "      <td>-0.305679</td>\n",
              "      <td>-0.008447</td>\n",
              "      <td>0.176573</td>\n",
              "      <td>0.904401</td>\n",
              "      <td>1.000000</td>\n",
              "      <td>0.998473</td>\n",
              "      <td>0.993372</td>\n",
              "    </tr>\n",
              "    <tr>\n",
              "      <th>y</th>\n",
              "      <td>0.985544</td>\n",
              "      <td>0.117266</td>\n",
              "      <td>-0.037249</td>\n",
              "      <td>-0.303599</td>\n",
              "      <td>-0.010181</td>\n",
              "      <td>0.171112</td>\n",
              "      <td>0.905389</td>\n",
              "      <td>0.998473</td>\n",
              "      <td>1.000000</td>\n",
              "      <td>0.993188</td>\n",
              "    </tr>\n",
              "    <tr>\n",
              "      <th>z</th>\n",
              "      <td>0.985240</td>\n",
              "      <td>0.109982</td>\n",
              "      <td>-0.037727</td>\n",
              "      <td>-0.307642</td>\n",
              "      <td>0.093821</td>\n",
              "      <td>0.150680</td>\n",
              "      <td>0.901257</td>\n",
              "      <td>0.993372</td>\n",
              "      <td>0.993188</td>\n",
              "      <td>1.000000</td>\n",
              "    </tr>\n",
              "  </tbody>\n",
              "</table>\n",
              "</div>\n",
              "    <div class=\"colab-df-buttons\">\n",
              "\n",
              "  <div class=\"colab-df-container\">\n",
              "    <button class=\"colab-df-convert\" onclick=\"convertToInteractive('df-cf372918-513e-4f79-96a9-dcbc09858c3b')\"\n",
              "            title=\"Convert this dataframe to an interactive table.\"\n",
              "            style=\"display:none;\">\n",
              "\n",
              "  <svg xmlns=\"http://www.w3.org/2000/svg\" height=\"24px\" viewBox=\"0 -960 960 960\">\n",
              "    <path d=\"M120-120v-720h720v720H120Zm60-500h600v-160H180v160Zm220 220h160v-160H400v160Zm0 220h160v-160H400v160ZM180-400h160v-160H180v160Zm440 0h160v-160H620v160ZM180-180h160v-160H180v160Zm440 0h160v-160H620v160Z\"/>\n",
              "  </svg>\n",
              "    </button>\n",
              "\n",
              "  <style>\n",
              "    .colab-df-container {\n",
              "      display:flex;\n",
              "      gap: 12px;\n",
              "    }\n",
              "\n",
              "    .colab-df-convert {\n",
              "      background-color: #E8F0FE;\n",
              "      border: none;\n",
              "      border-radius: 50%;\n",
              "      cursor: pointer;\n",
              "      display: none;\n",
              "      fill: #1967D2;\n",
              "      height: 32px;\n",
              "      padding: 0 0 0 0;\n",
              "      width: 32px;\n",
              "    }\n",
              "\n",
              "    .colab-df-convert:hover {\n",
              "      background-color: #E2EBFA;\n",
              "      box-shadow: 0px 1px 2px rgba(60, 64, 67, 0.3), 0px 1px 3px 1px rgba(60, 64, 67, 0.15);\n",
              "      fill: #174EA6;\n",
              "    }\n",
              "\n",
              "    .colab-df-buttons div {\n",
              "      margin-bottom: 4px;\n",
              "    }\n",
              "\n",
              "    [theme=dark] .colab-df-convert {\n",
              "      background-color: #3B4455;\n",
              "      fill: #D2E3FC;\n",
              "    }\n",
              "\n",
              "    [theme=dark] .colab-df-convert:hover {\n",
              "      background-color: #434B5C;\n",
              "      box-shadow: 0px 1px 3px 1px rgba(0, 0, 0, 0.15);\n",
              "      filter: drop-shadow(0px 1px 2px rgba(0, 0, 0, 0.3));\n",
              "      fill: #FFFFFF;\n",
              "    }\n",
              "  </style>\n",
              "\n",
              "    <script>\n",
              "      const buttonEl =\n",
              "        document.querySelector('#df-cf372918-513e-4f79-96a9-dcbc09858c3b button.colab-df-convert');\n",
              "      buttonEl.style.display =\n",
              "        google.colab.kernel.accessAllowed ? 'block' : 'none';\n",
              "\n",
              "      async function convertToInteractive(key) {\n",
              "        const element = document.querySelector('#df-cf372918-513e-4f79-96a9-dcbc09858c3b');\n",
              "        const dataTable =\n",
              "          await google.colab.kernel.invokeFunction('convertToInteractive',\n",
              "                                                    [key], {});\n",
              "        if (!dataTable) return;\n",
              "\n",
              "        const docLinkHtml = 'Like what you see? Visit the ' +\n",
              "          '<a target=\"_blank\" href=https://colab.research.google.com/notebooks/data_table.ipynb>data table notebook</a>'\n",
              "          + ' to learn more about interactive tables.';\n",
              "        element.innerHTML = '';\n",
              "        dataTable['output_type'] = 'display_data';\n",
              "        await google.colab.output.renderOutput(dataTable, element);\n",
              "        const docLink = document.createElement('div');\n",
              "        docLink.innerHTML = docLinkHtml;\n",
              "        element.appendChild(docLink);\n",
              "      }\n",
              "    </script>\n",
              "  </div>\n",
              "\n",
              "\n",
              "<div id=\"df-c4434da3-b726-41b9-a27d-7374bcdcf588\">\n",
              "  <button class=\"colab-df-quickchart\" onclick=\"quickchart('df-c4434da3-b726-41b9-a27d-7374bcdcf588')\"\n",
              "            title=\"Suggest charts\"\n",
              "            style=\"display:none;\">\n",
              "\n",
              "<svg xmlns=\"http://www.w3.org/2000/svg\" height=\"24px\"viewBox=\"0 0 24 24\"\n",
              "     width=\"24px\">\n",
              "    <g>\n",
              "        <path d=\"M19 3H5c-1.1 0-2 .9-2 2v14c0 1.1.9 2 2 2h14c1.1 0 2-.9 2-2V5c0-1.1-.9-2-2-2zM9 17H7v-7h2v7zm4 0h-2V7h2v10zm4 0h-2v-4h2v4z\"/>\n",
              "    </g>\n",
              "</svg>\n",
              "  </button>\n",
              "\n",
              "<style>\n",
              "  .colab-df-quickchart {\n",
              "      --bg-color: #E8F0FE;\n",
              "      --fill-color: #1967D2;\n",
              "      --hover-bg-color: #E2EBFA;\n",
              "      --hover-fill-color: #174EA6;\n",
              "      --disabled-fill-color: #AAA;\n",
              "      --disabled-bg-color: #DDD;\n",
              "  }\n",
              "\n",
              "  [theme=dark] .colab-df-quickchart {\n",
              "      --bg-color: #3B4455;\n",
              "      --fill-color: #D2E3FC;\n",
              "      --hover-bg-color: #434B5C;\n",
              "      --hover-fill-color: #FFFFFF;\n",
              "      --disabled-bg-color: #3B4455;\n",
              "      --disabled-fill-color: #666;\n",
              "  }\n",
              "\n",
              "  .colab-df-quickchart {\n",
              "    background-color: var(--bg-color);\n",
              "    border: none;\n",
              "    border-radius: 50%;\n",
              "    cursor: pointer;\n",
              "    display: none;\n",
              "    fill: var(--fill-color);\n",
              "    height: 32px;\n",
              "    padding: 0;\n",
              "    width: 32px;\n",
              "  }\n",
              "\n",
              "  .colab-df-quickchart:hover {\n",
              "    background-color: var(--hover-bg-color);\n",
              "    box-shadow: 0 1px 2px rgba(60, 64, 67, 0.3), 0 1px 3px 1px rgba(60, 64, 67, 0.15);\n",
              "    fill: var(--button-hover-fill-color);\n",
              "  }\n",
              "\n",
              "  .colab-df-quickchart-complete:disabled,\n",
              "  .colab-df-quickchart-complete:disabled:hover {\n",
              "    background-color: var(--disabled-bg-color);\n",
              "    fill: var(--disabled-fill-color);\n",
              "    box-shadow: none;\n",
              "  }\n",
              "\n",
              "  .colab-df-spinner {\n",
              "    border: 2px solid var(--fill-color);\n",
              "    border-color: transparent;\n",
              "    border-bottom-color: var(--fill-color);\n",
              "    animation:\n",
              "      spin 1s steps(1) infinite;\n",
              "  }\n",
              "\n",
              "  @keyframes spin {\n",
              "    0% {\n",
              "      border-color: transparent;\n",
              "      border-bottom-color: var(--fill-color);\n",
              "      border-left-color: var(--fill-color);\n",
              "    }\n",
              "    20% {\n",
              "      border-color: transparent;\n",
              "      border-left-color: var(--fill-color);\n",
              "      border-top-color: var(--fill-color);\n",
              "    }\n",
              "    30% {\n",
              "      border-color: transparent;\n",
              "      border-left-color: var(--fill-color);\n",
              "      border-top-color: var(--fill-color);\n",
              "      border-right-color: var(--fill-color);\n",
              "    }\n",
              "    40% {\n",
              "      border-color: transparent;\n",
              "      border-right-color: var(--fill-color);\n",
              "      border-top-color: var(--fill-color);\n",
              "    }\n",
              "    60% {\n",
              "      border-color: transparent;\n",
              "      border-right-color: var(--fill-color);\n",
              "    }\n",
              "    80% {\n",
              "      border-color: transparent;\n",
              "      border-right-color: var(--fill-color);\n",
              "      border-bottom-color: var(--fill-color);\n",
              "    }\n",
              "    90% {\n",
              "      border-color: transparent;\n",
              "      border-bottom-color: var(--fill-color);\n",
              "    }\n",
              "  }\n",
              "</style>\n",
              "\n",
              "  <script>\n",
              "    async function quickchart(key) {\n",
              "      const quickchartButtonEl =\n",
              "        document.querySelector('#' + key + ' button');\n",
              "      quickchartButtonEl.disabled = true;  // To prevent multiple clicks.\n",
              "      quickchartButtonEl.classList.add('colab-df-spinner');\n",
              "      try {\n",
              "        const charts = await google.colab.kernel.invokeFunction(\n",
              "            'suggestCharts', [key], {});\n",
              "      } catch (error) {\n",
              "        console.error('Error during call to suggestCharts:', error);\n",
              "      }\n",
              "      quickchartButtonEl.classList.remove('colab-df-spinner');\n",
              "      quickchartButtonEl.classList.add('colab-df-quickchart-complete');\n",
              "    }\n",
              "    (() => {\n",
              "      let quickchartButtonEl =\n",
              "        document.querySelector('#df-c4434da3-b726-41b9-a27d-7374bcdcf588 button');\n",
              "      quickchartButtonEl.style.display =\n",
              "        google.colab.kernel.accessAllowed ? 'block' : 'none';\n",
              "    })();\n",
              "  </script>\n",
              "</div>\n",
              "\n",
              "    </div>\n",
              "  </div>\n"
            ],
            "application/vnd.google.colaboratory.intrinsic+json": {
              "type": "dataframe",
              "summary": "{\n  \"name\": \"new_df\",\n  \"rows\": 10,\n  \"fields\": [\n    {\n      \"column\": \"carat\",\n      \"properties\": {\n        \"dtype\": \"number\",\n        \"std\": 0.5286932560063161,\n        \"min\": -0.29183698274011366,\n        \"max\": 1.0,\n        \"num_unique_values\": 10,\n        \"samples\": [\n          0.9855442426799679,\n          0.13032745084063627,\n          0.1793966077342755\n        ],\n        \"semantic_type\": \"\",\n        \"description\": \"\"\n      }\n    },\n    {\n      \"column\": \"cut\",\n      \"properties\": {\n        \"dtype\": \"number\",\n        \"std\": 0.34245530487462417,\n        \"min\": -0.12246124352837388,\n        \"max\": 1.0,\n        \"num_unique_values\": 10,\n        \"samples\": [\n          0.11726587275480338,\n          1.0,\n          0.5547579234164575\n        ],\n        \"semantic_type\": \"\",\n        \"description\": \"\"\n      }\n    },\n    {\n      \"column\": \"color\",\n      \"properties\": {\n        \"dtype\": \"number\",\n        \"std\": 0.32363701995501537,\n        \"min\": -0.04612928765523904,\n        \"max\": 1.0,\n        \"num_unique_values\": 10,\n        \"samples\": [\n          -0.03724883701498281,\n          -0.015192504653920249,\n          -0.023508485403541272\n        ],\n        \"semantic_type\": \"\",\n        \"description\": \"\"\n      }\n    },\n    {\n      \"column\": \"clarity\",\n      \"properties\": {\n        \"dtype\": \"number\",\n        \"std\": 0.39094041647276484,\n        \"min\": -0.307642255937768,\n        \"max\": 1.0,\n        \"num_unique_values\": 10,\n        \"samples\": [\n          -0.303599150310815,\n          -0.12246124352837388,\n          -0.10985419905443439\n        ],\n        \"semantic_type\": \"\",\n        \"description\": \"\"\n      }\n    },\n    {\n      \"column\": \"depth\",\n      \"properties\": {\n        \"dtype\": \"number\",\n        \"std\": 0.3381215740390338,\n        \"min\": -0.22859172833234007,\n        \"max\": 1.0,\n        \"num_unique_values\": 10,\n        \"samples\": [\n          -0.010180609662752325,\n          -0.12157917111075638,\n          -0.22859172833234007\n        ],\n        \"semantic_type\": \"\",\n        \"description\": \"\"\n      }\n    },\n    {\n      \"column\": \"table\",\n      \"properties\": {\n        \"dtype\": \"number\",\n        \"std\": 0.35031650461252206,\n        \"min\": -0.22859172833234007,\n        \"max\": 1.0,\n        \"num_unique_values\": 10,\n        \"samples\": [\n          0.17111181945734463,\n          0.5547579234164575,\n          1.0\n        ],\n        \"semantic_type\": \"\",\n        \"description\": \"\"\n      }\n    },\n    {\n      \"column\": \"price\",\n      \"properties\": {\n        \"dtype\": \"number\",\n        \"std\": 0.4846293890951743,\n        \"min\": -0.13879778846376792,\n        \"max\": 1.0,\n        \"num_unique_values\": 10,\n        \"samples\": [\n          0.9053893514846044,\n          0.08717306959994849,\n          0.13111536357482015\n        ],\n        \"semantic_type\": \"\",\n        \"description\": \"\"\n      }\n    },\n    {\n      \"column\": \"x\",\n      \"properties\": {\n        \"dtype\": \"number\",\n        \"std\": 0.5351896740549436,\n        \"min\": -0.30567867640697355,\n        \"max\": 1.0,\n        \"num_unique_values\": 10,\n        \"samples\": [\n          0.9984725460667077,\n          0.12847644690257798,\n          0.1765732722586534\n        ],\n        \"semantic_type\": \"\",\n        \"description\": \"\"\n      }\n    },\n    {\n      \"column\": \"y\",\n      \"properties\": {\n        \"dtype\": \"number\",\n        \"std\": 0.5362323099495342,\n        \"min\": -0.303599150310815,\n        \"max\": 1.0,\n        \"num_unique_values\": 10,\n        \"samples\": [\n          1.0,\n          0.11726587275480338,\n          0.17111181945734463\n        ],\n        \"semantic_type\": \"\",\n        \"description\": \"\"\n      }\n    },\n    {\n      \"column\": \"z\",\n      \"properties\": {\n        \"dtype\": \"number\",\n        \"std\": 0.5283394532136161,\n        \"min\": -0.307642255937768,\n        \"max\": 1.0,\n        \"num_unique_values\": 10,\n        \"samples\": [\n          0.9931878301409628,\n          0.10998204810947172,\n          0.15067951835590315\n        ],\n        \"semantic_type\": \"\",\n        \"description\": \"\"\n      }\n    }\n  ]\n}"
            }
          },
          "metadata": {},
          "execution_count": 36
        }
      ],
      "execution_count": 36
    },
    {
      "cell_type": "code",
      "source": [
        "sns.heatmap(new_df.corr(), annot=True)"
      ],
      "metadata": {
        "execution": {
          "iopub.status.busy": "2022-11-27T11:06:42.849344Z",
          "iopub.execute_input": "2022-11-27T11:06:42.850169Z",
          "iopub.status.idle": "2022-11-27T11:06:43.584241Z",
          "shell.execute_reply.started": "2022-11-27T11:06:42.850135Z",
          "shell.execute_reply": "2022-11-27T11:06:43.582996Z"
        },
        "trusted": true,
        "colab": {
          "base_uri": "https://localhost:8080/",
          "height": 482
        },
        "id": "2Ame7SW4HrSM",
        "outputId": "8b51758f-bf02-4fe2-fd96-c69453603e10"
      },
      "outputs": [
        {
          "output_type": "execute_result",
          "data": {
            "text/plain": [
              "<Axes: >"
            ]
          },
          "metadata": {},
          "execution_count": 37
        },
        {
          "output_type": "display_data",
          "data": {
            "text/plain": [
              "<Figure size 640x480 with 2 Axes>"
            ],
            "image/png": "[encoded data removed]"
          },
          "metadata": {}
        }
      ],
      "execution_count": 37
    },
    {
      "cell_type": "code",
      "source": [
        "new_df.corr()[\"price\"].sort_values(ascending=False)"
      ],
      "metadata": {
        "execution": {
          "iopub.status.busy": "2022-11-27T11:06:43.585608Z",
          "iopub.execute_input": "2022-11-27T11:06:43.585981Z",
          "iopub.status.idle": "2022-11-27T11:06:43.61364Z",
          "shell.execute_reply.started": "2022-11-27T11:06:43.585948Z",
          "shell.execute_reply": "2022-11-27T11:06:43.612513Z"
        },
        "trusted": true,
        "colab": {
          "base_uri": "https://localhost:8080/",
          "height": 397
        },
        "id": "numAalG4HrSM",
        "outputId": "908b4517-668e-4ebb-f9bc-ec75e201da69"
      },
      "outputs": [
        {
          "output_type": "execute_result",
          "data": {
            "text/plain": [
              "price      1.000000\n",
              "carat      0.925713\n",
              "y          0.905389\n",
              "x          0.904401\n",
              "z          0.901257\n",
              "table      0.131115\n",
              "cut        0.087173\n",
              "depth      0.010070\n",
              "color      0.003646\n",
              "clarity   -0.138798\n",
              "Name: price, dtype: float64"
            ],
            "text/html": [
              "<div>\n",
              "<style scoped>\n",
              "    .dataframe tbody tr th:only-of-type {\n",
              "        vertical-align: middle;\n",
              "    }\n",
              "\n",
              "    .dataframe tbody tr th {\n",
              "        vertical-align: top;\n",
              "    }\n",
              "\n",
              "    .dataframe thead th {\n",
              "        text-align: right;\n",
              "    }\n",
              "</style>\n",
              "<table border=\"1\" class=\"dataframe\">\n",
              "  <thead>\n",
              "    <tr style=\"text-align: right;\">\n",
              "      <th></th>\n",
              "      <th>price</th>\n",
              "    </tr>\n",
              "  </thead>\n",
              "  <tbody>\n",
              "    <tr>\n",
              "      <th>price</th>\n",
              "      <td>1.000000</td>\n",
              "    </tr>\n",
              "    <tr>\n",
              "      <th>carat</th>\n",
              "      <td>0.925713</td>\n",
              "    </tr>\n",
              "    <tr>\n",
              "      <th>y</th>\n",
              "      <td>0.905389</td>\n",
              "    </tr>\n",
              "    <tr>\n",
              "      <th>x</th>\n",
              "      <td>0.904401</td>\n",
              "    </tr>\n",
              "    <tr>\n",
              "      <th>z</th>\n",
              "      <td>0.901257</td>\n",
              "    </tr>\n",
              "    <tr>\n",
              "      <th>table</th>\n",
              "      <td>0.131115</td>\n",
              "    </tr>\n",
              "    <tr>\n",
              "      <th>cut</th>\n",
              "      <td>0.087173</td>\n",
              "    </tr>\n",
              "    <tr>\n",
              "      <th>depth</th>\n",
              "      <td>0.010070</td>\n",
              "    </tr>\n",
              "    <tr>\n",
              "      <th>color</th>\n",
              "      <td>0.003646</td>\n",
              "    </tr>\n",
              "    <tr>\n",
              "      <th>clarity</th>\n",
              "      <td>-0.138798</td>\n",
              "    </tr>\n",
              "  </tbody>\n",
              "</table>\n",
              "</div><br><label><b>dtype:</b> float64</label>"
            ]
          },
          "metadata": {},
          "execution_count": 38
        }
      ],
      "execution_count": 38
    },
    {
      "cell_type": "code",
      "source": [
        "new_x=new_df.carat.values.reshape(-1,1)\n",
        "new_y=new_df.price.values.reshape(-1,1)\n",
        "x,y"
      ],
      "metadata": {
        "execution": {
          "iopub.status.busy": "2022-11-27T11:06:43.614784Z",
          "iopub.execute_input": "2022-11-27T11:06:43.615118Z",
          "iopub.status.idle": "2022-11-27T11:06:43.623808Z",
          "shell.execute_reply.started": "2022-11-27T11:06:43.615089Z",
          "shell.execute_reply": "2022-11-27T11:06:43.622916Z"
        },
        "trusted": true,
        "colab": {
          "base_uri": "https://localhost:8080/"
        },
        "id": "-bcCZ1jRHrSN",
        "outputId": "c4df88bc-4ca2-4191-cd55-724c3ee1758f"
      },
      "outputs": [
        {
          "output_type": "execute_result",
          "data": {
            "text/plain": [
              "(array([[0.23],\n",
              "        [0.21],\n",
              "        [0.23],\n",
              "        ...,\n",
              "        [0.7 ],\n",
              "        [0.86],\n",
              "        [0.75]]),\n",
              " array([[ 326],\n",
              "        [ 326],\n",
              "        [ 327],\n",
              "        ...,\n",
              "        [2757],\n",
              "        [2757],\n",
              "        [2757]]))"
            ]
          },
          "metadata": {},
          "execution_count": 39
        }
      ],
      "execution_count": 39
    },
    {
      "cell_type": "markdown",
      "source": [
        "# **8. Data splitting**"
      ],
      "metadata": {
        "id": "PMeTzQOvHrSN"
      }
    },
    {
      "cell_type": "markdown",
      "source": [
        "WITH OUTLIERS"
      ],
      "metadata": {
        "id": "vkyqRJBTHrSN"
      }
    },
    {
      "cell_type": "code",
      "source": [
        "from sklearn.model_selection import train_test_split\n",
        "x_train,x_test, y_train,y_test=train_test_split(x,y,test_size=0.2,shuffle=True)\n",
        "x_train,x_test, y_train,y_test"
      ],
      "metadata": {
        "execution": {
          "iopub.status.busy": "2022-11-27T11:06:43.625463Z",
          "iopub.execute_input": "2022-11-27T11:06:43.625815Z",
          "iopub.status.idle": "2022-11-27T11:06:43.641578Z",
          "shell.execute_reply.started": "2022-11-27T11:06:43.625784Z",
          "shell.execute_reply": "2022-11-27T11:06:43.640522Z"
        },
        "trusted": true,
        "colab": {
          "base_uri": "https://localhost:8080/"
        },
        "id": "WowbUSkrHrSN",
        "outputId": "accfcad7-0842-4d2d-e7ee-01b6bad92721"
      },
      "outputs": [
        {
          "output_type": "execute_result",
          "data": {
            "text/plain": [
              "(array([[0.74],\n",
              "        [0.33],\n",
              "        [0.57],\n",
              "        ...,\n",
              "        [0.4 ],\n",
              "        [0.89],\n",
              "        [0.51]]),\n",
              " array([[0.52],\n",
              "        [0.25],\n",
              "        [1.2 ],\n",
              "        ...,\n",
              "        [2.  ],\n",
              "        [0.31],\n",
              "        [1.13]]),\n",
              " array([[1913],\n",
              "        [ 686],\n",
              "        [1728],\n",
              "        ...,\n",
              "        [1123],\n",
              "        [4127],\n",
              "        [1284]]),\n",
              " array([[ 1582],\n",
              "        [  462],\n",
              "        [ 7909],\n",
              "        ...,\n",
              "        [16439],\n",
              "        [  558],\n",
              "        [ 4214]]))"
            ]
          },
          "metadata": {},
          "execution_count": 40
        }
      ],
      "execution_count": 40
    },
    {
      "cell_type": "code",
      "source": [
        "# Checing if the entries are equal in the x,y parameters for each\n",
        "x_train.shape,x_test.shape, y_train.shape,y_test.shape"
      ],
      "metadata": {
        "execution": {
          "iopub.status.busy": "2022-11-27T11:06:43.642881Z",
          "iopub.execute_input": "2022-11-27T11:06:43.643323Z",
          "iopub.status.idle": "2022-11-27T11:06:43.655585Z",
          "shell.execute_reply.started": "2022-11-27T11:06:43.643291Z",
          "shell.execute_reply": "2022-11-27T11:06:43.654423Z"
        },
        "trusted": true,
        "colab": {
          "base_uri": "https://localhost:8080/"
        },
        "id": "HPaaAk_QHrSN",
        "outputId": "999135dc-8fe7-4f86-e00d-be8f51a892f4"
      },
      "outputs": [
        {
          "output_type": "execute_result",
          "data": {
            "text/plain": [
              "((43152, 1), (10788, 1), (43152, 1), (10788, 1))"
            ]
          },
          "metadata": {},
          "execution_count": 41
        }
      ],
      "execution_count": 41
    },
    {
      "cell_type": "markdown",
      "source": [
        "WITHOUT OUTLIERS"
      ],
      "metadata": {
        "id": "BtvGbQt5HrSN"
      }
    },
    {
      "cell_type": "code",
      "source": [
        "nx_train,nx_test,ny_train,ny_test=train_test_split(new_x, new_y, test_size=0.2, shuffle=True)\n",
        "nx_train.shape,nx_test.shape, ny_train.shape,ny_test.shape"
      ],
      "metadata": {
        "execution": {
          "iopub.status.busy": "2022-11-27T11:06:43.656888Z",
          "iopub.execute_input": "2022-11-27T11:06:43.657241Z",
          "iopub.status.idle": "2022-11-27T11:06:43.670834Z",
          "shell.execute_reply.started": "2022-11-27T11:06:43.657212Z",
          "shell.execute_reply": "2022-11-27T11:06:43.669683Z"
        },
        "trusted": true,
        "colab": {
          "base_uri": "https://localhost:8080/"
        },
        "id": "gVJ60kQIHrSO",
        "outputId": "fd00a4c4-bf1b-4098-ad8b-ac813a5a9d49"
      },
      "outputs": [
        {
          "output_type": "execute_result",
          "data": {
            "text/plain": [
              "((35998, 1), (9000, 1), (35998, 1), (9000, 1))"
            ]
          },
          "metadata": {},
          "execution_count": 42
        }
      ],
      "execution_count": 42
    },
    {
      "cell_type": "markdown",
      "source": [
        "# **9. Predict the Price of diamonds by using Simple liner regression model.**"
      ],
      "metadata": {
        "id": "eTcjNGfrHrSO"
      }
    },
    {
      "cell_type": "markdown",
      "source": [
        "WITH OUTLIERS"
      ],
      "metadata": {
        "id": "SvwCmPSGHrSO"
      }
    },
    {
      "cell_type": "code",
      "source": [
        "from sklearn.linear_model import LinearRegression\n",
        "lm=LinearRegression()\n",
        "lm.fit(x_train,y_train)\n",
        "# Predicting on the test dataset\n",
        "y_pred=lm.predict(x_test)\n",
        "plt.scatter(x,y)\n",
        "plt.scatter(x_test,y_pred)\n",
        "\n",
        "#Making predictions\n",
        "X=np.array([1,2,3]).reshape(-1,1)\n",
        "Y=lm.predict(X)\n",
        "print(Y)\n",
        "plt.plot(X,Y,\"ok\")"
      ],
      "metadata": {
        "execution": {
          "iopub.status.busy": "2022-11-27T11:06:43.672375Z",
          "iopub.execute_input": "2022-11-27T11:06:43.673195Z",
          "iopub.status.idle": "2022-11-27T11:06:44.07021Z",
          "shell.execute_reply.started": "2022-11-27T11:06:43.673156Z",
          "shell.execute_reply": "2022-11-27T11:06:44.069025Z"
        },
        "trusted": true,
        "colab": {
          "base_uri": "https://localhost:8080/",
          "height": 500
        },
        "id": "NzV5XcWpHrSO",
        "outputId": "8e0ec137-fe6b-4ae9-edb7-4ba3575eea44"
      },
      "outputs": [
        {
          "output_type": "stream",
          "name": "stdout",
          "text": [
            "[[ 5498.43235132]\n",
            " [13248.51075208]\n",
            " [20998.58915284]]\n"
          ]
        },
        {
          "output_type": "execute_result",
          "data": {
            "text/plain": [
              "[<matplotlib.lines.Line2D at 0x7bb3ea6d4390>]"
            ]
          },
          "metadata": {},
          "execution_count": 43
        },
        {
          "output_type": "display_data",
          "data": {
            "text/plain": [
              "<Figure size 640x480 with 1 Axes>"
            ],
            "image/png": "[encoded data removed]"
          },
          "metadata": {}
        }
      ],
      "execution_count": 43
    },
    {
      "cell_type": "markdown",
      "source": [
        "WITHOUT THE OUTLIERS"
      ],
      "metadata": {
        "id": "z-u06b_aHrSO"
      }
    },
    {
      "cell_type": "code",
      "source": [
        "lm1=LinearRegression()\n",
        "lm1.fit(nx_train,ny_train)\n",
        "ny_pred=lm1.predict(nx_test)\n",
        "plt.scatter(new_x,new_y)\n",
        "plt.scatter(nx_test,ny_pred)\n",
        "\n",
        "#Making predictions\n",
        "X=np.array([1,2,3]).reshape(-1,1)\n",
        "Y=lm1.predict(X)\n",
        "print(Y)\n",
        "plt.plot(X,Y,\"ok\")"
      ],
      "metadata": {
        "execution": {
          "iopub.status.busy": "2022-11-27T11:06:44.071479Z",
          "iopub.execute_input": "2022-11-27T11:06:44.072287Z",
          "iopub.status.idle": "2022-11-27T11:06:44.441234Z",
          "shell.execute_reply.started": "2022-11-27T11:06:44.072253Z",
          "shell.execute_reply": "2022-11-27T11:06:44.440162Z"
        },
        "trusted": true,
        "colab": {
          "base_uri": "https://localhost:8080/",
          "height": 499
        },
        "id": "_VyNdXqrHrSO",
        "outputId": "f7e84528-5c08-457e-b15c-8b3735deed6a"
      },
      "outputs": [
        {
          "output_type": "stream",
          "name": "stdout",
          "text": [
            "[[ 5000.89452227]\n",
            " [11679.49625331]\n",
            " [18358.09798434]]\n"
          ]
        },
        {
          "output_type": "execute_result",
          "data": {
            "text/plain": [
              "[<matplotlib.lines.Line2D at 0x7bb3ef218410>]"
            ]
          },
          "metadata": {},
          "execution_count": 44
        },
        {
          "output_type": "display_data",
          "data": {
            "text/plain": [
              "<Figure size 640x480 with 1 Axes>"
            ],
            "image/png": "[encoded data removed]"
          },
          "metadata": {}
        }
      ],
      "execution_count": 44
    },
    {
      "cell_type": "markdown",
      "source": [
        "# **10. Compare the performance measures with & without outliers.**"
      ],
      "metadata": {
        "id": "y0WJ7gfKHrSO"
      }
    },
    {
      "cell_type": "markdown",
      "source": [
        "WITH OUTLIERS"
      ],
      "metadata": {
        "id": "KWJZOnapHrSP"
      }
    },
    {
      "cell_type": "code",
      "source": [
        "mae(y_test,y_pred),np.sqrt(mse(y_test,y_pred))"
      ],
      "metadata": {
        "execution": {
          "iopub.status.busy": "2022-11-27T11:06:44.443267Z",
          "iopub.execute_input": "2022-11-27T11:06:44.444078Z",
          "iopub.status.idle": "2022-11-27T11:06:44.452573Z",
          "shell.execute_reply.started": "2022-11-27T11:06:44.44403Z",
          "shell.execute_reply": "2022-11-27T11:06:44.451763Z"
        },
        "trusted": true,
        "colab": {
          "base_uri": "https://localhost:8080/"
        },
        "id": "kqrT55gfHrSP",
        "outputId": "5d1e2f7f-284c-4174-8553-8b390306be80"
      },
      "outputs": [
        {
          "output_type": "execute_result",
          "data": {
            "text/plain": [
              "(1011.5781765618055, 1557.271139261955)"
            ]
          },
          "metadata": {},
          "execution_count": 45
        }
      ],
      "execution_count": 45
    },
    {
      "cell_type": "markdown",
      "source": [
        "WITHOUT OUTLIERS"
      ],
      "metadata": {
        "id": "z_M-8vgiHrSP"
      }
    },
    {
      "cell_type": "code",
      "source": [
        "mae(ny_test,ny_pred),np.sqrt(mse(ny_test,ny_pred))"
      ],
      "metadata": {
        "execution": {
          "iopub.status.busy": "2022-11-27T11:06:44.454068Z",
          "iopub.execute_input": "2022-11-27T11:06:44.454377Z",
          "iopub.status.idle": "2022-11-27T11:06:44.467195Z",
          "shell.execute_reply.started": "2022-11-27T11:06:44.454349Z",
          "shell.execute_reply": "2022-11-27T11:06:44.466274Z"
        },
        "trusted": true,
        "colab": {
          "base_uri": "https://localhost:8080/"
        },
        "id": "ECcqU1g0HrSP",
        "outputId": "52e44673-f8c4-4c81-ce96-23cdbbe36691"
      },
      "outputs": [
        {
          "output_type": "execute_result",
          "data": {
            "text/plain": [
              "(651.3811694551285, 991.719921210147)"
            ]
          },
          "metadata": {},
          "execution_count": 46
        }
      ],
      "execution_count": 46
    },
    {
      "cell_type": "markdown",
      "source": [
        "# **11. Compare the performance measures with & without Feature Scaling.**"
      ],
      "metadata": {
        "id": "nh2_Qw_UHrSP"
      }
    },
    {
      "cell_type": "markdown",
      "source": [
        "# **12. Find other target variable rather than Price and make prediction for the same using Simple liner regression model.**"
      ],
      "metadata": {
        "id": "GVdZFTqZHrSP"
      }
    },
    {
      "cell_type": "markdown",
      "source": [
        "# **13. Make Predictions for any input carat value of your choice.**"
      ],
      "metadata": {
        "id": "P8qCNquKHrSP"
      }
    },
    {
      "cell_type": "markdown",
      "source": [
        "WITH OUTLIERS"
      ],
      "metadata": {
        "id": "34I3NZsKHrSQ"
      }
    },
    {
      "cell_type": "code",
      "source": [
        "X=np.array([1,2,3]).reshape(-1,1)\n",
        "Y=lm.predict(X)\n",
        "for i in range (0,3):\n",
        "    print(X[i], Y[i])"
      ],
      "metadata": {
        "execution": {
          "iopub.status.busy": "2022-11-27T11:06:44.468719Z",
          "iopub.execute_input": "2022-11-27T11:06:44.469394Z",
          "iopub.status.idle": "2022-11-27T11:06:44.476416Z",
          "shell.execute_reply.started": "2022-11-27T11:06:44.469359Z",
          "shell.execute_reply": "2022-11-27T11:06:44.475354Z"
        },
        "trusted": true,
        "colab": {
          "base_uri": "https://localhost:8080/"
        },
        "id": "pYF7CPa_HrSQ",
        "outputId": "0b3eb6a7-ac4c-4542-fe24-e8f7a5f77059"
      },
      "outputs": [
        {
          "output_type": "stream",
          "name": "stdout",
          "text": [
            "[1] [5498.43235132]\n",
            "[2] [13248.51075208]\n",
            "[3] [20998.58915284]\n"
          ]
        }
      ],
      "execution_count": 47
    },
    {
      "cell_type": "markdown",
      "source": [
        "WITHOUT OUTLIERS"
      ],
      "metadata": {
        "id": "EXTauurdHrSQ"
      }
    },
    {
      "cell_type": "code",
      "source": [
        "X=np.array([1,2,3]).reshape(-1,1)\n",
        "Y=lm1.predict(X)\n",
        "for i in range (0,3):\n",
        "    print(X[i], Y[i])"
      ],
      "metadata": {
        "execution": {
          "iopub.status.busy": "2022-11-27T11:06:44.477753Z",
          "iopub.execute_input": "2022-11-27T11:06:44.478084Z",
          "iopub.status.idle": "2022-11-27T11:06:44.487082Z",
          "shell.execute_reply.started": "2022-11-27T11:06:44.478056Z",
          "shell.execute_reply": "2022-11-27T11:06:44.485939Z"
        },
        "trusted": true,
        "colab": {
          "base_uri": "https://localhost:8080/"
        },
        "id": "o8t5csL_HrSQ",
        "outputId": "1d273321-f874-42ae-f179-24796746141f"
      },
      "outputs": [
        {
          "output_type": "stream",
          "name": "stdout",
          "text": [
            "[1] [5000.89452227]\n",
            "[2] [11679.49625331]\n",
            "[3] [18358.09798434]\n"
          ]
        }
      ],
      "execution_count": 48
    }
  ]
}