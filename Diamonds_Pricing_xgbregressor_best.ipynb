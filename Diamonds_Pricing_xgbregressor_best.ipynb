{
  "metadata": {
    "kernelspec": {
      "language": "python",
      "display_name": "Python 3",
      "name": "python3"
    },
    "language_info": {
      "pygments_lexer": "ipython3",
      "nbconvert_exporter": "python",
      "version": "3.6.4",
      "file_extension": ".py",
      "codemirror_mode": {
        "name": "ipython",
        "version": 3
      },
      "name": "python",
      "mimetype": "text/x-python"
    },
    "kaggle": {
      "accelerator": "none",
      "dataSources": [
        {
          "sourceId": 4589225,
          "sourceType": "datasetVersion",
          "datasetId": 2675404
        }
      ],
      "dockerImageVersionId": 30301,
      "isInternetEnabled": false,
      "language": "python",
      "sourceType": "notebook",
      "isGpuEnabled": false
    },
    "colab": {
      "provenance": [],
      "include_colab_link": true
    }
  },
  "nbformat_minor": 0,
  "nbformat": 4,
  "cells": [
    {
      "cell_type": "markdown",
      "metadata": {
        "id": "view-in-github",
        "colab_type": "text"
      },
      "source": [
        "<a href=\"https://colab.research.google.com/github/swapnil2009/DataScience/blob/main/Diamonds_Pricing_xgbregressor_best.ipynb\" target=\"_parent\"><img src=\"https://colab.research.google.com/assets/colab-badge.svg\" alt=\"Open In Colab\"/></a>"
      ]
    },
    {
      "cell_type": "markdown",
      "source": [
        "* Diamond is a solid form of the element carbon.\n",
        "* It is the hardest material found on Earth.\n",
        "* Unlike other non-metals, diamond has a high termal conductivity.\n",
        "* Due to these reasons, Diamond is a very expensive material.\n",
        "In the following program, we will prepare a Linear Regression Model to predict the price of diamond given its properties like the cut, purity, etc."
      ],
      "metadata": {
        "id": "_5Fhm-H8HrR9"
      }
    },
    {
      "cell_type": "markdown",
      "source": [
        "# **1. Domain Knowledge**"
      ],
      "metadata": {
        "id": "2NgxBtOPHrR_"
      }
    },
    {
      "cell_type": "code",
      "source": [
        "# Importing Libraries\n",
        "import numpy as np\n",
        "import pandas as pd\n",
        "import seaborn as sns\n",
        "import matplotlib.pyplot as plt\n",
        "from sklearn.model_selection import train_test_split\n",
        "from sklearn.linear_model import LinearRegression\n",
        "from sklearn.metrics import mean_squared_error as mse\n",
        "from sklearn.metrics import mean_absolute_error as mae"
      ],
      "metadata": {
        "_uuid": "8f2839f25d086af736a60e9eeb907d3b93b6e0e5",
        "_cell_guid": "b1076dfc-b9ad-4769-8c92-a6c4dae69d19",
        "execution": {
          "iopub.status.busy": "2022-11-27T11:06:34.393767Z",
          "iopub.execute_input": "2022-11-27T11:06:34.394202Z",
          "iopub.status.idle": "2022-11-27T11:06:34.4008Z",
          "shell.execute_reply.started": "2022-11-27T11:06:34.394167Z",
          "shell.execute_reply": "2022-11-27T11:06:34.399572Z"
        },
        "trusted": true,
        "id": "LnGmXtkPHrR_"
      },
      "outputs": [],
      "execution_count": 42
    },
    {
      "cell_type": "code",
      "source": [
        "# Importing the data set\n",
        "df=pd.read_csv(\"diamonds.csv\")\n",
        "df.head()"
      ],
      "metadata": {
        "execution": {
          "iopub.status.busy": "2022-11-27T11:06:34.405865Z",
          "iopub.execute_input": "2022-11-27T11:06:34.406286Z",
          "iopub.status.idle": "2022-11-27T11:06:34.494933Z",
          "shell.execute_reply.started": "2022-11-27T11:06:34.406251Z",
          "shell.execute_reply": "2022-11-27T11:06:34.493701Z"
        },
        "trusted": true,
        "colab": {
          "base_uri": "https://localhost:8080/",
          "height": 206
        },
        "id": "0ruJQui1HrSA",
        "outputId": "dd0df9d9-bd1c-410b-88f3-c2eff7feda25"
      },
      "outputs": [
        {
          "output_type": "execute_result",
          "data": {
            "text/plain": [
              "   Unnamed: 0  carat      cut color clarity  depth  table  price     x     y  \\\n",
              "0           1   0.23    Ideal     E     SI2   61.5   55.0    326  3.95  3.98   \n",
              "1           2   0.21  Premium     E     SI1   59.8   61.0    326  3.89  3.84   \n",
              "2           3   0.23     Good     E     VS1   56.9   65.0    327  4.05  4.07   \n",
              "3           4   0.29  Premium     I     VS2   62.4   58.0    334  4.20  4.23   \n",
              "4           5   0.31     Good     J     SI2   63.3   58.0    335  4.34  4.35   \n",
              "\n",
              "      z  \n",
              "0  2.43  \n",
              "1  2.31  \n",
              "2  2.31  \n",
              "3  2.63  \n",
              "4  2.75  "
            ],
            "text/html": [
              "\n",
              "  <div id=\"df-ea926347-b67c-4e49-a5d1-b31cfea777ae\" class=\"colab-df-container\">\n",
              "    <div>\n",
              "<style scoped>\n",
              "    .dataframe tbody tr th:only-of-type {\n",
              "        vertical-align: middle;\n",
              "    }\n",
              "\n",
              "    .dataframe tbody tr th {\n",
              "        vertical-align: top;\n",
              "    }\n",
              "\n",
              "    .dataframe thead th {\n",
              "        text-align: right;\n",
              "    }\n",
              "</style>\n",
              "<table border=\"1\" class=\"dataframe\">\n",
              "  <thead>\n",
              "    <tr style=\"text-align: right;\">\n",
              "      <th></th>\n",
              "      <th>Unnamed: 0</th>\n",
              "      <th>carat</th>\n",
              "      <th>cut</th>\n",
              "      <th>color</th>\n",
              "      <th>clarity</th>\n",
              "      <th>depth</th>\n",
              "      <th>table</th>\n",
              "      <th>price</th>\n",
              "      <th>x</th>\n",
              "      <th>y</th>\n",
              "      <th>z</th>\n",
              "    </tr>\n",
              "  </thead>\n",
              "  <tbody>\n",
              "    <tr>\n",
              "      <th>0</th>\n",
              "      <td>1</td>\n",
              "      <td>0.23</td>\n",
              "      <td>Ideal</td>\n",
              "      <td>E</td>\n",
              "      <td>SI2</td>\n",
              "      <td>61.5</td>\n",
              "      <td>55.0</td>\n",
              "      <td>326</td>\n",
              "      <td>3.95</td>\n",
              "      <td>3.98</td>\n",
              "      <td>2.43</td>\n",
              "    </tr>\n",
              "    <tr>\n",
              "      <th>1</th>\n",
              "      <td>2</td>\n",
              "      <td>0.21</td>\n",
              "      <td>Premium</td>\n",
              "      <td>E</td>\n",
              "      <td>SI1</td>\n",
              "      <td>59.8</td>\n",
              "      <td>61.0</td>\n",
              "      <td>326</td>\n",
              "      <td>3.89</td>\n",
              "      <td>3.84</td>\n",
              "      <td>2.31</td>\n",
              "    </tr>\n",
              "    <tr>\n",
              "      <th>2</th>\n",
              "      <td>3</td>\n",
              "      <td>0.23</td>\n",
              "      <td>Good</td>\n",
              "      <td>E</td>\n",
              "      <td>VS1</td>\n",
              "      <td>56.9</td>\n",
              "      <td>65.0</td>\n",
              "      <td>327</td>\n",
              "      <td>4.05</td>\n",
              "      <td>4.07</td>\n",
              "      <td>2.31</td>\n",
              "    </tr>\n",
              "    <tr>\n",
              "      <th>3</th>\n",
              "      <td>4</td>\n",
              "      <td>0.29</td>\n",
              "      <td>Premium</td>\n",
              "      <td>I</td>\n",
              "      <td>VS2</td>\n",
              "      <td>62.4</td>\n",
              "      <td>58.0</td>\n",
              "      <td>334</td>\n",
              "      <td>4.20</td>\n",
              "      <td>4.23</td>\n",
              "      <td>2.63</td>\n",
              "    </tr>\n",
              "    <tr>\n",
              "      <th>4</th>\n",
              "      <td>5</td>\n",
              "      <td>0.31</td>\n",
              "      <td>Good</td>\n",
              "      <td>J</td>\n",
              "      <td>SI2</td>\n",
              "      <td>63.3</td>\n",
              "      <td>58.0</td>\n",
              "      <td>335</td>\n",
              "      <td>4.34</td>\n",
              "      <td>4.35</td>\n",
              "      <td>2.75</td>\n",
              "    </tr>\n",
              "  </tbody>\n",
              "</table>\n",
              "</div>\n",
              "    <div class=\"colab-df-buttons\">\n",
              "\n",
              "  <div class=\"colab-df-container\">\n",
              "    <button class=\"colab-df-convert\" onclick=\"convertToInteractive('df-ea926347-b67c-4e49-a5d1-b31cfea777ae')\"\n",
              "            title=\"Convert this dataframe to an interactive table.\"\n",
              "            style=\"display:none;\">\n",
              "\n",
              "  <svg xmlns=\"http://www.w3.org/2000/svg\" height=\"24px\" viewBox=\"0 -960 960 960\">\n",
              "    <path d=\"M120-120v-720h720v720H120Zm60-500h600v-160H180v160Zm220 220h160v-160H400v160Zm0 220h160v-160H400v160ZM180-400h160v-160H180v160Zm440 0h160v-160H620v160ZM180-180h160v-160H180v160Zm440 0h160v-160H620v160Z\"/>\n",
              "  </svg>\n",
              "    </button>\n",
              "\n",
              "  <style>\n",
              "    .colab-df-container {\n",
              "      display:flex;\n",
              "      gap: 12px;\n",
              "    }\n",
              "\n",
              "    .colab-df-convert {\n",
              "      background-color: #E8F0FE;\n",
              "      border: none;\n",
              "      border-radius: 50%;\n",
              "      cursor: pointer;\n",
              "      display: none;\n",
              "      fill: #1967D2;\n",
              "      height: 32px;\n",
              "      padding: 0 0 0 0;\n",
              "      width: 32px;\n",
              "    }\n",
              "\n",
              "    .colab-df-convert:hover {\n",
              "      background-color: #E2EBFA;\n",
              "      box-shadow: 0px 1px 2px rgba(60, 64, 67, 0.3), 0px 1px 3px 1px rgba(60, 64, 67, 0.15);\n",
              "      fill: #174EA6;\n",
              "    }\n",
              "\n",
              "    .colab-df-buttons div {\n",
              "      margin-bottom: 4px;\n",
              "    }\n",
              "\n",
              "    [theme=dark] .colab-df-convert {\n",
              "      background-color: #3B4455;\n",
              "      fill: #D2E3FC;\n",
              "    }\n",
              "\n",
              "    [theme=dark] .colab-df-convert:hover {\n",
              "      background-color: #434B5C;\n",
              "      box-shadow: 0px 1px 3px 1px rgba(0, 0, 0, 0.15);\n",
              "      filter: drop-shadow(0px 1px 2px rgba(0, 0, 0, 0.3));\n",
              "      fill: #FFFFFF;\n",
              "    }\n",
              "  </style>\n",
              "\n",
              "    <script>\n",
              "      const buttonEl =\n",
              "        document.querySelector('#df-ea926347-b67c-4e49-a5d1-b31cfea777ae button.colab-df-convert');\n",
              "      buttonEl.style.display =\n",
              "        google.colab.kernel.accessAllowed ? 'block' : 'none';\n",
              "\n",
              "      async function convertToInteractive(key) {\n",
              "        const element = document.querySelector('#df-ea926347-b67c-4e49-a5d1-b31cfea777ae');\n",
              "        const dataTable =\n",
              "          await google.colab.kernel.invokeFunction('convertToInteractive',\n",
              "                                                    [key], {});\n",
              "        if (!dataTable) return;\n",
              "\n",
              "        const docLinkHtml = 'Like what you see? Visit the ' +\n",
              "          '<a target=\"_blank\" href=https://colab.research.google.com/notebooks/data_table.ipynb>data table notebook</a>'\n",
              "          + ' to learn more about interactive tables.';\n",
              "        element.innerHTML = '';\n",
              "        dataTable['output_type'] = 'display_data';\n",
              "        await google.colab.output.renderOutput(dataTable, element);\n",
              "        const docLink = document.createElement('div');\n",
              "        docLink.innerHTML = docLinkHtml;\n",
              "        element.appendChild(docLink);\n",
              "      }\n",
              "    </script>\n",
              "  </div>\n",
              "\n",
              "\n",
              "<div id=\"df-6000de04-7834-4da4-a326-f0671f9f874a\">\n",
              "  <button class=\"colab-df-quickchart\" onclick=\"quickchart('df-6000de04-7834-4da4-a326-f0671f9f874a')\"\n",
              "            title=\"Suggest charts\"\n",
              "            style=\"display:none;\">\n",
              "\n",
              "<svg xmlns=\"http://www.w3.org/2000/svg\" height=\"24px\"viewBox=\"0 0 24 24\"\n",
              "     width=\"24px\">\n",
              "    <g>\n",
              "        <path d=\"M19 3H5c-1.1 0-2 .9-2 2v14c0 1.1.9 2 2 2h14c1.1 0 2-.9 2-2V5c0-1.1-.9-2-2-2zM9 17H7v-7h2v7zm4 0h-2V7h2v10zm4 0h-2v-4h2v4z\"/>\n",
              "    </g>\n",
              "</svg>\n",
              "  </button>\n",
              "\n",
              "<style>\n",
              "  .colab-df-quickchart {\n",
              "      --bg-color: #E8F0FE;\n",
              "      --fill-color: #1967D2;\n",
              "      --hover-bg-color: #E2EBFA;\n",
              "      --hover-fill-color: #174EA6;\n",
              "      --disabled-fill-color: #AAA;\n",
              "      --disabled-bg-color: #DDD;\n",
              "  }\n",
              "\n",
              "  [theme=dark] .colab-df-quickchart {\n",
              "      --bg-color: #3B4455;\n",
              "      --fill-color: #D2E3FC;\n",
              "      --hover-bg-color: #434B5C;\n",
              "      --hover-fill-color: #FFFFFF;\n",
              "      --disabled-bg-color: #3B4455;\n",
              "      --disabled-fill-color: #666;\n",
              "  }\n",
              "\n",
              "  .colab-df-quickchart {\n",
              "    background-color: var(--bg-color);\n",
              "    border: none;\n",
              "    border-radius: 50%;\n",
              "    cursor: pointer;\n",
              "    display: none;\n",
              "    fill: var(--fill-color);\n",
              "    height: 32px;\n",
              "    padding: 0;\n",
              "    width: 32px;\n",
              "  }\n",
              "\n",
              "  .colab-df-quickchart:hover {\n",
              "    background-color: var(--hover-bg-color);\n",
              "    box-shadow: 0 1px 2px rgba(60, 64, 67, 0.3), 0 1px 3px 1px rgba(60, 64, 67, 0.15);\n",
              "    fill: var(--button-hover-fill-color);\n",
              "  }\n",
              "\n",
              "  .colab-df-quickchart-complete:disabled,\n",
              "  .colab-df-quickchart-complete:disabled:hover {\n",
              "    background-color: var(--disabled-bg-color);\n",
              "    fill: var(--disabled-fill-color);\n",
              "    box-shadow: none;\n",
              "  }\n",
              "\n",
              "  .colab-df-spinner {\n",
              "    border: 2px solid var(--fill-color);\n",
              "    border-color: transparent;\n",
              "    border-bottom-color: var(--fill-color);\n",
              "    animation:\n",
              "      spin 1s steps(1) infinite;\n",
              "  }\n",
              "\n",
              "  @keyframes spin {\n",
              "    0% {\n",
              "      border-color: transparent;\n",
              "      border-bottom-color: var(--fill-color);\n",
              "      border-left-color: var(--fill-color);\n",
              "    }\n",
              "    20% {\n",
              "      border-color: transparent;\n",
              "      border-left-color: var(--fill-color);\n",
              "      border-top-color: var(--fill-color);\n",
              "    }\n",
              "    30% {\n",
              "      border-color: transparent;\n",
              "      border-left-color: var(--fill-color);\n",
              "      border-top-color: var(--fill-color);\n",
              "      border-right-color: var(--fill-color);\n",
              "    }\n",
              "    40% {\n",
              "      border-color: transparent;\n",
              "      border-right-color: var(--fill-color);\n",
              "      border-top-color: var(--fill-color);\n",
              "    }\n",
              "    60% {\n",
              "      border-color: transparent;\n",
              "      border-right-color: var(--fill-color);\n",
              "    }\n",
              "    80% {\n",
              "      border-color: transparent;\n",
              "      border-right-color: var(--fill-color);\n",
              "      border-bottom-color: var(--fill-color);\n",
              "    }\n",
              "    90% {\n",
              "      border-color: transparent;\n",
              "      border-bottom-color: var(--fill-color);\n",
              "    }\n",
              "  }\n",
              "</style>\n",
              "\n",
              "  <script>\n",
              "    async function quickchart(key) {\n",
              "      const quickchartButtonEl =\n",
              "        document.querySelector('#' + key + ' button');\n",
              "      quickchartButtonEl.disabled = true;  // To prevent multiple clicks.\n",
              "      quickchartButtonEl.classList.add('colab-df-spinner');\n",
              "      try {\n",
              "        const charts = await google.colab.kernel.invokeFunction(\n",
              "            'suggestCharts', [key], {});\n",
              "      } catch (error) {\n",
              "        console.error('Error during call to suggestCharts:', error);\n",
              "      }\n",
              "      quickchartButtonEl.classList.remove('colab-df-spinner');\n",
              "      quickchartButtonEl.classList.add('colab-df-quickchart-complete');\n",
              "    }\n",
              "    (() => {\n",
              "      let quickchartButtonEl =\n",
              "        document.querySelector('#df-6000de04-7834-4da4-a326-f0671f9f874a button');\n",
              "      quickchartButtonEl.style.display =\n",
              "        google.colab.kernel.accessAllowed ? 'block' : 'none';\n",
              "    })();\n",
              "  </script>\n",
              "</div>\n",
              "\n",
              "    </div>\n",
              "  </div>\n"
            ],
            "application/vnd.google.colaboratory.intrinsic+json": {
              "type": "dataframe",
              "variable_name": "df",
              "summary": "{\n  \"name\": \"df\",\n  \"rows\": 53940,\n  \"fields\": [\n    {\n      \"column\": \"Unnamed: 0\",\n      \"properties\": {\n        \"dtype\": \"number\",\n        \"std\": 15571,\n        \"min\": 1,\n        \"max\": 53940,\n        \"num_unique_values\": 53940,\n        \"samples\": [\n          1389,\n          50053,\n          41646\n        ],\n        \"semantic_type\": \"\",\n        \"description\": \"\"\n      }\n    },\n    {\n      \"column\": \"carat\",\n      \"properties\": {\n        \"dtype\": \"number\",\n        \"std\": 0.47401124440538067,\n        \"min\": 0.2,\n        \"max\": 5.01,\n        \"num_unique_values\": 273,\n        \"samples\": [\n          0.77,\n          1.58,\n          0.65\n        ],\n        \"semantic_type\": \"\",\n        \"description\": \"\"\n      }\n    },\n    {\n      \"column\": \"cut\",\n      \"properties\": {\n        \"dtype\": \"category\",\n        \"num_unique_values\": 5,\n        \"samples\": [\n          \"Premium\",\n          \"Fair\",\n          \"Good\"\n        ],\n        \"semantic_type\": \"\",\n        \"description\": \"\"\n      }\n    },\n    {\n      \"column\": \"color\",\n      \"properties\": {\n        \"dtype\": \"category\",\n        \"num_unique_values\": 7,\n        \"samples\": [\n          \"E\",\n          \"I\",\n          \"G\"\n        ],\n        \"semantic_type\": \"\",\n        \"description\": \"\"\n      }\n    },\n    {\n      \"column\": \"clarity\",\n      \"properties\": {\n        \"dtype\": \"category\",\n        \"num_unique_values\": 8,\n        \"samples\": [\n          \"SI1\",\n          \"VVS1\",\n          \"SI2\"\n        ],\n        \"semantic_type\": \"\",\n        \"description\": \"\"\n      }\n    },\n    {\n      \"column\": \"depth\",\n      \"properties\": {\n        \"dtype\": \"number\",\n        \"std\": 1.4326213188337733,\n        \"min\": 43.0,\n        \"max\": 79.0,\n        \"num_unique_values\": 184,\n        \"samples\": [\n          61.0,\n          62.9,\n          70.2\n        ],\n        \"semantic_type\": \"\",\n        \"description\": \"\"\n      }\n    },\n    {\n      \"column\": \"table\",\n      \"properties\": {\n        \"dtype\": \"number\",\n        \"std\": 2.234490562820938,\n        \"min\": 43.0,\n        \"max\": 95.0,\n        \"num_unique_values\": 127,\n        \"samples\": [\n          54.8,\n          61.5,\n          57.6\n        ],\n        \"semantic_type\": \"\",\n        \"description\": \"\"\n      }\n    },\n    {\n      \"column\": \"price\",\n      \"properties\": {\n        \"dtype\": \"number\",\n        \"std\": 3989,\n        \"min\": 326,\n        \"max\": 18823,\n        \"num_unique_values\": 11602,\n        \"samples\": [\n          16368,\n          895,\n          748\n        ],\n        \"semantic_type\": \"\",\n        \"description\": \"\"\n      }\n    },\n    {\n      \"column\": \"x\",\n      \"properties\": {\n        \"dtype\": \"number\",\n        \"std\": 1.1217607467924422,\n        \"min\": 0.0,\n        \"max\": 10.74,\n        \"num_unique_values\": 554,\n        \"samples\": [\n          5.88,\n          5.69,\n          4.61\n        ],\n        \"semantic_type\": \"\",\n        \"description\": \"\"\n      }\n    },\n    {\n      \"column\": \"y\",\n      \"properties\": {\n        \"dtype\": \"number\",\n        \"std\": 1.1421346741235396,\n        \"min\": 0.0,\n        \"max\": 58.9,\n        \"num_unique_values\": 552,\n        \"samples\": [\n          5.33,\n          5.61,\n          5.25\n        ],\n        \"semantic_type\": \"\",\n        \"description\": \"\"\n      }\n    },\n    {\n      \"column\": \"z\",\n      \"properties\": {\n        \"dtype\": \"number\",\n        \"std\": 0.7056988469499964,\n        \"min\": 0.0,\n        \"max\": 31.8,\n        \"num_unique_values\": 375,\n        \"samples\": [\n          3.36,\n          2.45,\n          2.7\n        ],\n        \"semantic_type\": \"\",\n        \"description\": \"\"\n      }\n    }\n  ]\n}"
            }
          },
          "metadata": {},
          "execution_count": 43
        }
      ],
      "execution_count": 43
    },
    {
      "cell_type": "code",
      "source": [
        "# Removing the first column coz not needed\n",
        "df=df.drop([\"Unnamed: 0\"],axis=1)\n",
        "df.head()"
      ],
      "metadata": {
        "execution": {
          "iopub.status.busy": "2022-11-27T11:06:34.497444Z",
          "iopub.execute_input": "2022-11-27T11:06:34.4983Z",
          "iopub.status.idle": "2022-11-27T11:06:34.5203Z",
          "shell.execute_reply.started": "2022-11-27T11:06:34.498247Z",
          "shell.execute_reply": "2022-11-27T11:06:34.519194Z"
        },
        "trusted": true,
        "colab": {
          "base_uri": "https://localhost:8080/",
          "height": 206
        },
        "id": "93_FHs-uHrSA",
        "outputId": "5eb22872-f172-457c-89f2-bee77be252c0"
      },
      "outputs": [
        {
          "output_type": "execute_result",
          "data": {
            "text/plain": [
              "   carat      cut color clarity  depth  table  price     x     y     z\n",
              "0   0.23    Ideal     E     SI2   61.5   55.0    326  3.95  3.98  2.43\n",
              "1   0.21  Premium     E     SI1   59.8   61.0    326  3.89  3.84  2.31\n",
              "2   0.23     Good     E     VS1   56.9   65.0    327  4.05  4.07  2.31\n",
              "3   0.29  Premium     I     VS2   62.4   58.0    334  4.20  4.23  2.63\n",
              "4   0.31     Good     J     SI2   63.3   58.0    335  4.34  4.35  2.75"
            ],
            "text/html": [
              "\n",
              "  <div id=\"df-09919a8f-dade-4d05-b098-fd0489eee46c\" class=\"colab-df-container\">\n",
              "    <div>\n",
              "<style scoped>\n",
              "    .dataframe tbody tr th:only-of-type {\n",
              "        vertical-align: middle;\n",
              "    }\n",
              "\n",
              "    .dataframe tbody tr th {\n",
              "        vertical-align: top;\n",
              "    }\n",
              "\n",
              "    .dataframe thead th {\n",
              "        text-align: right;\n",
              "    }\n",
              "</style>\n",
              "<table border=\"1\" class=\"dataframe\">\n",
              "  <thead>\n",
              "    <tr style=\"text-align: right;\">\n",
              "      <th></th>\n",
              "      <th>carat</th>\n",
              "      <th>cut</th>\n",
              "      <th>color</th>\n",
              "      <th>clarity</th>\n",
              "      <th>depth</th>\n",
              "      <th>table</th>\n",
              "      <th>price</th>\n",
              "      <th>x</th>\n",
              "      <th>y</th>\n",
              "      <th>z</th>\n",
              "    </tr>\n",
              "  </thead>\n",
              "  <tbody>\n",
              "    <tr>\n",
              "      <th>0</th>\n",
              "      <td>0.23</td>\n",
              "      <td>Ideal</td>\n",
              "      <td>E</td>\n",
              "      <td>SI2</td>\n",
              "      <td>61.5</td>\n",
              "      <td>55.0</td>\n",
              "      <td>326</td>\n",
              "      <td>3.95</td>\n",
              "      <td>3.98</td>\n",
              "      <td>2.43</td>\n",
              "    </tr>\n",
              "    <tr>\n",
              "      <th>1</th>\n",
              "      <td>0.21</td>\n",
              "      <td>Premium</td>\n",
              "      <td>E</td>\n",
              "      <td>SI1</td>\n",
              "      <td>59.8</td>\n",
              "      <td>61.0</td>\n",
              "      <td>326</td>\n",
              "      <td>3.89</td>\n",
              "      <td>3.84</td>\n",
              "      <td>2.31</td>\n",
              "    </tr>\n",
              "    <tr>\n",
              "      <th>2</th>\n",
              "      <td>0.23</td>\n",
              "      <td>Good</td>\n",
              "      <td>E</td>\n",
              "      <td>VS1</td>\n",
              "      <td>56.9</td>\n",
              "      <td>65.0</td>\n",
              "      <td>327</td>\n",
              "      <td>4.05</td>\n",
              "      <td>4.07</td>\n",
              "      <td>2.31</td>\n",
              "    </tr>\n",
              "    <tr>\n",
              "      <th>3</th>\n",
              "      <td>0.29</td>\n",
              "      <td>Premium</td>\n",
              "      <td>I</td>\n",
              "      <td>VS2</td>\n",
              "      <td>62.4</td>\n",
              "      <td>58.0</td>\n",
              "      <td>334</td>\n",
              "      <td>4.20</td>\n",
              "      <td>4.23</td>\n",
              "      <td>2.63</td>\n",
              "    </tr>\n",
              "    <tr>\n",
              "      <th>4</th>\n",
              "      <td>0.31</td>\n",
              "      <td>Good</td>\n",
              "      <td>J</td>\n",
              "      <td>SI2</td>\n",
              "      <td>63.3</td>\n",
              "      <td>58.0</td>\n",
              "      <td>335</td>\n",
              "      <td>4.34</td>\n",
              "      <td>4.35</td>\n",
              "      <td>2.75</td>\n",
              "    </tr>\n",
              "  </tbody>\n",
              "</table>\n",
              "</div>\n",
              "    <div class=\"colab-df-buttons\">\n",
              "\n",
              "  <div class=\"colab-df-container\">\n",
              "    <button class=\"colab-df-convert\" onclick=\"convertToInteractive('df-09919a8f-dade-4d05-b098-fd0489eee46c')\"\n",
              "            title=\"Convert this dataframe to an interactive table.\"\n",
              "            style=\"display:none;\">\n",
              "\n",
              "  <svg xmlns=\"http://www.w3.org/2000/svg\" height=\"24px\" viewBox=\"0 -960 960 960\">\n",
              "    <path d=\"M120-120v-720h720v720H120Zm60-500h600v-160H180v160Zm220 220h160v-160H400v160Zm0 220h160v-160H400v160ZM180-400h160v-160H180v160Zm440 0h160v-160H620v160ZM180-180h160v-160H180v160Zm440 0h160v-160H620v160Z\"/>\n",
              "  </svg>\n",
              "    </button>\n",
              "\n",
              "  <style>\n",
              "    .colab-df-container {\n",
              "      display:flex;\n",
              "      gap: 12px;\n",
              "    }\n",
              "\n",
              "    .colab-df-convert {\n",
              "      background-color: #E8F0FE;\n",
              "      border: none;\n",
              "      border-radius: 50%;\n",
              "      cursor: pointer;\n",
              "      display: none;\n",
              "      fill: #1967D2;\n",
              "      height: 32px;\n",
              "      padding: 0 0 0 0;\n",
              "      width: 32px;\n",
              "    }\n",
              "\n",
              "    .colab-df-convert:hover {\n",
              "      background-color: #E2EBFA;\n",
              "      box-shadow: 0px 1px 2px rgba(60, 64, 67, 0.3), 0px 1px 3px 1px rgba(60, 64, 67, 0.15);\n",
              "      fill: #174EA6;\n",
              "    }\n",
              "\n",
              "    .colab-df-buttons div {\n",
              "      margin-bottom: 4px;\n",
              "    }\n",
              "\n",
              "    [theme=dark] .colab-df-convert {\n",
              "      background-color: #3B4455;\n",
              "      fill: #D2E3FC;\n",
              "    }\n",
              "\n",
              "    [theme=dark] .colab-df-convert:hover {\n",
              "      background-color: #434B5C;\n",
              "      box-shadow: 0px 1px 3px 1px rgba(0, 0, 0, 0.15);\n",
              "      filter: drop-shadow(0px 1px 2px rgba(0, 0, 0, 0.3));\n",
              "      fill: #FFFFFF;\n",
              "    }\n",
              "  </style>\n",
              "\n",
              "    <script>\n",
              "      const buttonEl =\n",
              "        document.querySelector('#df-09919a8f-dade-4d05-b098-fd0489eee46c button.colab-df-convert');\n",
              "      buttonEl.style.display =\n",
              "        google.colab.kernel.accessAllowed ? 'block' : 'none';\n",
              "\n",
              "      async function convertToInteractive(key) {\n",
              "        const element = document.querySelector('#df-09919a8f-dade-4d05-b098-fd0489eee46c');\n",
              "        const dataTable =\n",
              "          await google.colab.kernel.invokeFunction('convertToInteractive',\n",
              "                                                    [key], {});\n",
              "        if (!dataTable) return;\n",
              "\n",
              "        const docLinkHtml = 'Like what you see? Visit the ' +\n",
              "          '<a target=\"_blank\" href=https://colab.research.google.com/notebooks/data_table.ipynb>data table notebook</a>'\n",
              "          + ' to learn more about interactive tables.';\n",
              "        element.innerHTML = '';\n",
              "        dataTable['output_type'] = 'display_data';\n",
              "        await google.colab.output.renderOutput(dataTable, element);\n",
              "        const docLink = document.createElement('div');\n",
              "        docLink.innerHTML = docLinkHtml;\n",
              "        element.appendChild(docLink);\n",
              "      }\n",
              "    </script>\n",
              "  </div>\n",
              "\n",
              "\n",
              "<div id=\"df-5c1bc18a-7f28-4872-9032-9670a69b246b\">\n",
              "  <button class=\"colab-df-quickchart\" onclick=\"quickchart('df-5c1bc18a-7f28-4872-9032-9670a69b246b')\"\n",
              "            title=\"Suggest charts\"\n",
              "            style=\"display:none;\">\n",
              "\n",
              "<svg xmlns=\"http://www.w3.org/2000/svg\" height=\"24px\"viewBox=\"0 0 24 24\"\n",
              "     width=\"24px\">\n",
              "    <g>\n",
              "        <path d=\"M19 3H5c-1.1 0-2 .9-2 2v14c0 1.1.9 2 2 2h14c1.1 0 2-.9 2-2V5c0-1.1-.9-2-2-2zM9 17H7v-7h2v7zm4 0h-2V7h2v10zm4 0h-2v-4h2v4z\"/>\n",
              "    </g>\n",
              "</svg>\n",
              "  </button>\n",
              "\n",
              "<style>\n",
              "  .colab-df-quickchart {\n",
              "      --bg-color: #E8F0FE;\n",
              "      --fill-color: #1967D2;\n",
              "      --hover-bg-color: #E2EBFA;\n",
              "      --hover-fill-color: #174EA6;\n",
              "      --disabled-fill-color: #AAA;\n",
              "      --disabled-bg-color: #DDD;\n",
              "  }\n",
              "\n",
              "  [theme=dark] .colab-df-quickchart {\n",
              "      --bg-color: #3B4455;\n",
              "      --fill-color: #D2E3FC;\n",
              "      --hover-bg-color: #434B5C;\n",
              "      --hover-fill-color: #FFFFFF;\n",
              "      --disabled-bg-color: #3B4455;\n",
              "      --disabled-fill-color: #666;\n",
              "  }\n",
              "\n",
              "  .colab-df-quickchart {\n",
              "    background-color: var(--bg-color);\n",
              "    border: none;\n",
              "    border-radius: 50%;\n",
              "    cursor: pointer;\n",
              "    display: none;\n",
              "    fill: var(--fill-color);\n",
              "    height: 32px;\n",
              "    padding: 0;\n",
              "    width: 32px;\n",
              "  }\n",
              "\n",
              "  .colab-df-quickchart:hover {\n",
              "    background-color: var(--hover-bg-color);\n",
              "    box-shadow: 0 1px 2px rgba(60, 64, 67, 0.3), 0 1px 3px 1px rgba(60, 64, 67, 0.15);\n",
              "    fill: var(--button-hover-fill-color);\n",
              "  }\n",
              "\n",
              "  .colab-df-quickchart-complete:disabled,\n",
              "  .colab-df-quickchart-complete:disabled:hover {\n",
              "    background-color: var(--disabled-bg-color);\n",
              "    fill: var(--disabled-fill-color);\n",
              "    box-shadow: none;\n",
              "  }\n",
              "\n",
              "  .colab-df-spinner {\n",
              "    border: 2px solid var(--fill-color);\n",
              "    border-color: transparent;\n",
              "    border-bottom-color: var(--fill-color);\n",
              "    animation:\n",
              "      spin 1s steps(1) infinite;\n",
              "  }\n",
              "\n",
              "  @keyframes spin {\n",
              "    0% {\n",
              "      border-color: transparent;\n",
              "      border-bottom-color: var(--fill-color);\n",
              "      border-left-color: var(--fill-color);\n",
              "    }\n",
              "    20% {\n",
              "      border-color: transparent;\n",
              "      border-left-color: var(--fill-color);\n",
              "      border-top-color: var(--fill-color);\n",
              "    }\n",
              "    30% {\n",
              "      border-color: transparent;\n",
              "      border-left-color: var(--fill-color);\n",
              "      border-top-color: var(--fill-color);\n",
              "      border-right-color: var(--fill-color);\n",
              "    }\n",
              "    40% {\n",
              "      border-color: transparent;\n",
              "      border-right-color: var(--fill-color);\n",
              "      border-top-color: var(--fill-color);\n",
              "    }\n",
              "    60% {\n",
              "      border-color: transparent;\n",
              "      border-right-color: var(--fill-color);\n",
              "    }\n",
              "    80% {\n",
              "      border-color: transparent;\n",
              "      border-right-color: var(--fill-color);\n",
              "      border-bottom-color: var(--fill-color);\n",
              "    }\n",
              "    90% {\n",
              "      border-color: transparent;\n",
              "      border-bottom-color: var(--fill-color);\n",
              "    }\n",
              "  }\n",
              "</style>\n",
              "\n",
              "  <script>\n",
              "    async function quickchart(key) {\n",
              "      const quickchartButtonEl =\n",
              "        document.querySelector('#' + key + ' button');\n",
              "      quickchartButtonEl.disabled = true;  // To prevent multiple clicks.\n",
              "      quickchartButtonEl.classList.add('colab-df-spinner');\n",
              "      try {\n",
              "        const charts = await google.colab.kernel.invokeFunction(\n",
              "            'suggestCharts', [key], {});\n",
              "      } catch (error) {\n",
              "        console.error('Error during call to suggestCharts:', error);\n",
              "      }\n",
              "      quickchartButtonEl.classList.remove('colab-df-spinner');\n",
              "      quickchartButtonEl.classList.add('colab-df-quickchart-complete');\n",
              "    }\n",
              "    (() => {\n",
              "      let quickchartButtonEl =\n",
              "        document.querySelector('#df-5c1bc18a-7f28-4872-9032-9670a69b246b button');\n",
              "      quickchartButtonEl.style.display =\n",
              "        google.colab.kernel.accessAllowed ? 'block' : 'none';\n",
              "    })();\n",
              "  </script>\n",
              "</div>\n",
              "\n",
              "    </div>\n",
              "  </div>\n"
            ],
            "application/vnd.google.colaboratory.intrinsic+json": {
              "type": "dataframe",
              "variable_name": "df",
              "summary": "{\n  \"name\": \"df\",\n  \"rows\": 53940,\n  \"fields\": [\n    {\n      \"column\": \"carat\",\n      \"properties\": {\n        \"dtype\": \"number\",\n        \"std\": 0.47401124440538067,\n        \"min\": 0.2,\n        \"max\": 5.01,\n        \"num_unique_values\": 273,\n        \"samples\": [\n          0.77,\n          1.58,\n          0.65\n        ],\n        \"semantic_type\": \"\",\n        \"description\": \"\"\n      }\n    },\n    {\n      \"column\": \"cut\",\n      \"properties\": {\n        \"dtype\": \"category\",\n        \"num_unique_values\": 5,\n        \"samples\": [\n          \"Premium\",\n          \"Fair\",\n          \"Good\"\n        ],\n        \"semantic_type\": \"\",\n        \"description\": \"\"\n      }\n    },\n    {\n      \"column\": \"color\",\n      \"properties\": {\n        \"dtype\": \"category\",\n        \"num_unique_values\": 7,\n        \"samples\": [\n          \"E\",\n          \"I\",\n          \"G\"\n        ],\n        \"semantic_type\": \"\",\n        \"description\": \"\"\n      }\n    },\n    {\n      \"column\": \"clarity\",\n      \"properties\": {\n        \"dtype\": \"category\",\n        \"num_unique_values\": 8,\n        \"samples\": [\n          \"SI1\",\n          \"VVS1\",\n          \"SI2\"\n        ],\n        \"semantic_type\": \"\",\n        \"description\": \"\"\n      }\n    },\n    {\n      \"column\": \"depth\",\n      \"properties\": {\n        \"dtype\": \"number\",\n        \"std\": 1.4326213188337733,\n        \"min\": 43.0,\n        \"max\": 79.0,\n        \"num_unique_values\": 184,\n        \"samples\": [\n          61.0,\n          62.9,\n          70.2\n        ],\n        \"semantic_type\": \"\",\n        \"description\": \"\"\n      }\n    },\n    {\n      \"column\": \"table\",\n      \"properties\": {\n        \"dtype\": \"number\",\n        \"std\": 2.234490562820938,\n        \"min\": 43.0,\n        \"max\": 95.0,\n        \"num_unique_values\": 127,\n        \"samples\": [\n          54.8,\n          61.5,\n          57.6\n        ],\n        \"semantic_type\": \"\",\n        \"description\": \"\"\n      }\n    },\n    {\n      \"column\": \"price\",\n      \"properties\": {\n        \"dtype\": \"number\",\n        \"std\": 3989,\n        \"min\": 326,\n        \"max\": 18823,\n        \"num_unique_values\": 11602,\n        \"samples\": [\n          16368,\n          895,\n          748\n        ],\n        \"semantic_type\": \"\",\n        \"description\": \"\"\n      }\n    },\n    {\n      \"column\": \"x\",\n      \"properties\": {\n        \"dtype\": \"number\",\n        \"std\": 1.1217607467924422,\n        \"min\": 0.0,\n        \"max\": 10.74,\n        \"num_unique_values\": 554,\n        \"samples\": [\n          5.88,\n          5.69,\n          4.61\n        ],\n        \"semantic_type\": \"\",\n        \"description\": \"\"\n      }\n    },\n    {\n      \"column\": \"y\",\n      \"properties\": {\n        \"dtype\": \"number\",\n        \"std\": 1.1421346741235396,\n        \"min\": 0.0,\n        \"max\": 58.9,\n        \"num_unique_values\": 552,\n        \"samples\": [\n          5.33,\n          5.61,\n          5.25\n        ],\n        \"semantic_type\": \"\",\n        \"description\": \"\"\n      }\n    },\n    {\n      \"column\": \"z\",\n      \"properties\": {\n        \"dtype\": \"number\",\n        \"std\": 0.7056988469499964,\n        \"min\": 0.0,\n        \"max\": 31.8,\n        \"num_unique_values\": 375,\n        \"samples\": [\n          3.36,\n          2.45,\n          2.7\n        ],\n        \"semantic_type\": \"\",\n        \"description\": \"\"\n      }\n    }\n  ]\n}"
            }
          },
          "metadata": {},
          "execution_count": 44
        }
      ],
      "execution_count": 44
    },
    {
      "cell_type": "markdown",
      "source": [
        "# **2. Summary of the Dataset**\n",
        "The given dataset contains the following attributes:\n",
        "* carat\n",
        "* cut\n",
        "* color\n",
        "* clarity\n",
        "* depth\n",
        "* table\n",
        "* price"
      ],
      "metadata": {
        "id": "t4Z0twNPHrSA"
      }
    },
    {
      "cell_type": "markdown",
      "source": [
        "# **3. Is there any data type mismatch in Dataset? If so try to convert the attributes to the required Data type.**"
      ],
      "metadata": {
        "id": "5wjw4j52HrSA"
      }
    },
    {
      "cell_type": "code",
      "source": [
        "df.info()"
      ],
      "metadata": {
        "execution": {
          "iopub.status.busy": "2022-11-27T11:06:34.521853Z",
          "iopub.execute_input": "2022-11-27T11:06:34.522234Z",
          "iopub.status.idle": "2022-11-27T11:06:34.547504Z",
          "shell.execute_reply.started": "2022-11-27T11:06:34.5222Z",
          "shell.execute_reply": "2022-11-27T11:06:34.546246Z"
        },
        "trusted": true,
        "colab": {
          "base_uri": "https://localhost:8080/"
        },
        "id": "OjUv2DxhHrSB",
        "outputId": "f9135376-b4cf-47df-ef55-d1e743909a40"
      },
      "outputs": [
        {
          "output_type": "stream",
          "name": "stdout",
          "text": [
            "<class 'pandas.core.frame.DataFrame'>\n",
            "RangeIndex: 53940 entries, 0 to 53939\n",
            "Data columns (total 10 columns):\n",
            " #   Column   Non-Null Count  Dtype  \n",
            "---  ------   --------------  -----  \n",
            " 0   carat    53940 non-null  float64\n",
            " 1   cut      53940 non-null  object \n",
            " 2   color    53940 non-null  object \n",
            " 3   clarity  53940 non-null  object \n",
            " 4   depth    53940 non-null  float64\n",
            " 5   table    53940 non-null  float64\n",
            " 6   price    53940 non-null  int64  \n",
            " 7   x        53940 non-null  float64\n",
            " 8   y        53940 non-null  float64\n",
            " 9   z        53940 non-null  float64\n",
            "dtypes: float64(6), int64(1), object(3)\n",
            "memory usage: 4.1+ MB\n"
          ]
        }
      ],
      "execution_count": 45
    },
    {
      "cell_type": "markdown",
      "source": [
        "We observe that there is NO DATA MISMATCH\n",
        "* carat -> float\n",
        "* cut -> obj\n",
        "* color -> obj\n",
        "* clarity -> obj\n",
        "* depth -> float\n",
        "* table -> float\n",
        "* price -> int"
      ],
      "metadata": {
        "id": "3-RLy0L8HrSB"
      }
    },
    {
      "cell_type": "markdown",
      "source": [
        "# **4. Is there any missing values in Dataset? If so mention & justify the method handled for missing values?**\n"
      ],
      "metadata": {
        "id": "Cl8J7gcTHrSB"
      }
    },
    {
      "cell_type": "code",
      "source": [
        "df.isnull().sum()"
      ],
      "metadata": {
        "execution": {
          "iopub.status.busy": "2022-11-27T11:06:34.55074Z",
          "iopub.execute_input": "2022-11-27T11:06:34.551645Z",
          "iopub.status.idle": "2022-11-27T11:06:34.57116Z",
          "shell.execute_reply.started": "2022-11-27T11:06:34.55159Z",
          "shell.execute_reply": "2022-11-27T11:06:34.569844Z"
        },
        "trusted": true,
        "colab": {
          "base_uri": "https://localhost:8080/",
          "height": 397
        },
        "id": "ofcp8v1EHrSB",
        "outputId": "54415215-55af-4f22-d35b-0f33aec877a6"
      },
      "outputs": [
        {
          "output_type": "execute_result",
          "data": {
            "text/plain": [
              "carat      0\n",
              "cut        0\n",
              "color      0\n",
              "clarity    0\n",
              "depth      0\n",
              "table      0\n",
              "price      0\n",
              "x          0\n",
              "y          0\n",
              "z          0\n",
              "dtype: int64"
            ],
            "text/html": [
              "<div>\n",
              "<style scoped>\n",
              "    .dataframe tbody tr th:only-of-type {\n",
              "        vertical-align: middle;\n",
              "    }\n",
              "\n",
              "    .dataframe tbody tr th {\n",
              "        vertical-align: top;\n",
              "    }\n",
              "\n",
              "    .dataframe thead th {\n",
              "        text-align: right;\n",
              "    }\n",
              "</style>\n",
              "<table border=\"1\" class=\"dataframe\">\n",
              "  <thead>\n",
              "    <tr style=\"text-align: right;\">\n",
              "      <th></th>\n",
              "      <th>0</th>\n",
              "    </tr>\n",
              "  </thead>\n",
              "  <tbody>\n",
              "    <tr>\n",
              "      <th>carat</th>\n",
              "      <td>0</td>\n",
              "    </tr>\n",
              "    <tr>\n",
              "      <th>cut</th>\n",
              "      <td>0</td>\n",
              "    </tr>\n",
              "    <tr>\n",
              "      <th>color</th>\n",
              "      <td>0</td>\n",
              "    </tr>\n",
              "    <tr>\n",
              "      <th>clarity</th>\n",
              "      <td>0</td>\n",
              "    </tr>\n",
              "    <tr>\n",
              "      <th>depth</th>\n",
              "      <td>0</td>\n",
              "    </tr>\n",
              "    <tr>\n",
              "      <th>table</th>\n",
              "      <td>0</td>\n",
              "    </tr>\n",
              "    <tr>\n",
              "      <th>price</th>\n",
              "      <td>0</td>\n",
              "    </tr>\n",
              "    <tr>\n",
              "      <th>x</th>\n",
              "      <td>0</td>\n",
              "    </tr>\n",
              "    <tr>\n",
              "      <th>y</th>\n",
              "      <td>0</td>\n",
              "    </tr>\n",
              "    <tr>\n",
              "      <th>z</th>\n",
              "      <td>0</td>\n",
              "    </tr>\n",
              "  </tbody>\n",
              "</table>\n",
              "</div><br><label><b>dtype:</b> int64</label>"
            ]
          },
          "metadata": {},
          "execution_count": 46
        }
      ],
      "execution_count": 46
    },
    {
      "cell_type": "markdown",
      "source": [
        "There is a possibility that there ain't any null values but some other entry like \".\" or \"-\" .So we check all the unique values in each row to get a beter picture."
      ],
      "metadata": {
        "id": "CNnHGFijHrSB"
      }
    },
    {
      "cell_type": "code",
      "source": [
        "l=df.carat.unique()\n",
        "l.sort()\n",
        "l"
      ],
      "metadata": {
        "execution": {
          "iopub.status.busy": "2022-11-27T11:06:34.572313Z",
          "iopub.execute_input": "2022-11-27T11:06:34.572643Z",
          "iopub.status.idle": "2022-11-27T11:06:34.583164Z",
          "shell.execute_reply.started": "2022-11-27T11:06:34.572612Z",
          "shell.execute_reply": "2022-11-27T11:06:34.581948Z"
        },
        "trusted": true,
        "colab": {
          "base_uri": "https://localhost:8080/"
        },
        "id": "yyLUPg_CHrSB",
        "outputId": "612e6efa-c6a5-4c99-fff2-b99c086ba9c9"
      },
      "outputs": [
        {
          "output_type": "execute_result",
          "data": {
            "text/plain": [
              "array([0.2 , 0.21, 0.22, 0.23, 0.24, 0.25, 0.26, 0.27, 0.28, 0.29, 0.3 ,\n",
              "       0.31, 0.32, 0.33, 0.34, 0.35, 0.36, 0.37, 0.38, 0.39, 0.4 , 0.41,\n",
              "       0.42, 0.43, 0.44, 0.45, 0.46, 0.47, 0.48, 0.49, 0.5 , 0.51, 0.52,\n",
              "       0.53, 0.54, 0.55, 0.56, 0.57, 0.58, 0.59, 0.6 , 0.61, 0.62, 0.63,\n",
              "       0.64, 0.65, 0.66, 0.67, 0.68, 0.69, 0.7 , 0.71, 0.72, 0.73, 0.74,\n",
              "       0.75, 0.76, 0.77, 0.78, 0.79, 0.8 , 0.81, 0.82, 0.83, 0.84, 0.85,\n",
              "       0.86, 0.87, 0.88, 0.89, 0.9 , 0.91, 0.92, 0.93, 0.94, 0.95, 0.96,\n",
              "       0.97, 0.98, 0.99, 1.  , 1.01, 1.02, 1.03, 1.04, 1.05, 1.06, 1.07,\n",
              "       1.08, 1.09, 1.1 , 1.11, 1.12, 1.13, 1.14, 1.15, 1.16, 1.17, 1.18,\n",
              "       1.19, 1.2 , 1.21, 1.22, 1.23, 1.24, 1.25, 1.26, 1.27, 1.28, 1.29,\n",
              "       1.3 , 1.31, 1.32, 1.33, 1.34, 1.35, 1.36, 1.37, 1.38, 1.39, 1.4 ,\n",
              "       1.41, 1.42, 1.43, 1.44, 1.45, 1.46, 1.47, 1.48, 1.49, 1.5 , 1.51,\n",
              "       1.52, 1.53, 1.54, 1.55, 1.56, 1.57, 1.58, 1.59, 1.6 , 1.61, 1.62,\n",
              "       1.63, 1.64, 1.65, 1.66, 1.67, 1.68, 1.69, 1.7 , 1.71, 1.72, 1.73,\n",
              "       1.74, 1.75, 1.76, 1.77, 1.78, 1.79, 1.8 , 1.81, 1.82, 1.83, 1.84,\n",
              "       1.85, 1.86, 1.87, 1.88, 1.89, 1.9 , 1.91, 1.92, 1.93, 1.94, 1.95,\n",
              "       1.96, 1.97, 1.98, 1.99, 2.  , 2.01, 2.02, 2.03, 2.04, 2.05, 2.06,\n",
              "       2.07, 2.08, 2.09, 2.1 , 2.11, 2.12, 2.13, 2.14, 2.15, 2.16, 2.17,\n",
              "       2.18, 2.19, 2.2 , 2.21, 2.22, 2.23, 2.24, 2.25, 2.26, 2.27, 2.28,\n",
              "       2.29, 2.3 , 2.31, 2.32, 2.33, 2.34, 2.35, 2.36, 2.37, 2.38, 2.39,\n",
              "       2.4 , 2.41, 2.42, 2.43, 2.44, 2.45, 2.46, 2.47, 2.48, 2.49, 2.5 ,\n",
              "       2.51, 2.52, 2.53, 2.54, 2.55, 2.56, 2.57, 2.58, 2.59, 2.6 , 2.61,\n",
              "       2.63, 2.64, 2.65, 2.66, 2.67, 2.68, 2.7 , 2.71, 2.72, 2.74, 2.75,\n",
              "       2.77, 2.8 , 3.  , 3.01, 3.02, 3.04, 3.05, 3.11, 3.22, 3.24, 3.4 ,\n",
              "       3.5 , 3.51, 3.65, 3.67, 4.  , 4.01, 4.13, 4.5 , 5.01])"
            ]
          },
          "metadata": {},
          "execution_count": 47
        }
      ],
      "execution_count": 47
    },
    {
      "cell_type": "code",
      "source": [
        "df.cut.unique()"
      ],
      "metadata": {
        "execution": {
          "iopub.status.busy": "2022-11-27T11:06:34.584512Z",
          "iopub.execute_input": "2022-11-27T11:06:34.585249Z",
          "iopub.status.idle": "2022-11-27T11:06:34.597459Z",
          "shell.execute_reply.started": "2022-11-27T11:06:34.585201Z",
          "shell.execute_reply": "2022-11-27T11:06:34.596346Z"
        },
        "trusted": true,
        "colab": {
          "base_uri": "https://localhost:8080/"
        },
        "id": "0S5NEVXOHrSC",
        "outputId": "f10d78eb-d2af-41ff-d6f9-fab257cb0dbf"
      },
      "outputs": [
        {
          "output_type": "execute_result",
          "data": {
            "text/plain": [
              "array(['Ideal', 'Premium', 'Good', 'Very Good', 'Fair'], dtype=object)"
            ]
          },
          "metadata": {},
          "execution_count": 48
        }
      ],
      "execution_count": 48
    },
    {
      "cell_type": "code",
      "source": [
        "df.color.unique()"
      ],
      "metadata": {
        "execution": {
          "iopub.status.busy": "2022-11-27T11:06:34.599049Z",
          "iopub.execute_input": "2022-11-27T11:06:34.599466Z",
          "iopub.status.idle": "2022-11-27T11:06:34.611525Z",
          "shell.execute_reply.started": "2022-11-27T11:06:34.599431Z",
          "shell.execute_reply": "2022-11-27T11:06:34.610435Z"
        },
        "trusted": true,
        "colab": {
          "base_uri": "https://localhost:8080/"
        },
        "id": "IHjtbUNfHrSC",
        "outputId": "3828636c-b8b7-4b53-d268-a1697fcffed3"
      },
      "outputs": [
        {
          "output_type": "execute_result",
          "data": {
            "text/plain": [
              "array(['E', 'I', 'J', 'H', 'F', 'G', 'D'], dtype=object)"
            ]
          },
          "metadata": {},
          "execution_count": 49
        }
      ],
      "execution_count": 49
    },
    {
      "cell_type": "code",
      "source": [
        "df.clarity.unique()"
      ],
      "metadata": {
        "execution": {
          "iopub.status.busy": "2022-11-27T11:06:34.613124Z",
          "iopub.execute_input": "2022-11-27T11:06:34.613495Z",
          "iopub.status.idle": "2022-11-27T11:06:34.625209Z",
          "shell.execute_reply.started": "2022-11-27T11:06:34.613462Z",
          "shell.execute_reply": "2022-11-27T11:06:34.623867Z"
        },
        "trusted": true,
        "colab": {
          "base_uri": "https://localhost:8080/"
        },
        "id": "YhRj62pMHrSC",
        "outputId": "482856d8-de05-47c1-8ed5-e0a43b285253"
      },
      "outputs": [
        {
          "output_type": "execute_result",
          "data": {
            "text/plain": [
              "array(['SI2', 'SI1', 'VS1', 'VS2', 'VVS2', 'VVS1', 'I1', 'IF'],\n",
              "      dtype=object)"
            ]
          },
          "metadata": {},
          "execution_count": 50
        }
      ],
      "execution_count": 50
    },
    {
      "cell_type": "code",
      "source": [
        "l=df.depth.unique()\n",
        "l.sort()\n",
        "l"
      ],
      "metadata": {
        "execution": {
          "iopub.status.busy": "2022-11-27T11:06:34.626586Z",
          "iopub.execute_input": "2022-11-27T11:06:34.627045Z",
          "iopub.status.idle": "2022-11-27T11:06:34.638954Z",
          "shell.execute_reply.started": "2022-11-27T11:06:34.627Z",
          "shell.execute_reply": "2022-11-27T11:06:34.63798Z"
        },
        "trusted": true,
        "colab": {
          "base_uri": "https://localhost:8080/"
        },
        "id": "llAXkI5bHrSC",
        "outputId": "4c9bea13-7136-483c-84f1-8aec6ff99104"
      },
      "outputs": [
        {
          "output_type": "execute_result",
          "data": {
            "text/plain": [
              "array([43. , 44. , 50.8, 51. , 52.2, 52.3, 52.7, 53. , 53.1, 53.2, 53.3,\n",
              "       53.4, 53.8, 54. , 54.2, 54.3, 54.4, 54.6, 54.7, 55. , 55.1, 55.2,\n",
              "       55.3, 55.4, 55.5, 55.6, 55.8, 55.9, 56. , 56.1, 56.2, 56.3, 56.4,\n",
              "       56.5, 56.6, 56.7, 56.8, 56.9, 57. , 57.1, 57.2, 57.3, 57.4, 57.5,\n",
              "       57.6, 57.7, 57.8, 57.9, 58. , 58.1, 58.2, 58.3, 58.4, 58.5, 58.6,\n",
              "       58.7, 58.8, 58.9, 59. , 59.1, 59.2, 59.3, 59.4, 59.5, 59.6, 59.7,\n",
              "       59.8, 59.9, 60. , 60.1, 60.2, 60.3, 60.4, 60.5, 60.6, 60.7, 60.8,\n",
              "       60.9, 61. , 61.1, 61.2, 61.3, 61.4, 61.5, 61.6, 61.7, 61.8, 61.9,\n",
              "       62. , 62.1, 62.2, 62.3, 62.4, 62.5, 62.6, 62.7, 62.8, 62.9, 63. ,\n",
              "       63.1, 63.2, 63.3, 63.4, 63.5, 63.6, 63.7, 63.8, 63.9, 64. , 64.1,\n",
              "       64.2, 64.3, 64.4, 64.5, 64.6, 64.7, 64.8, 64.9, 65. , 65.1, 65.2,\n",
              "       65.3, 65.4, 65.5, 65.6, 65.7, 65.8, 65.9, 66. , 66.1, 66.2, 66.3,\n",
              "       66.4, 66.5, 66.6, 66.7, 66.8, 66.9, 67. , 67.1, 67.2, 67.3, 67.4,\n",
              "       67.5, 67.6, 67.7, 67.8, 67.9, 68. , 68.1, 68.2, 68.3, 68.4, 68.5,\n",
              "       68.6, 68.7, 68.8, 68.9, 69. , 69.1, 69.2, 69.3, 69.4, 69.5, 69.6,\n",
              "       69.7, 69.8, 69.9, 70. , 70.1, 70.2, 70.5, 70.6, 70.8, 71. , 71.2,\n",
              "       71.3, 71.6, 71.8, 72.2, 72.9, 73.6, 78.2, 79. ])"
            ]
          },
          "metadata": {},
          "execution_count": 51
        }
      ],
      "execution_count": 51
    },
    {
      "cell_type": "code",
      "source": [
        "l=df.table.unique()\n",
        "l.sort()\n",
        "l"
      ],
      "metadata": {
        "execution": {
          "iopub.status.busy": "2022-11-27T11:06:34.655745Z",
          "iopub.execute_input": "2022-11-27T11:06:34.65616Z",
          "iopub.status.idle": "2022-11-27T11:06:34.666314Z",
          "shell.execute_reply.started": "2022-11-27T11:06:34.656124Z",
          "shell.execute_reply": "2022-11-27T11:06:34.664984Z"
        },
        "trusted": true,
        "colab": {
          "base_uri": "https://localhost:8080/"
        },
        "id": "4K-n64vJHrSC",
        "outputId": "7b84d372-7c0a-4587-e9d1-0b950a08dea9"
      },
      "outputs": [
        {
          "output_type": "execute_result",
          "data": {
            "text/plain": [
              "array([43. , 44. , 49. , 50. , 50.1, 51. , 51.6, 52. , 52.4, 52.8, 53. ,\n",
              "       53.1, 53.2, 53.3, 53.4, 53.5, 53.6, 53.7, 53.8, 53.9, 54. , 54.1,\n",
              "       54.2, 54.3, 54.4, 54.5, 54.6, 54.7, 54.8, 54.9, 55. , 55.1, 55.2,\n",
              "       55.3, 55.4, 55.5, 55.6, 55.7, 55.8, 55.9, 56. , 56.1, 56.2, 56.3,\n",
              "       56.4, 56.5, 56.6, 56.7, 56.8, 56.9, 57. , 57.1, 57.2, 57.3, 57.4,\n",
              "       57.5, 57.6, 57.7, 57.8, 57.9, 58. , 58.1, 58.2, 58.3, 58.4, 58.5,\n",
              "       58.6, 58.7, 58.8, 58.9, 59. , 59.1, 59.2, 59.3, 59.4, 59.5, 59.6,\n",
              "       59.7, 59.8, 59.9, 60. , 60.1, 60.2, 60.3, 60.4, 60.5, 60.6, 60.7,\n",
              "       60.8, 60.9, 61. , 61.1, 61.2, 61.3, 61.4, 61.5, 61.6, 61.7, 61.8,\n",
              "       61.9, 62. , 62.1, 62.2, 62.3, 62.4, 62.5, 62.6, 62.8, 63. , 63.3,\n",
              "       63.4, 63.5, 64. , 64.2, 64.3, 65. , 65.4, 66. , 67. , 68. , 69. ,\n",
              "       70. , 71. , 73. , 76. , 79. , 95. ])"
            ]
          },
          "metadata": {},
          "execution_count": 52
        }
      ],
      "execution_count": 52
    },
    {
      "cell_type": "code",
      "source": [
        "l=df.price.unique()\n",
        "l.sort()\n",
        "l"
      ],
      "metadata": {
        "execution": {
          "iopub.status.busy": "2022-11-27T11:06:34.668504Z",
          "iopub.execute_input": "2022-11-27T11:06:34.668855Z",
          "iopub.status.idle": "2022-11-27T11:06:34.681216Z",
          "shell.execute_reply.started": "2022-11-27T11:06:34.668824Z",
          "shell.execute_reply": "2022-11-27T11:06:34.68005Z"
        },
        "trusted": true,
        "colab": {
          "base_uri": "https://localhost:8080/"
        },
        "id": "iC3ITOxXHrSC",
        "outputId": "3d37d3c4-1281-4243-d4d7-687d379eba7e"
      },
      "outputs": [
        {
          "output_type": "execute_result",
          "data": {
            "text/plain": [
              "array([  326,   327,   334, ..., 18806, 18818, 18823])"
            ]
          },
          "metadata": {},
          "execution_count": 53
        }
      ],
      "execution_count": 53
    },
    {
      "cell_type": "markdown",
      "source": [
        "Therefore we conclude that THERE ARE NO NULL VALUES in the given dataset"
      ],
      "metadata": {
        "id": "IMxqxfdzHrSD"
      }
    },
    {
      "cell_type": "markdown",
      "source": [
        "# **6. Is there any categorical variables in Dataset? What are they? Convert the categorical values to numeric.**"
      ],
      "metadata": {
        "id": "ZuDErpXEHrSD"
      }
    },
    {
      "cell_type": "code",
      "source": [
        "df.info()"
      ],
      "metadata": {
        "execution": {
          "iopub.status.busy": "2022-11-27T11:06:34.682605Z",
          "iopub.execute_input": "2022-11-27T11:06:34.68343Z",
          "iopub.status.idle": "2022-11-27T11:06:34.705723Z",
          "shell.execute_reply.started": "2022-11-27T11:06:34.683395Z",
          "shell.execute_reply": "2022-11-27T11:06:34.704922Z"
        },
        "trusted": true,
        "colab": {
          "base_uri": "https://localhost:8080/"
        },
        "id": "tfsoP0ueHrSD",
        "outputId": "b048b04b-4e4a-4653-c863-7dc062a6ce18"
      },
      "outputs": [
        {
          "output_type": "stream",
          "name": "stdout",
          "text": [
            "<class 'pandas.core.frame.DataFrame'>\n",
            "RangeIndex: 53940 entries, 0 to 53939\n",
            "Data columns (total 10 columns):\n",
            " #   Column   Non-Null Count  Dtype  \n",
            "---  ------   --------------  -----  \n",
            " 0   carat    53940 non-null  float64\n",
            " 1   cut      53940 non-null  object \n",
            " 2   color    53940 non-null  object \n",
            " 3   clarity  53940 non-null  object \n",
            " 4   depth    53940 non-null  float64\n",
            " 5   table    53940 non-null  float64\n",
            " 6   price    53940 non-null  int64  \n",
            " 7   x        53940 non-null  float64\n",
            " 8   y        53940 non-null  float64\n",
            " 9   z        53940 non-null  float64\n",
            "dtypes: float64(6), int64(1), object(3)\n",
            "memory usage: 4.1+ MB\n"
          ]
        }
      ],
      "execution_count": 54
    },
    {
      "cell_type": "markdown",
      "source": [
        "We see that there are 3 categorical features:\n",
        "1. cut\n",
        "2. color\n",
        "3. clarity"
      ],
      "metadata": {
        "id": "jJIqU0JpHrSD"
      }
    },
    {
      "cell_type": "code",
      "source": [
        "print(df.cut.unique())\n",
        "df.cut.replace([\"Fair\",\"Ideal\",\"Good\",\"Very Good\",\"Premium\"],[0,1,2,3,4],inplace=True)\n",
        "print(df.cut.unique())"
      ],
      "metadata": {
        "execution": {
          "iopub.status.busy": "2022-11-27T11:06:34.707439Z",
          "iopub.execute_input": "2022-11-27T11:06:34.707786Z",
          "iopub.status.idle": "2022-11-27T11:06:34.745448Z",
          "shell.execute_reply.started": "2022-11-27T11:06:34.70773Z",
          "shell.execute_reply": "2022-11-27T11:06:34.744264Z"
        },
        "trusted": true,
        "colab": {
          "base_uri": "https://localhost:8080/"
        },
        "id": "yJ_2Ccr8HrSD",
        "outputId": "5c77005c-fe1c-403f-c44f-b0a7b7e9eabb"
      },
      "outputs": [
        {
          "output_type": "stream",
          "name": "stdout",
          "text": [
            "['Ideal' 'Premium' 'Good' 'Very Good' 'Fair']\n",
            "[1 4 2 3 0]\n"
          ]
        }
      ],
      "execution_count": 55
    },
    {
      "cell_type": "code",
      "source": [
        "print(df.color.unique())\n",
        "df.color.replace(['E', 'I', 'J', 'H', 'F', 'G', 'D'],[0,1,2,3,4,5,6],inplace=True)\n",
        "print(df.color.unique())"
      ],
      "metadata": {
        "execution": {
          "iopub.status.busy": "2022-11-27T11:06:34.748153Z",
          "iopub.execute_input": "2022-11-27T11:06:34.748488Z",
          "iopub.status.idle": "2022-11-27T11:06:34.789327Z",
          "shell.execute_reply.started": "2022-11-27T11:06:34.748457Z",
          "shell.execute_reply": "2022-11-27T11:06:34.788127Z"
        },
        "trusted": true,
        "colab": {
          "base_uri": "https://localhost:8080/"
        },
        "id": "VdmsizOYHrSD",
        "outputId": "fdcb85f0-0e68-430b-c834-7b054ca74eb0"
      },
      "outputs": [
        {
          "output_type": "stream",
          "name": "stdout",
          "text": [
            "['E' 'I' 'J' 'H' 'F' 'G' 'D']\n",
            "[0 1 2 3 4 5 6]\n"
          ]
        }
      ],
      "execution_count": 56
    },
    {
      "cell_type": "code",
      "source": [
        "print(df.clarity.unique())\n",
        "df.clarity.replace(['SI2', 'SI1', 'VS1', 'VS2', 'VVS2', 'VVS1', 'I1', 'IF'], [0,1,2,3,4,5,6,7],inplace=True)\n",
        "print(df.clarity.unique())"
      ],
      "metadata": {
        "execution": {
          "iopub.status.busy": "2022-11-27T11:06:34.790688Z",
          "iopub.execute_input": "2022-11-27T11:06:34.791101Z",
          "iopub.status.idle": "2022-11-27T11:06:34.835951Z",
          "shell.execute_reply.started": "2022-11-27T11:06:34.791067Z",
          "shell.execute_reply": "2022-11-27T11:06:34.834743Z"
        },
        "trusted": true,
        "colab": {
          "base_uri": "https://localhost:8080/"
        },
        "id": "OngscqxdHrSD",
        "outputId": "798a536a-e5cc-4520-b564-cb8770138c1c"
      },
      "outputs": [
        {
          "output_type": "stream",
          "name": "stdout",
          "text": [
            "['SI2' 'SI1' 'VS1' 'VS2' 'VVS2' 'VVS1' 'I1' 'IF']\n",
            "[0 1 2 3 4 5 6 7]\n"
          ]
        }
      ],
      "execution_count": 57
    },
    {
      "cell_type": "code",
      "source": [
        "df.info()"
      ],
      "metadata": {
        "execution": {
          "iopub.status.busy": "2022-11-27T11:06:34.837361Z",
          "iopub.execute_input": "2022-11-27T11:06:34.838008Z",
          "iopub.status.idle": "2022-11-27T11:06:34.855212Z",
          "shell.execute_reply.started": "2022-11-27T11:06:34.837972Z",
          "shell.execute_reply": "2022-11-27T11:06:34.854113Z"
        },
        "trusted": true,
        "colab": {
          "base_uri": "https://localhost:8080/"
        },
        "id": "ffYg441uHrSD",
        "outputId": "0ca443a4-891c-4a72-80f1-d55d82993a60"
      },
      "outputs": [
        {
          "output_type": "stream",
          "name": "stdout",
          "text": [
            "<class 'pandas.core.frame.DataFrame'>\n",
            "RangeIndex: 53940 entries, 0 to 53939\n",
            "Data columns (total 10 columns):\n",
            " #   Column   Non-Null Count  Dtype  \n",
            "---  ------   --------------  -----  \n",
            " 0   carat    53940 non-null  float64\n",
            " 1   cut      53940 non-null  int64  \n",
            " 2   color    53940 non-null  int64  \n",
            " 3   clarity  53940 non-null  int64  \n",
            " 4   depth    53940 non-null  float64\n",
            " 5   table    53940 non-null  float64\n",
            " 6   price    53940 non-null  int64  \n",
            " 7   x        53940 non-null  float64\n",
            " 8   y        53940 non-null  float64\n",
            " 9   z        53940 non-null  float64\n",
            "dtypes: float64(6), int64(4)\n",
            "memory usage: 4.1 MB\n"
          ]
        }
      ],
      "execution_count": 58
    },
    {
      "cell_type": "markdown",
      "source": [
        "Now we have converted all the categorical data types to integer data types by the replace method."
      ],
      "metadata": {
        "id": "YPAkYc4JHrSE"
      }
    },
    {
      "cell_type": "markdown",
      "source": [
        "# **5. Are there any Outliers in Dataset? Mention the methods for outliers detection, which method is the best one justify & remove outliers using the same method.**"
      ],
      "metadata": {
        "id": "2hUk4ODxHrSE"
      }
    },
    {
      "cell_type": "markdown",
      "source": [
        "USING GRAPHS"
      ],
      "metadata": {
        "id": "qZ35-fwcHrSE"
      }
    },
    {
      "cell_type": "code",
      "source": [
        "import warnings\n",
        "warnings.filterwarnings('ignore')"
      ],
      "metadata": {
        "execution": {
          "iopub.status.busy": "2022-11-27T11:06:34.857097Z",
          "iopub.execute_input": "2022-11-27T11:06:34.857538Z",
          "iopub.status.idle": "2022-11-27T11:06:34.864868Z",
          "shell.execute_reply.started": "2022-11-27T11:06:34.857495Z",
          "shell.execute_reply": "2022-11-27T11:06:34.863868Z"
        },
        "trusted": true,
        "id": "mn4bPwmxHrSE"
      },
      "outputs": [],
      "execution_count": 59
    },
    {
      "cell_type": "code",
      "source": [
        "# OUTLIERS IN CARAT\n",
        "plt.subplot(1,2,1)\n",
        "p1=sns.boxplot(df.carat)\n",
        "plt.subplot(1,2,2)\n",
        "p2=sns.distplot(df.carat)"
      ],
      "metadata": {
        "execution": {
          "iopub.status.busy": "2022-11-27T11:06:34.86619Z",
          "iopub.execute_input": "2022-11-27T11:06:34.867039Z",
          "iopub.status.idle": "2022-11-27T11:06:35.951064Z",
          "shell.execute_reply.started": "2022-11-27T11:06:34.867Z",
          "shell.execute_reply": "2022-11-27T11:06:35.94987Z"
        },
        "trusted": true,
        "colab": {
          "base_uri": "https://localhost:8080/",
          "height": 449
        },
        "id": "qf8EN6taHrSE",
        "outputId": "68c065e4-de29-40b2-9e9b-5ec54a4a64b1"
      },
      "outputs": [
        {
          "output_type": "display_data",
          "data": {
            "text/plain": [
              "<Figure size 640x480 with 2 Axes>"
            ],
            "image/png": "[encoded data removed]"
          },
          "metadata": {}
        }
      ],
      "execution_count": 60
    },
    {
      "cell_type": "code",
      "source": [
        "# OUTLIERS IN CUT\n",
        "plt.subplot(1,2,1)\n",
        "p1=sns.boxplot(df.cut)\n",
        "plt.subplot(1,2,2)\n",
        "p2=sns.distplot(df.cut)"
      ],
      "metadata": {
        "execution": {
          "iopub.status.busy": "2022-11-27T11:06:35.95289Z",
          "iopub.execute_input": "2022-11-27T11:06:35.95423Z",
          "iopub.status.idle": "2022-11-27T11:06:36.51329Z",
          "shell.execute_reply.started": "2022-11-27T11:06:35.95418Z",
          "shell.execute_reply": "2022-11-27T11:06:36.512309Z"
        },
        "trusted": true,
        "colab": {
          "base_uri": "https://localhost:8080/",
          "height": 449
        },
        "id": "rhrdGm44HrSE",
        "outputId": "578d42f3-ee1e-4057-c666-91471cd0003c"
      },
      "outputs": [
        {
          "output_type": "display_data",
          "data": {
            "text/plain": [
              "<Figure size 640x480 with 2 Axes>"
            ],
            "image/png": "[encoded data removed]"
          },
          "metadata": {}
        }
      ],
      "execution_count": 61
    },
    {
      "cell_type": "code",
      "source": [
        "# OUTLIERS IN COLOR\n",
        "plt.subplot(1,2,1)\n",
        "p1=sns.boxplot(df.color)\n",
        "plt.subplot(1,2,2)\n",
        "p2=sns.distplot(df.color)"
      ],
      "metadata": {
        "execution": {
          "iopub.status.busy": "2022-11-27T11:06:36.514866Z",
          "iopub.execute_input": "2022-11-27T11:06:36.515998Z",
          "iopub.status.idle": "2022-11-27T11:06:37.027605Z",
          "shell.execute_reply.started": "2022-11-27T11:06:36.515951Z",
          "shell.execute_reply": "2022-11-27T11:06:37.02647Z"
        },
        "trusted": true,
        "colab": {
          "base_uri": "https://localhost:8080/",
          "height": 449
        },
        "id": "ZOlXZsOOHrSE",
        "outputId": "09c755cd-dd2f-4167-846a-c8c476ba4dc6"
      },
      "outputs": [
        {
          "output_type": "display_data",
          "data": {
            "text/plain": [
              "<Figure size 640x480 with 2 Axes>"
            ],
            "image/png": "[encoded data removed]"
          },
          "metadata": {}
        }
      ],
      "execution_count": 62
    },
    {
      "cell_type": "code",
      "source": [
        "# OUTLIERS IN CLARITY\n",
        "plt.subplot(1,2,1)\n",
        "p1=sns.boxplot(df.clarity)\n",
        "plt.subplot(1,2,2)\n",
        "p2=sns.distplot(df.clarity)"
      ],
      "metadata": {
        "execution": {
          "iopub.status.busy": "2022-11-27T11:06:37.029418Z",
          "iopub.execute_input": "2022-11-27T11:06:37.030161Z",
          "iopub.status.idle": "2022-11-27T11:06:37.662969Z",
          "shell.execute_reply.started": "2022-11-27T11:06:37.030113Z",
          "shell.execute_reply": "2022-11-27T11:06:37.661663Z"
        },
        "trusted": true,
        "colab": {
          "base_uri": "https://localhost:8080/",
          "height": 449
        },
        "id": "DoiHMKLkHrSF",
        "outputId": "8dc60b8f-eb78-41b0-89d9-e08d64a96d2d"
      },
      "outputs": [
        {
          "output_type": "display_data",
          "data": {
            "text/plain": [
              "<Figure size 640x480 with 2 Axes>"
            ],
            "image/png": "[encoded data removed]"
          },
          "metadata": {}
        }
      ],
      "execution_count": 63
    },
    {
      "cell_type": "code",
      "source": [
        "# OUTLIERS IN DEPTH\n",
        "plt.subplot(1,2,1)\n",
        "p1=sns.boxplot(df.depth)\n",
        "plt.subplot(1,2,2)\n",
        "p2=sns.distplot(df.depth)"
      ],
      "metadata": {
        "execution": {
          "iopub.status.busy": "2022-11-27T11:06:37.664632Z",
          "iopub.execute_input": "2022-11-27T11:06:37.665415Z",
          "iopub.status.idle": "2022-11-27T11:06:38.353659Z",
          "shell.execute_reply.started": "2022-11-27T11:06:37.665367Z",
          "shell.execute_reply": "2022-11-27T11:06:38.352434Z"
        },
        "trusted": true,
        "colab": {
          "base_uri": "https://localhost:8080/",
          "height": 449
        },
        "id": "Cl6IhKG8HrSF",
        "outputId": "59d833f4-5fc6-4de1-dc31-0359c0d7e0b3"
      },
      "outputs": [
        {
          "output_type": "display_data",
          "data": {
            "text/plain": [
              "<Figure size 640x480 with 2 Axes>"
            ],
            "image/png": "[encoded data removed]"
          },
          "metadata": {}
        }
      ],
      "execution_count": 64
    },
    {
      "cell_type": "code",
      "source": [
        "# OUTLIERS IN TABLE\n",
        "plt.subplot(1,2,1)\n",
        "p1=sns.boxplot(df.table)\n",
        "plt.subplot(1,2,2)\n",
        "p2=sns.distplot(df.table)"
      ],
      "metadata": {
        "execution": {
          "iopub.status.busy": "2022-11-27T11:06:38.35834Z",
          "iopub.execute_input": "2022-11-27T11:06:38.358684Z",
          "iopub.status.idle": "2022-11-27T11:06:39.019296Z",
          "shell.execute_reply.started": "2022-11-27T11:06:38.358651Z",
          "shell.execute_reply": "2022-11-27T11:06:39.017852Z"
        },
        "trusted": true,
        "colab": {
          "base_uri": "https://localhost:8080/",
          "height": 452
        },
        "id": "_dQAd6JAHrSF",
        "outputId": "4598e9ab-dd1a-4a85-836e-221052c29e60"
      },
      "outputs": [
        {
          "output_type": "display_data",
          "data": {
            "text/plain": [
              "<Figure size 640x480 with 2 Axes>"
            ],
            "image/png": "[encoded data removed]"
          },
          "metadata": {}
        }
      ],
      "execution_count": 65
    },
    {
      "cell_type": "code",
      "source": [
        "# OUTLIERS IN PRICE\n",
        "plt.subplot(1,2,1)\n",
        "p1=sns.boxplot(df.price)\n",
        "plt.subplot(1,2,2)\n",
        "p2=sns.distplot(df.price)"
      ],
      "metadata": {
        "execution": {
          "iopub.status.busy": "2022-11-27T11:06:39.020677Z",
          "iopub.execute_input": "2022-11-27T11:06:39.021073Z",
          "iopub.status.idle": "2022-11-27T11:06:39.677861Z",
          "shell.execute_reply.started": "2022-11-27T11:06:39.021039Z",
          "shell.execute_reply": "2022-11-27T11:06:39.676783Z"
        },
        "trusted": true,
        "colab": {
          "base_uri": "https://localhost:8080/",
          "height": 449
        },
        "id": "H-8hebZbHrSF",
        "outputId": "e43b4821-1a7e-4d0f-ecec-5c48d04e6c00"
      },
      "outputs": [
        {
          "output_type": "display_data",
          "data": {
            "text/plain": [
              "<Figure size 640x480 with 2 Axes>"
            ],
            "image/png": "[encoded data removed]"
          },
          "metadata": {}
        }
      ],
      "execution_count": 66
    },
    {
      "cell_type": "markdown",
      "source": [
        "CREATING A NEW VARIABLE FOR A DATA SET WITH NO OUTLIERS."
      ],
      "metadata": {
        "id": "eWuMkisLHrSF"
      }
    },
    {
      "cell_type": "code",
      "source": [
        "new_df=df.copy(deep=True)\n",
        "print(df.shape,new_df.shape)"
      ],
      "metadata": {
        "_kg_hide-input": true,
        "execution": {
          "iopub.status.busy": "2022-11-27T11:06:39.679282Z",
          "iopub.execute_input": "2022-11-27T11:06:39.679624Z",
          "iopub.status.idle": "2022-11-27T11:06:39.690276Z",
          "shell.execute_reply.started": "2022-11-27T11:06:39.679593Z",
          "shell.execute_reply": "2022-11-27T11:06:39.688862Z"
        },
        "trusted": true,
        "colab": {
          "base_uri": "https://localhost:8080/"
        },
        "id": "bZBViYhkHrSK",
        "outputId": "9206d901-c01d-47a9-a0d6-9fda72751e2b"
      },
      "outputs": [
        {
          "output_type": "stream",
          "name": "stdout",
          "text": [
            "(53940, 10) (53940, 10)\n"
          ]
        }
      ],
      "execution_count": 67
    },
    {
      "cell_type": "code",
      "source": [
        "def Outliers_Treatment(new_df,col):\n",
        "    q1=new_df[col].quantile(0.25)\n",
        "    q3=new_df[col].quantile(0.75)\n",
        "    iqr=q3-q1\n",
        "    print(col,iqr)\n",
        "    lb=q1-(1.5*iqr)\n",
        "    ub=q3+(1.5*iqr)\n",
        "    p1=plt.subplot(1,2,1)\n",
        "    sns.boxplot(df[col])\n",
        "    p2=plt.subplot(1,2,2)\n",
        "    sns.boxplot(new_df[col])\n",
        "    #plt.show()\n",
        "    new_df.drop(new_df[(new_df[col]<lb) | (new_df[col]>ub)].index, inplace=True)"
      ],
      "metadata": {
        "execution": {
          "iopub.status.busy": "2022-11-27T11:06:39.691781Z",
          "iopub.execute_input": "2022-11-27T11:06:39.692159Z",
          "iopub.status.idle": "2022-11-27T11:06:39.700315Z",
          "shell.execute_reply.started": "2022-11-27T11:06:39.692127Z",
          "shell.execute_reply": "2022-11-27T11:06:39.699511Z"
        },
        "trusted": true,
        "id": "-xRkiaCiHrSL"
      },
      "outputs": [],
      "execution_count": 68
    },
    {
      "cell_type": "code",
      "source": [
        "print(\"The IQR value for each feature:\")\n",
        "Outliers_Treatment(new_df,\"carat\")\n",
        "Outliers_Treatment(new_df,\"cut\")\n",
        "Outliers_Treatment(new_df,\"color\")\n",
        "Outliers_Treatment(new_df,\"clarity\")\n",
        "Outliers_Treatment(new_df,\"depth\")\n",
        "Outliers_Treatment(new_df,\"table\")\n",
        "Outliers_Treatment(new_df,\"price\")\n",
        "Outliers_Treatment(new_df,\"x\")\n",
        "Outliers_Treatment(new_df,\"y\")\n",
        "Outliers_Treatment(new_df,\"z\")"
      ],
      "metadata": {
        "execution": {
          "iopub.status.busy": "2022-11-27T11:06:39.701464Z",
          "iopub.execute_input": "2022-11-27T11:06:39.702637Z",
          "iopub.status.idle": "2022-11-27T11:06:41.959364Z",
          "shell.execute_reply.started": "2022-11-27T11:06:39.702601Z",
          "shell.execute_reply": "2022-11-27T11:06:41.958277Z"
        },
        "trusted": true,
        "colab": {
          "base_uri": "https://localhost:8080/",
          "height": 602
        },
        "id": "RVhq-CZqHrSL",
        "outputId": "87995728-f737-4360-c9bd-c7897dd9d3f0"
      },
      "outputs": [
        {
          "output_type": "stream",
          "name": "stdout",
          "text": [
            "The IQR value for each feature:\n",
            "carat 0.64\n",
            "cut 3.0\n",
            "color 4.0\n",
            "clarity 2.0\n",
            "depth 1.3999999999999986\n",
            "table 3.0\n",
            "price 4096.0\n",
            "x 1.75\n",
            "y 1.7300000000000004\n",
            "z 1.0900000000000003\n"
          ]
        },
        {
          "output_type": "display_data",
          "data": {
            "text/plain": [
              "<Figure size 640x480 with 2 Axes>"
            ],
            "image/png": "[encoded data removed]"
          },
          "metadata": {}
        }
      ],
      "execution_count": 69
    },
    {
      "cell_type": "markdown",
      "source": [
        "WITH OUTLIERS"
      ],
      "metadata": {
        "id": "DPH8n7KIHrSL"
      }
    },
    {
      "cell_type": "code",
      "source": [
        "# prompt: scale df split into train test with price as target then run xgb regressor with cross validation hyperparameter tuning print MAE rmse\n",
        "\n",
        "import xgboost as xgb\n",
        "from sklearn.model_selection import train_test_split, GridSearchCV\n",
        "from sklearn.metrics import mean_absolute_error, mean_squared_error\n",
        "from sklearn.preprocessing import StandardScaler\n",
        "\n",
        "# Assuming 'new_df' is your DataFrame without outliers (from the provided code)\n",
        "X = new_df.drop('price', axis=1)\n",
        "y = new_df['price']\n",
        "\n",
        "# Scale numerical features\n",
        "scaler = StandardScaler()\n",
        "X = scaler.fit_transform(X)\n",
        "\n",
        "# Split the data\n",
        "X_train, X_test, y_train, y_test = train_test_split(X, y, test_size=0.2, random_state=42)\n",
        "\n",
        "# Define the parameter grid for hyperparameter tuning\n",
        "param_grid = {\n",
        "    'n_estimators': [50, 100, 200],\n",
        "    'max_depth': [3, 5, 7],\n",
        "    'learning_rate': [0.01, 0.1, 0.3]\n",
        "}\n",
        "\n",
        "# Create and train the XGBRegressor with cross-validation and hyperparameter tuning\n",
        "xgb_model = xgb.XGBRegressor(objective='reg:squarederror')  # Specify objective\n",
        "grid_search = GridSearchCV(estimator=xgb_model, param_grid=param_grid, cv=5, scoring='neg_mean_absolute_error')\n",
        "grid_search.fit(X_train, y_train)\n",
        "\n",
        "# Get the best model\n",
        "best_xgb_model = grid_search.best_estimator_\n",
        "\n",
        "# Make predictions\n",
        "y_pred = best_xgb_model.predict(X_test)\n",
        "\n",
        "# Evaluate the model\n",
        "mae_score = mean_absolute_error(y_test, y_pred)\n",
        "rmse_score = np.sqrt(mean_squared_error(y_test, y_pred))\n",
        "\n",
        "print(f\"MAE: {mae_score}\")\n",
        "print(f\"RMSE: {rmse_score}\")\n"
      ],
      "metadata": {
        "colab": {
          "base_uri": "https://localhost:8080/"
        },
        "id": "-xudknGbsUBq",
        "outputId": "3e48c02e-83a3-4bc7-bd7f-57a1effb8c27"
      },
      "execution_count": 70,
      "outputs": [
        {
          "output_type": "stream",
          "name": "stdout",
          "text": [
            "MAE: 198.08950805664062\n",
            "RMSE: 353.2730110162677\n"
          ]
        }
      ]
    },
    {
      "cell_type": "code",
      "source": [],
      "metadata": {
        "id": "34L2ypY_tueW"
      },
      "execution_count": 71,
      "outputs": []
    },
    {
      "cell_type": "code",
      "source": [
        "from re import VERBOSE\n",
        "# prompt: scale df split into train test with price as target then run xgb regressor with cross validation with more hyperparameters tuning print MAE rmse\n",
        "\n",
        "# Assuming 'new_df' is your DataFrame without outliers (from the provided code)\n",
        "X = new_df.drop('price', axis=1)\n",
        "y = new_df['price']\n",
        "\n",
        "# Scale numerical features\n",
        "scaler = StandardScaler()\n",
        "X = scaler.fit_transform(X)\n",
        "\n",
        "# Split the data\n",
        "X_train, X_test, y_train, y_test = train_test_split(X, y, test_size=0.2, random_state=42)\n",
        "\n",
        "# Define the parameter grid for hyperparameter tuning\n",
        "param_grid = {\n",
        "    'n_estimators': [50, 100, 200],\n",
        "    'max_depth': [3, 5, 7],\n",
        "    'learning_rate': [0.01, 0.1, 0.3],\n",
        "    'colsample_bytree': [0.8, 0.9, 1.0],\n",
        "    #'subsample': [0.8, 0.9, 1.0],\n",
        "    #'VERBOSE': [True],\n",
        "}\n",
        "\n",
        "\n",
        "\n",
        "\n",
        "\n",
        "\n",
        "# Create and train the XGBRegressor with cross-validation and hyperparameter tuning\n",
        "xgb_model = xgb.XGBRegressor(objective='reg:squarederror')  # Specify objective\n",
        "grid_search = GridSearchCV(estimator=xgb_model, param_grid=param_grid, cv=5, scoring='neg_mean_absolute_error')\n",
        "grid_search.fit(X_train, y_train)\n",
        "\n",
        "# Get the best model\n",
        "best_xgb_model = grid_search.best_estimator_\n",
        "\n",
        "# Make predictions\n",
        "y_pred = best_xgb_model.predict(X_test)\n",
        "\n",
        "# Evaluate the model\n",
        "mae_score = mean_absolute_error(y_test, y_pred)\n",
        "rmse_score = np.sqrt(mean_squared_error(y_test, y_pred))\n",
        "\n",
        "print(f\"MAE: {mae_score}\")\n",
        "print(f\"RMSE: {rmse_score}\")\n"
      ],
      "metadata": {
        "colab": {
          "base_uri": "https://localhost:8080/"
        },
        "outputId": "5e4bfed3-0a2a-4913-e346-d5dc528d28ab",
        "id": "QnPRxRF0tz3i"
      },
      "execution_count": 72,
      "outputs": [
        {
          "output_type": "stream",
          "name": "stdout",
          "text": [
            "MAE: 196.4253692626953\n",
            "RMSE: 352.60880413001604\n"
          ]
        }
      ]
    },
    {
      "cell_type": "markdown",
      "source": [
        "This is the model with the lowest MAE. It uses XGB regressor, crossvalidation, some hyoerparameter tuning and outlier removal. Compared to the computation above this has the extra parameter of colsample_bytree and it improves the MAE by 2 points.\n"
      ],
      "metadata": {
        "id": "g8jAqVoX_yln"
      }
    },
    {
      "cell_type": "code",
      "source": [],
      "metadata": {
        "id": "B-jsMtPcoslV"
      },
      "execution_count": null,
      "outputs": []
    }
  ]
}