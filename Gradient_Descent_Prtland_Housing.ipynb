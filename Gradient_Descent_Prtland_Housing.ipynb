{
  "cells": [
    {
      "cell_type": "markdown",
      "metadata": {
        "id": "view-in-github",
        "colab_type": "text"
      },
      "source": [
        "<a href=\"https://colab.research.google.com/github/swapnil2009/DataScience/blob/main/Gradient_Descent_Prtland_Housing.ipynb\" target=\"_parent\"><img src=\"https://colab.research.google.com/assets/colab-badge.svg\" alt=\"Open In Colab\"/></a>"
      ]
    },
    {
      "cell_type": "code",
      "execution_count": 2,
      "id": "8afa1e41",
      "metadata": {
        "colab": {
          "base_uri": "https://localhost:8080/"
        },
        "id": "8afa1e41",
        "outputId": "4ed3387a-43d9-4929-bb62-311d2aadcfbe"
      },
      "outputs": [
        {
          "output_type": "stream",
          "name": "stdout",
          "text": [
            "The GD estimate of regression of Price on Size is price = 0.0310 + 0.9180 * size.\n"
          ]
        }
      ],
      "source": [
        "\n",
        "def read_column(portland_housing_full, col):\n",
        "    with open(portland_housing_full) as file:\n",
        "        result = []\n",
        "        next(file)\n",
        "        for line in file:\n",
        "            row = line.strip().split(',')\n",
        "            result.append(int(row[col]))\n",
        "        return result\n",
        "\n",
        "def standardize(data):\n",
        "    # Implemented min-max standardization\n",
        "    min_val = min(data)\n",
        "    max_val = max(data)\n",
        "    return [(x - min_val) / (max_val - min_val) for x in data]\n",
        "\n",
        "def gradient_descent(x, y, lr, a=0, b=0):\n",
        "    # Implemented gradient descent\n",
        "    step_size_a = 1\n",
        "    step_size_b = 1\n",
        "\n",
        "    # Loop until both step sizes are smaller than the threshold\n",
        "    while abs(step_size_a) >= 0.0001 or abs(step_size_b) >= 0.0001:\n",
        "        gradient_a = -2 * sum([y_i - (a + b * x_i) for x_i, y_i in zip(x, y)])\n",
        "        gradient_b = -2 * sum([(y_i - (a + b * x_i)) * x_i for x_i, y_i in zip(x, y)])\n",
        "\n",
        "        step_size_a = gradient_a * lr\n",
        "        step_size_b = gradient_b * lr\n",
        "\n",
        "        a -= step_size_a\n",
        "        b -= step_size_b\n",
        "\n",
        "    return a, b\n",
        "\n",
        "# Read data\n",
        "sizes = read_column('portland_housing_full.csv', 0)\n",
        "prices = read_column('portland_housing_full.csv', 2)\n",
        "\n",
        "# Standardize data\n",
        "prices_std = standardize(prices)\n",
        "sizes_std = standardize(sizes)\n",
        "\n",
        "# Perform gradient descent\n",
        "a, b = gradient_descent(sizes_std, prices_std, 0.01)\n",
        "\n",
        "# Print the result\n",
        "print(f'The GD estimate of regression of Price on Size is price = {a:.4f} + {b:.4f} * size.')\n"
      ]
    }
  ],
  "metadata": {
    "colab": {
      "provenance": [],
      "include_colab_link": true
    },
    "language_info": {
      "name": "python"
    },
    "kernelspec": {
      "name": "python3",
      "display_name": "Python 3"
    }
  },
  "nbformat": 4,
  "nbformat_minor": 5
}