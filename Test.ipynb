import yfinance as yf
import pandas as pd
import numpy as np
from sklearn.preprocessing import MinMaxScaler
from tensorflow.keras.models import Sequential
from tensorflow.keras.layers import LSTM, Dense

# Download historical stock data from Yahoo Finance
ticker = "AMD"
data = yf.download(ticker, period="1y", interval="1d")
data.to_csv("amd_stock_data.csv")  # Save data to CSV file

# Load the historical stock data
data = pd.read_csv("amd_stock_data.csv")

# Prepare the data
prices = data["Close"].values.reshape(-1, 1)
scaler = MinMaxScaler(feature_range=(0, 1))
scaled_prices = scaler.fit_transform(prices)

# Prepare the training data
train_size = int(len(scaled_prices) * 0.8)
train_data = scaled_prices[:train_size]

# Create the training sequences
sequence_length = 10
X_train = []
y_train = []
for i in range(sequence_length, len(train_data)):
    X_train.append(train_data[i - sequence_length:i])
    y_train.append(train_data[i])
X_train, y_train = np.array(X_train), np.array(y_train)

# Build the LSTM model
model = Sequential()
model.add(LSTM(units=50, return_sequences=True, input_shape=(X_train.shape[1], 1)))
model.add(LSTM(units=50))
model.add(Dense(units=1))

# Compile the model
model.compile(optimizer='adam', loss='mean_squared_error')

# Train the model
model.fit(X_train, y_train, epochs=10, batch_size=16, verbose=2)

# Predict the lowest and highest prices for the next two days
inputs = scaled_prices[-sequence_length:]
predicted_prices = []
for _ in range(2):
    inputs = inputs.reshape(1, sequence_length, 1)
    predicted_price = model.predict(inputs)
    predicted_prices.append(predicted_price[0, 0])
    inputs = np.append(inputs[:, 1:, :], [[[predicted_price[0, 0]]]], axis=1)

# Scale back the predicted prices to their original range
predicted_prices = scaler.inverse_transform(np.array(predicted_prices).reshape(-1, 1))

print("Predicted lowest price for tomorrow:", predicted_prices[0])
print("Predicted highest price for tomorrow:", predicted_prices[1])
